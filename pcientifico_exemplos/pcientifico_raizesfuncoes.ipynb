{
 "cells": [
  {
   "cell_type": "markdown",
   "metadata": {},
   "source": [
    "# Raízes de Funções\n",
    "## Andre Nepomuceno - UFF"
   ]
  },
  {
   "cell_type": "markdown",
   "metadata": {},
   "source": [
    "**1. Encontrando raízes de funções**"
   ]
  },
  {
   "cell_type": "code",
   "execution_count": 1,
   "metadata": {},
   "outputs": [],
   "source": [
    "import numpy as np\n",
    "import matplotlib.pyplot as plt\n",
    "%matplotlib inline\n",
    "from scipy.optimize import brentq, newton, fsolve"
   ]
  },
  {
   "cell_type": "markdown",
   "metadata": {},
   "source": [
    "Exemplo 1:\n",
    "\\begin{equation}\n",
    "    f(x) \\, = \\, \\frac{1}{5} + x \\textrm{cos} \\left ( \\frac{3}{x} \\right ).\n",
    "    \\nonumber\n",
    "\\end{equation}"
   ]
  },
  {
   "cell_type": "code",
   "execution_count": 2,
   "metadata": {},
   "outputs": [],
   "source": [
    "f1 = lambda x: 0.2 + x*np.cos(3/x)"
   ]
  },
  {
   "cell_type": "code",
   "execution_count": 3,
   "metadata": {},
   "outputs": [
    {
     "data": {
      "text/plain": [
       "<matplotlib.lines.Line2D at 0x7fd4451cc350>"
      ]
     },
     "execution_count": 3,
     "metadata": {},
     "output_type": "execute_result"
    },
    {
     "data": {
      "image/png": "[encoded data removed]",
      "text/plain": [
       "<Figure size 432x288 with 1 Axes>"
      ]
     },
     "metadata": {
      "needs_background": "light"
     },
     "output_type": "display_data"
    }
   ],
   "source": [
    "x = np.linspace(-1,1,200)\n",
    "plt.plot(x,f1(x))\n",
    "plt.axhline(0, c='k',ls='--')"
   ]
  },
  {
   "cell_type": "code",
   "execution_count": 4,
   "metadata": {},
   "outputs": [
    {
     "name": "stdout",
     "output_type": "stream",
     "text": [
      "1.0\n",
      "-1.0\n"
     ]
    }
   ],
   "source": [
    "#intervalo [-0.7,-0.5]\n",
    "print(np.sign(f1(-0.7)))\n",
    "print(np.sign(f1(-0.5)))"
   ]
  },
  {
   "cell_type": "code",
   "execution_count": 5,
   "metadata": {},
   "outputs": [
    {
     "data": {
      "text/plain": [
       "-0.5933306271014237"
      ]
     },
     "execution_count": 5,
     "metadata": {},
     "output_type": "execute_result"
    }
   ],
   "source": [
    "#calcule as raizes\n",
    "brentq(f1,-0.7,-0.5)"
   ]
  },
  {
   "cell_type": "markdown",
   "metadata": {},
   "source": [
    "Exemplo 2:\n",
    "\\begin{equation}\n",
    "    f(x) \\, = \\, e^x - 2\n",
    "    \\nonumber\n",
    "\\end{equation}"
   ]
  },
  {
   "cell_type": "code",
   "execution_count": 6,
   "metadata": {},
   "outputs": [
    {
     "name": "stdout",
     "output_type": "stream",
     "text": [
      "0.6931471805599453\n"
     ]
    }
   ],
   "source": [
    "f2 = lambda x: np.exp(x) - 2\n",
    "fprime = lambda x: np.exp(x)\n",
    "x0 = 2\n",
    "xsol = newton(f2,x0,fprime=fprime)\n",
    "print(xsol)"
   ]
  },
  {
   "cell_type": "code",
   "execution_count": 7,
   "metadata": {},
   "outputs": [
    {
     "data": {
      "text/plain": [
       "True"
      ]
     },
     "execution_count": 7,
     "metadata": {},
     "output_type": "execute_result"
    }
   ],
   "source": [
    "#verifique a solução\n",
    "np.isclose(f2(xsol),0,atol=1e-10)"
   ]
  },
  {
   "cell_type": "markdown",
   "metadata": {},
   "source": [
    "**2. Raízes de Polinômio**"
   ]
  },
  {
   "cell_type": "markdown",
   "metadata": {},
   "source": [
    "Exemplo:\n",
    "    \\begin{equation}\n",
    "    f(x) = x^4 + x + 1\n",
    "    \\end{equation}"
   ]
  },
  {
   "cell_type": "code",
   "execution_count": 8,
   "metadata": {},
   "outputs": [
    {
     "data": {
      "text/plain": [
       "array([ 0.72713608+0.93409929j,  0.72713608-0.93409929j,\n",
       "       -0.72713608+0.43001429j, -0.72713608-0.43001429j])"
      ]
     },
     "execution_count": 8,
     "metadata": {},
     "output_type": "execute_result"
    }
   ],
   "source": [
    "#Vamos passar os coenficientes do polinômio\n",
    "coef = [1,0,0,1,1]\n",
    "np.roots(coef)"
   ]
  },
  {
   "cell_type": "markdown",
   "metadata": {},
   "source": [
    "**3. Sistemas de Eq. não Lineares**"
   ]
  },
  {
   "cell_type": "markdown",
   "metadata": {},
   "source": [
    "Exemplo: \n",
    "    \\begin{align*}\n",
    "    y - x^3 - 2x^2 +1 &= \\,0 ,\\\\\n",
    "    y + x^2 -1   &= \\, 0\n",
    "\\end{align*}"
   ]
  },
  {
   "cell_type": "code",
   "execution_count": 9,
   "metadata": {},
   "outputs": [],
   "source": [
    "def f(x):\n",
    "    return [ x[1] - x[0]**3 - 2*x[0]**2 +1, x[1]+x[0]**2 - 1 ]"
   ]
  },
  {
   "cell_type": "code",
   "execution_count": 10,
   "metadata": {},
   "outputs": [
    {
     "name": "stdout",
     "output_type": "stream",
     "text": [
      "[0.73205081 0.46410162]\n"
     ]
    }
   ],
   "source": [
    "xsol = fsolve(f,[1,1])\n",
    "print(xsol)"
   ]
  },
  {
   "cell_type": "code",
   "execution_count": 11,
   "metadata": {},
   "outputs": [
    {
     "data": {
      "text/plain": [
       "array([ True,  True])"
      ]
     },
     "execution_count": 11,
     "metadata": {},
     "output_type": "execute_result"
    }
   ],
   "source": [
    "np.isclose(f(xsol),[0,0])"
   ]
  },
  {
   "cell_type": "code",
   "execution_count": 12,
   "metadata": {},
   "outputs": [],
   "source": [
    "#jacobiano\n",
    "def f_jacobian(x):\n",
    "    return [[-3*x[0]**2 - 4*x[0], 1], [2*x[0], 1]]"
   ]
  },
  {
   "cell_type": "code",
   "execution_count": 13,
   "metadata": {},
   "outputs": [
    {
     "name": "stdout",
     "output_type": "stream",
     "text": [
      "[0.73205081 0.46410162]\n",
      "[-2.73205081 -6.46410162]\n"
     ]
    }
   ],
   "source": [
    "x1 = fsolve(f,[1,1], fprime=f_jacobian)\n",
    "x2 = fsolve(f,[-2,-5], fprime=f_jacobian)\n",
    "print(x1)\n",
    "print(x2)"
   ]
  },
  {
   "cell_type": "code",
   "execution_count": 24,
   "metadata": {},
   "outputs": [
    {
     "data": {
      "image/png": "[encoded data removed]",
      "text/plain": [
       "<Figure size 432x288 with 1 Axes>"
      ]
     },
     "metadata": {
      "needs_background": "light"
     },
     "output_type": "display_data"
    }
   ],
   "source": [
    "x = np.linspace(-4,2,100)\n",
    "plt.plot(x,x**3+2*x**2-1)\n",
    "plt.plot(x,-x**2+1)\n",
    "plt.plot(x1[0],x1[1],'r*')\n",
    "plt.plot(x2[0],x2[1],'r*')\n",
    "plt.ylim(-20,10)\n",
    "plt.xlabel('x',fontsize=12)\n",
    "plt.ylabel('y',fontsize=12)\n",
    "plt.grid(axis='y',ls='--')"
   ]
  }
 ],
 "metadata": {
  "kernelspec": {
   "display_name": "Python 3",
   "language": "python",
   "name": "python3"
  },
  "language_info": {
   "codemirror_mode": {
    "name": "ipython",
    "version": 3
   },
   "file_extension": ".py",
   "mimetype": "text/x-python",
   "name": "python",
   "nbconvert_exporter": "python",
   "pygments_lexer": "ipython3",
   "version": "3.7.4"
  }
 },
 "nbformat": 4,
 "nbformat_minor": 2
}

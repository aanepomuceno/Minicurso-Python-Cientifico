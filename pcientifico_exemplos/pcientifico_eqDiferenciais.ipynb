{
 "cells": [
  {
   "cell_type": "markdown",
   "metadata": {},
   "source": [
    "# SciPy - Equações Diferenciais\n",
    "## Andre Nepomuceno - UFF"
   ]
  },
  {
   "cell_type": "code",
   "execution_count": 54,
   "metadata": {},
   "outputs": [],
   "source": [
    "import numpy as np\n",
    "import matplotlib.pyplot as plt\n",
    "from scipy.integrate import solve_ivp\n",
    "%matplotlib inline"
   ]
  },
  {
   "cell_type": "markdown",
   "metadata": {},
   "source": [
    "**Exemplo 1 - Uma eq. de primeira ordem**"
   ]
  },
  {
   "cell_type": "code",
   "execution_count": 69,
   "metadata": {},
   "outputs": [],
   "source": [
    "def dydt(t,y):\n",
    "    return -k*y"
   ]
  },
  {
   "cell_type": "code",
   "execution_count": 70,
   "metadata": {},
   "outputs": [],
   "source": [
    "k = 0.2\n",
    "#valor de y em t = 0\n",
    "y0 = 100\n",
    "#intervalo de tempo\n",
    "t0, tf = 0,20"
   ]
  },
  {
   "cell_type": "code",
   "execution_count": 71,
   "metadata": {},
   "outputs": [
    {
     "data": {
      "text/plain": [
       "  message: 'The solver successfully reached the end of the integration interval.'\n",
       "     nfev: 44\n",
       "     njev: 0\n",
       "      nlu: 0\n",
       "      sol: None\n",
       "   status: 0\n",
       "  success: True\n",
       "        t: array([ 0.        ,  0.13797324,  1.51770566,  6.11233264, 10.70695962,\n",
       "       15.30158659, 19.89621357, 20.        ])\n",
       " t_events: None\n",
       "        y: array([[100.        ,  97.27826059,  73.81996665,  29.46989971,\n",
       "         11.76477081,   4.69665094,   1.87496471,   1.83644668]])"
      ]
     },
     "execution_count": 71,
     "metadata": {},
     "output_type": "execute_result"
    }
   ],
   "source": [
    "solve_ivp (dydt , (t0 , tf), y0 = [y0])"
   ]
  },
  {
   "cell_type": "code",
   "execution_count": 72,
   "metadata": {},
   "outputs": [
    {
     "data": {
      "text/plain": [
       "array([[100.        ,  97.27826059,  73.81996665,  29.46989971,\n",
       "         11.76477081,   4.69665094,   1.87496471,   1.83644668]])"
      ]
     },
     "execution_count": 72,
     "metadata": {},
     "output_type": "execute_result"
    }
   ],
   "source": [
    "sol1 = solve_ivp (dydt ,(t0, tf), [y0])\n",
    "sol1.y"
   ]
  },
  {
   "cell_type": "code",
   "execution_count": 73,
   "metadata": {},
   "outputs": [
    {
     "data": {
      "text/plain": [
       "[<matplotlib.lines.Line2D at 0x7f210be09f10>]"
      ]
     },
     "execution_count": 73,
     "metadata": {},
     "output_type": "execute_result"
    },
    {
     "data": {
      "image/png": "[encoded data removed]",
      "text/plain": [
       "<Figure size 432x288 with 1 Axes>"
      ]
     },
     "metadata": {
      "needs_background": "light"
     },
     "output_type": "display_data"
    }
   ],
   "source": [
    "plt.plot(sol1.t,sol1.y[0],'ok')"
   ]
  },
  {
   "cell_type": "markdown",
   "metadata": {},
   "source": [
    "Para obter a solução com uma maior resolução temporal, podemos passar um array para o argumenot **t_eval**"
   ]
  },
  {
   "cell_type": "code",
   "execution_count": 74,
   "metadata": {},
   "outputs": [],
   "source": [
    "tpoints = np.linspace(t0,tf,30)"
   ]
  },
  {
   "cell_type": "code",
   "execution_count": 67,
   "metadata": {},
   "outputs": [],
   "source": [
    "sol2 = solve_ivp (dydt, (t0, tf), [y0],t_eval=tpoints)\n",
    "t,y = sol2.t, sol2.y[0]"
   ]
  },
  {
   "cell_type": "code",
   "execution_count": 68,
   "metadata": {},
   "outputs": [
    {
     "data": {
      "text/plain": [
       "<matplotlib.legend.Legend at 0x7f210be43ed0>"
      ]
     },
     "execution_count": 68,
     "metadata": {},
     "output_type": "execute_result"
    },
    {
     "data": {
      "image/png": "[encoded data removed]",
      "text/plain": [
       "<Figure size 432x288 with 1 Axes>"
      ]
     },
     "metadata": {
      "needs_background": "light"
     },
     "output_type": "display_data"
    }
   ],
   "source": [
    "#Vamos comparar a solução numérica e exata\n",
    "f = lambda t: y0*np.exp(-k*t)\n",
    "plt.plot(sol2.t, f(sol2.t),'k-',lw=2,label='Exato')\n",
    "plt.plot(sol2.t, sol2.y[0],'ro',label='Numerico')\n",
    "plt.legend(frameon=False,fontsize=12)"
   ]
  },
  {
   "cell_type": "markdown",
   "metadata": {},
   "source": [
    "**Exemplo 2 - EDOs acopladas**\n",
    "\\begin{eqnarray*}\n",
    "\\frac{dS}{dt}& = &-\\beta SI, \\\\\n",
    "\\frac{dI}{dt}& = &\\beta SI - \\gamma I, \\\\\n",
    "\\frac{dR}{dt}& = & \\gamma I, \\\\\n",
    "\\end{eqnarray*}"
   ]
  },
  {
   "cell_type": "code",
   "execution_count": 43,
   "metadata": {},
   "outputs": [],
   "source": [
    "#Definir N e valores iniciais\n",
    "N = 100000\n",
    "I0 = 2\n",
    "S0 = N-2\n",
    "R0 = 0\n",
    "t0,tf = 0,120 #120 dias"
   ]
  },
  {
   "cell_type": "code",
   "execution_count": 44,
   "metadata": {},
   "outputs": [],
   "source": [
    "#definir as funcoes\n",
    "def dydt(t,y,beta=5.0e-6,gamma=0.2):\n",
    "    S,I,R = y\n",
    "    dSdt = -beta*S*I\n",
    "    dIdt = beta*S*I - gamma*I\n",
    "    dRdt = gamma*I\n",
    "    return dSdt, dIdt, dRdt"
   ]
  },
  {
   "cell_type": "code",
   "execution_count": 47,
   "metadata": {},
   "outputs": [
    {
     "name": "stdout",
     "output_type": "stream",
     "text": [
      "True\n"
     ]
    }
   ],
   "source": [
    "sol3 = solve_ivp(dydt,(t0, tf), y0=[S0,I0,R0],dense_output=True)\n",
    "#sol3 = solve_ivp(dydt,(t0, tf), y0=[S0,I0,R0],args=(beta,gamma)) (scipy > 1.4)\n",
    "print(sol3.success)"
   ]
  },
  {
   "cell_type": "code",
   "execution_count": 65,
   "metadata": {},
   "outputs": [
    {
     "data": {
      "text/plain": [
       "<matplotlib.legend.Legend at 0x7f64a608ca50>"
      ]
     },
     "execution_count": 65,
     "metadata": {},
     "output_type": "execute_result"
    },
    {
     "data": {
      "image/png": "[encoded data removed]",
      "text/plain": [
       "<Figure size 432x288 with 1 Axes>"
      ]
     },
     "metadata": {
      "needs_background": "light"
     },
     "output_type": "display_data"
    }
   ],
   "source": [
    "#vamos plotar as soluções\n",
    "t = np.linspace(t0,tf,200)\n",
    "st = sol3.sol(t)[0]/1e4\n",
    "it = sol3.sol(t)[1]/1e4\n",
    "rt = sol3.sol(t)[2]/1e4\n",
    "plt.plot(t,st,'b',label='S')\n",
    "plt.plot(t,it,'r',label='I')\n",
    "plt.plot(t,rt,'g',label='R')\n",
    "plt.xlabel('tempo (Dias)',fontsize=12)\n",
    "plt.ylabel('Num de Casos ( $x 10^4$)',fontsize=12)\n",
    "plt.legend(frameon=False,loc='center left',fontsize=12)"
   ]
  },
  {
   "cell_type": "markdown",
   "metadata": {},
   "source": [
    "**Exemplo 3 - EDOs de Segunda Ordem**\n",
    "\\begin{equation}\n",
    "    \\frac{d^2x}{dt^2} \\,=\\, - \\omega^2 x \\nonumber\n",
    "\\end{equation}"
   ]
  },
  {
   "cell_type": "code",
   "execution_count": 67,
   "metadata": {},
   "outputs": [],
   "source": [
    "#fazemos x1 = x e x2 = dx/dt (velc.)\n",
    "#dx1/dt = x2\n",
    "#dx2/dt = -omega^2x1"
   ]
  },
  {
   "cell_type": "code",
   "execution_count": 68,
   "metadata": {},
   "outputs": [],
   "source": [
    "omega = 0.9\n",
    "A = 3\n",
    "v0 = 0\n",
    "t0,tf = 0,20"
   ]
  },
  {
   "cell_type": "code",
   "execution_count": 69,
   "metadata": {},
   "outputs": [],
   "source": [
    "def dxdt(t,x):\n",
    "    x1,x2 = x\n",
    "    dx1dt = x2\n",
    "    dx2dt = -omega**2*x1\n",
    "    return dx1dt,dx2dt"
   ]
  },
  {
   "cell_type": "code",
   "execution_count": 73,
   "metadata": {},
   "outputs": [
    {
     "name": "stdout",
     "output_type": "stream",
     "text": [
      "True\n"
     ]
    }
   ],
   "source": [
    "sol4 = solve_ivp(dxdt,(t0,tf),y0=[A,v0],dense_output=True)\n",
    "print(sol4.success)"
   ]
  },
  {
   "cell_type": "code",
   "execution_count": 85,
   "metadata": {},
   "outputs": [
    {
     "data": {
      "text/plain": [
       "<matplotlib.legend.Legend at 0x7f64a5a52510>"
      ]
     },
     "execution_count": 85,
     "metadata": {},
     "output_type": "execute_result"
    },
    {
     "data": {
      "image/png": "[encoded data removed]",
      "text/plain": [
       "<Figure size 432x288 with 1 Axes>"
      ]
     },
     "metadata": {
      "needs_background": "light"
     },
     "output_type": "display_data"
    }
   ],
   "source": [
    "#plot solução\n",
    "t = np.linspace(t0,tf,100)\n",
    "x_ext = lambda x: A*np.cos(omega*t)\n",
    "plt.plot(t,x_ext(t),'k',label='Exato')\n",
    "plt.plot(t,sol4.sol(t)[0],'r*',label='Numerico')\n",
    "plt.ylim(-3.2,4.5)\n",
    "plt.legend(frameon=False,fontsize=12,loc='upper right')"
   ]
  },
  {
   "cell_type": "markdown",
   "metadata": {},
   "source": [
    "**Exemplo 4 - \"Stiff Problem\"**\n",
    "\\begin{eqnarray*}\n",
    "\\dot x \\, \\equiv \\, \\frac{dx}{dt} &= &-0.04x + 10^4yz, \\\\\n",
    "\\dot y \\, \\equiv \\, \\frac{dy}{dt}& = &0.04x -  10^4yz - 3 \\times 10^7 y^2, \\\\\n",
    "\\dot z \\, \\equiv \\, \\frac{dz}{dt}& = &3 \\times 10^7 y^2. \\\\\n",
    "\\end{eqnarray*}"
   ]
  },
  {
   "cell_type": "code",
   "execution_count": 75,
   "metadata": {},
   "outputs": [],
   "source": [
    "def deriv(t,Y):\n",
    "    x,y,z = Y\n",
    "    xdot = -0.04*x + 1.e4*y*z\n",
    "    ydot = 0.04*x - 1.e4*y*z - 3.e7*y**2\n",
    "    zdot = 3.e7*y**2\n",
    "    return xdot, ydot, zdot"
   ]
  },
  {
   "cell_type": "code",
   "execution_count": 76,
   "metadata": {},
   "outputs": [],
   "source": [
    "#tempo entre 0 e 500\n",
    "t0,tf = 0,500\n",
    "y0 = [1.,0,0]\n",
    "#tpoints = np.linspace(t0,tf,10000)"
   ]
  },
  {
   "cell_type": "code",
   "execution_count": 77,
   "metadata": {},
   "outputs": [
    {
     "name": "stdout",
     "output_type": "stream",
     "text": [
      "  message: 'Required step size is less than spacing between numbers.'\n",
      "     nfev: 11168\n",
      "     njev: 0\n",
      "      nlu: 0\n",
      "      sol: None\n",
      "   status: -1\n",
      "  success: False\n",
      "        t: array([0.00000000e+00, 6.36669332e-04, 1.06518798e-03, ...,\n",
      "       1.67028961e+00, 1.67028961e+00, 1.67028961e+00])\n",
      " t_events: None\n",
      "        y: array([[ 1.00000000e+00,  9.99974534e-01,  9.99957394e-01, ...,\n",
      "        -8.36811057e+02, -1.36054598e+03, -2.19689744e+03],\n",
      "       [ 0.00000000e+00,  2.20107324e-05,  3.00616449e-05, ...,\n",
      "        -2.51160357e+06, -4.08176067e+06, -6.58914204e+06],\n",
      "       [ 0.00000000e+00,  3.45561028e-06,  1.25439771e-05, ...,\n",
      "         2.51244138e+06,  4.08312221e+06,  6.59133994e+06]])\n"
     ]
    }
   ],
   "source": [
    "sol5 = solve_ivp(deriv,(t0,tf), y0=y0)\n",
    "print(sol5)"
   ]
  },
  {
   "cell_type": "code",
   "execution_count": 78,
   "metadata": {},
   "outputs": [
    {
     "name": "stdout",
     "output_type": "stream",
     "text": [
      "  message: 'The solver successfully reached the end of the integration interval.'\n",
      "     nfev: 248\n",
      "     njev: 14\n",
      "      nlu: 60\n",
      "      sol: None\n",
      "   status: 0\n",
      "  success: True\n",
      "        t: array([0.00000000e+00, 7.06687545e-04, 1.47212739e-03, 2.61769904e-03,\n",
      "       3.80990518e-03, 7.40319795e-03, 1.99267900e-02, 9.15997472e-02,\n",
      "       3.15874718e-01, 9.63977911e-01, 1.61208110e+00, 2.95571284e+00,\n",
      "       4.72814194e+00, 7.40529599e+00, 1.10497294e+01, 1.66227965e+01,\n",
      "       2.43514183e+01, 3.62943316e+01, 5.30400460e+01, 7.90938774e+01,\n",
      "       1.15745229e+02, 1.72751217e+02, 2.52482643e+02, 3.75561500e+02,\n",
      "       5.00000000e+02])\n",
      " t_events: None\n",
      "        y: array([[1.00000000e+00, 9.99971733e-01, 9.99941120e-01, 9.99895320e-01,\n",
      "        9.99847678e-01, 9.99704224e-01, 9.99205871e-01, 9.96401273e-01,\n",
      "        9.88109568e-01, 9.67486618e-01, 9.50502923e-01, 9.22677981e-01,\n",
      "        8.95131183e-01, 8.64276025e-01, 8.33393627e-01, 7.98937874e-01,\n",
      "        7.64261851e-01, 7.25604540e-01, 6.86701763e-01, 6.43544218e-01,\n",
      "        6.00514845e-01, 5.53454037e-01, 5.07491788e-01, 4.58380663e-01,\n",
      "        4.22679312e-01],\n",
      "       [0.00000000e+00, 2.37137478e-05, 3.36877365e-05, 3.62569765e-05,\n",
      "        3.64772143e-05, 3.64693124e-05, 3.63782130e-05, 3.58634001e-05,\n",
      "        3.43776987e-05, 3.09104400e-05, 2.82988494e-05, 2.44837858e-05,\n",
      "        2.12411190e-05, 1.81735912e-05, 1.56170397e-05, 1.32681830e-05,\n",
      "        1.13318921e-05, 9.57535875e-06, 8.13215151e-06, 6.82932244e-06,\n",
      "        5.76214027e-06, 4.80280346e-06, 4.02226217e-06, 3.32397393e-06,\n",
      "        2.88518341e-06],\n",
      "       [0.00000000e+00, 4.55318401e-06, 2.51921817e-05, 6.84231424e-05,\n",
      "        1.15845037e-04, 2.59306780e-04, 7.57750589e-04, 3.56286337e-03,\n",
      "        1.18560541e-02, 3.24824714e-02, 4.94687778e-02, 7.72975351e-02,\n",
      "        1.04847576e-01, 1.35705802e-01, 1.66590755e-01, 2.01048858e-01,\n",
      "        2.35726817e-01, 2.74385885e-01, 3.13290104e-01, 3.56448952e-01,\n",
      "        3.99479393e-01, 4.46541161e-01, 4.92504190e-01, 5.41616013e-01,\n",
      "        5.77317803e-01]])\n"
     ]
    }
   ],
   "source": [
    "sol6 = solve_ivp(deriv,(t0,tf), y0=y0,method='Radau')\n",
    "print(sol6)"
   ]
  },
  {
   "cell_type": "code",
   "execution_count": 79,
   "metadata": {},
   "outputs": [
    {
     "data": {
      "text/plain": [
       "<matplotlib.legend.Legend at 0x7f210bed9250>"
      ]
     },
     "execution_count": 79,
     "metadata": {},
     "output_type": "execute_result"
    },
    {
     "data": {
      "image/png": "[encoded data removed]",
      "text/plain": [
       "<Figure size 432x288 with 1 Axes>"
      ]
     },
     "metadata": {
      "needs_background": "light"
     },
     "output_type": "display_data"
    }
   ],
   "source": [
    "#Plotar a solução\n",
    "YFAC = 1e4\n",
    "plt.plot(sol6.t,sol6.y[0],'r',label='[X]')\n",
    "plt.plot(sol6.t,YFAC*sol6.y[1],'b',label='$10^4$ x [Y]')\n",
    "plt.plot(sol6.t,sol6.y[2],'g',label='[Z]')\n",
    "plt.xlabel('t (s)',fontsize=12)\n",
    "plt.ylabel('Concentração',fontsize=12)\n",
    "plt.legend(frameon=False, fontsize=12)"
   ]
  },
  {
   "cell_type": "markdown",
   "metadata": {},
   "source": [
    "**Exemplo 5 - Incluir Evento**\n",
    "\\begin{equation}\n",
    "\\frac{dv}{dt} = -3\n",
    "\\end{equation}"
   ]
  },
  {
   "cell_type": "code",
   "execution_count": 80,
   "metadata": {},
   "outputs": [],
   "source": [
    "#função evento\n",
    "def carro_parado(t,y):\n",
    "    return y[0]"
   ]
  },
  {
   "cell_type": "code",
   "execution_count": 87,
   "metadata": {},
   "outputs": [],
   "source": [
    "def vel(t,y):\n",
    "    return -3"
   ]
  },
  {
   "cell_type": "code",
   "execution_count": 88,
   "metadata": {},
   "outputs": [],
   "source": [
    "t0, tf = 0, 50\n",
    "v0 = 20."
   ]
  },
  {
   "cell_type": "code",
   "execution_count": 89,
   "metadata": {},
   "outputs": [
    {
     "name": "stdout",
     "output_type": "stream",
     "text": [
      "  message: 'A termination event occurred.'\n",
      "     nfev: 20\n",
      "     njev: 0\n",
      "      nlu: 0\n",
      "      sol: None\n",
      "   status: 1\n",
      "  success: True\n",
      "        t: array([0.        , 0.14614572, 1.60760288, 6.66666667])\n",
      " t_events: [array([6.66666667])]\n",
      "        y: array([[ 2.00000000e+01,  1.95615629e+01,  1.51771914e+01,\n",
      "        -1.77635684e-15]])\n"
     ]
    }
   ],
   "source": [
    "sol7 = solve_ivp(vel,(t0,tf),y0=[v0],events=carro_parado)\n",
    "print(sol7)"
   ]
  },
  {
   "cell_type": "code",
   "execution_count": 90,
   "metadata": {},
   "outputs": [
    {
     "data": {
      "text/plain": [
       "  message: 'A termination event occurred.'\n",
       "     nfev: 20\n",
       "     njev: 0\n",
       "      nlu: 0\n",
       "      sol: None\n",
       "   status: 1\n",
       "  success: True\n",
       "        t: array([0.        , 0.14614572, 1.60760288, 6.66666667])\n",
       " t_events: [array([6.66666667])]\n",
       "        y: array([[ 2.00000000e+01,  1.95615629e+01,  1.51771914e+01,\n",
       "        -1.77635684e-15]])"
      ]
     },
     "execution_count": 90,
     "metadata": {},
     "output_type": "execute_result"
    }
   ],
   "source": [
    "carro_parado.terminal=True\n",
    "solve_ivp(vel,(t0,tf),y0=[v0],events=carro_parado)"
   ]
  },
  {
   "cell_type": "code",
   "execution_count": 53,
   "metadata": {},
   "outputs": [
    {
     "data": {
      "text/plain": [
       "6.666666666666667"
      ]
     },
     "execution_count": 53,
     "metadata": {},
     "output_type": "execute_result"
    }
   ],
   "source": [
    "#Valor esperado:\n",
    "20/3."
   ]
  }
 ],
 "metadata": {
  "kernelspec": {
   "display_name": "Python 3",
   "language": "python",
   "name": "python3"
  },
  "language_info": {
   "codemirror_mode": {
    "name": "ipython",
    "version": 3
   },
   "file_extension": ".py",
   "mimetype": "text/x-python",
   "name": "python",
   "nbconvert_exporter": "python",
   "pygments_lexer": "ipython3",
   "version": "3.7.4"
  }
 },
 "nbformat": 4,
 "nbformat_minor": 2
}

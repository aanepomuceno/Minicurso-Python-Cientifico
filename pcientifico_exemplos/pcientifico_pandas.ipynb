{
 "cells": [
  {
   "cell_type": "markdown",
   "metadata": {},
   "source": [
    "# Introdução ao Pandas\n",
    "## Andre Nepomuceno - UFF"
   ]
  },
  {
   "cell_type": "code",
   "execution_count": 1,
   "metadata": {},
   "outputs": [],
   "source": [
    "import matplotlib.pyplot as plt\n",
    "import numpy as np\n",
    "import pandas as pd"
   ]
  },
  {
   "cell_type": "markdown",
   "metadata": {},
   "source": [
    "**1. Series**"
   ]
  },
  {
   "cell_type": "code",
   "execution_count": 2,
   "metadata": {},
   "outputs": [
    {
     "data": {
      "text/plain": [
       "0    6300\n",
       "1    6650\n",
       "2    6275\n",
       "3    6400\n",
       "dtype: int64"
      ]
     },
     "execution_count": 2,
     "metadata": {},
     "output_type": "execute_result"
    }
   ],
   "source": [
    "tamanho_rios = pd.Series ([6300 , 6650 , 6275 , 6400])\n",
    "tamanho_rios"
   ]
  },
  {
   "cell_type": "code",
   "execution_count": 3,
   "metadata": {},
   "outputs": [
    {
     "data": {
      "text/plain": [
       "0    6300.0\n",
       "1    6650.0\n",
       "2    6275.0\n",
       "3    6400.0\n",
       "Name: Comprimento, dtype: float64"
      ]
     },
     "execution_count": 3,
     "metadata": {},
     "output_type": "execute_result"
    }
   ],
   "source": [
    "tamanho_rios = pd.Series([6300,6650,6275,6400] , name='Comprimento',\n",
    "dtype = float )\n",
    "tamanho_rios"
   ]
  },
  {
   "cell_type": "code",
   "execution_count": 4,
   "metadata": {},
   "outputs": [
    {
     "data": {
      "text/plain": [
       "Yangtze         6300\n",
       "Nilo            6650\n",
       "Mississippi     6275\n",
       "Amazonas        6400\n",
       "Name: Comprimento, dtype: int64"
      ]
     },
     "execution_count": 4,
     "metadata": {},
     "output_type": "execute_result"
    }
   ],
   "source": [
    "#indexação\n",
    "tamanho_rios = pd.Series([6300, 6650, 6275, 6400], \n",
    "                          index =['Yangtze', 'Nilo', 'Mississippi ', 'Amazonas'],\n",
    "                          name='Comprimento')\n",
    "tamanho_rios"
   ]
  },
  {
   "cell_type": "code",
   "execution_count": 5,
   "metadata": {},
   "outputs": [
    {
     "data": {
      "text/plain": [
       "Index(['Yangtze', 'Nilo', 'Mississippi ', 'Amazonas'], dtype='object')"
      ]
     },
     "execution_count": 5,
     "metadata": {},
     "output_type": "execute_result"
    }
   ],
   "source": [
    "tamanho_rios.index"
   ]
  },
  {
   "cell_type": "code",
   "execution_count": 6,
   "metadata": {},
   "outputs": [
    {
     "data": {
      "text/plain": [
       "6650"
      ]
     },
     "execution_count": 6,
     "metadata": {},
     "output_type": "execute_result"
    }
   ],
   "source": [
    "tamanho_rios['Nilo']"
   ]
  },
  {
   "cell_type": "code",
   "execution_count": 7,
   "metadata": {},
   "outputs": [
    {
     "data": {
      "text/plain": [
       "6650"
      ]
     },
     "execution_count": 7,
     "metadata": {},
     "output_type": "execute_result"
    }
   ],
   "source": [
    "tamanho_rios[1]"
   ]
  },
  {
   "cell_type": "code",
   "execution_count": 8,
   "metadata": {},
   "outputs": [
    {
     "data": {
      "text/plain": [
       "Amazonas    6400\n",
       "Nilo        6650\n",
       "Name: Comprimento, dtype: int64"
      ]
     },
     "execution_count": 8,
     "metadata": {},
     "output_type": "execute_result"
    }
   ],
   "source": [
    "tamanho_rios[['Amazonas', 'Nilo']]"
   ]
  },
  {
   "cell_type": "code",
   "execution_count": 9,
   "metadata": {},
   "outputs": [
    {
     "data": {
      "text/plain": [
       "Nilo            6650\n",
       "Mississippi     6275\n",
       "Amazonas        6400\n",
       "Name: Comprimento, dtype: int64"
      ]
     },
     "execution_count": 9,
     "metadata": {},
     "output_type": "execute_result"
    }
   ],
   "source": [
    "tamanho_rios['Nilo':'Amazonas']"
   ]
  },
  {
   "cell_type": "code",
   "execution_count": 10,
   "metadata": {},
   "outputs": [],
   "source": [
    "km2mi =  0.621371"
   ]
  },
  {
   "cell_type": "code",
   "execution_count": 11,
   "metadata": {},
   "outputs": [
    {
     "data": {
      "text/plain": [
       "Yangtze         3914.637300\n",
       "Nilo            4132.117150\n",
       "Mississippi     3899.103025\n",
       "Amazonas        3976.774400\n",
       "Name: Comprimento, dtype: float64"
      ]
     },
     "execution_count": 11,
     "metadata": {},
     "output_type": "execute_result"
    }
   ],
   "source": [
    "tamanho_rios = tamanho_rios*km2mi\n",
    "tamanho_rios"
   ]
  },
  {
   "cell_type": "code",
   "execution_count": 12,
   "metadata": {},
   "outputs": [
    {
     "data": {
      "text/plain": [
       "Yangtze         3914.637300\n",
       "Mississippi     3899.103025\n",
       "Amazonas        3976.774400\n",
       "Name: Comprimento, dtype: float64"
      ]
     },
     "execution_count": 12,
     "metadata": {},
     "output_type": "execute_result"
    }
   ],
   "source": [
    "tamanho_rios[tamanho_rios < 4000]"
   ]
  },
  {
   "cell_type": "code",
   "execution_count": 13,
   "metadata": {},
   "outputs": [],
   "source": [
    "massas = pd.Series ({'Ganymede': 1.482e23,\n",
    "                      'Callisto': 1.076e23,\n",
    "                      'Io': 8.932e22,\n",
    "                      'Europa': 4.800e22,\n",
    "                      'Moon': 7.342e22,\n",
    "                      'Earth': 5.972e24}, name='massa')"
   ]
  },
  {
   "cell_type": "code",
   "execution_count": 14,
   "metadata": {},
   "outputs": [],
   "source": [
    "raios = pd.Series ({'Ganymede': 2.634e6 ,\n",
    "                    'Io': 1.822e6 ,\n",
    "                    'Moon': 1.737e6 ,\n",
    "                    'Earth': 6.371e6}, name='raio') "
   ]
  },
  {
   "cell_type": "code",
   "execution_count": 15,
   "metadata": {},
   "outputs": [
    {
     "data": {
      "text/plain": [
       "Callisto         NaN\n",
       "Earth       9.819532\n",
       "Europa           NaN\n",
       "Ganymede    1.425617\n",
       "Io          1.795718\n",
       "Moon        1.624056\n",
       "Name: Gravidade em m/s2, dtype: float64"
      ]
     },
     "execution_count": 15,
     "metadata": {},
     "output_type": "execute_result"
    }
   ],
   "source": [
    "G = 6.674e-11\n",
    "gravidade = G*massas/raios**2\n",
    "gravidade.name = 'Gravidade em m/s2'\n",
    "gravidade"
   ]
  },
  {
   "cell_type": "code",
   "execution_count": 16,
   "metadata": {},
   "outputs": [
    {
     "data": {
      "text/plain": [
       "Callisto     True\n",
       "Earth       False\n",
       "Europa       True\n",
       "Ganymede    False\n",
       "Io          False\n",
       "Moon        False\n",
       "Name: Gravidade em m/s2, dtype: bool"
      ]
     },
     "execution_count": 16,
     "metadata": {},
     "output_type": "execute_result"
    }
   ],
   "source": [
    "gravidade.isnull()"
   ]
  },
  {
   "cell_type": "code",
   "execution_count": 17,
   "metadata": {},
   "outputs": [
    {
     "data": {
      "text/plain": [
       "Earth       9.819532\n",
       "Ganymede    1.425617\n",
       "Io          1.795718\n",
       "Moon        1.624056\n",
       "Name: Gravidade em m/s2, dtype: float64"
      ]
     },
     "execution_count": 17,
     "metadata": {},
     "output_type": "execute_result"
    }
   ],
   "source": [
    "gravidade.dropna()"
   ]
  },
  {
   "cell_type": "markdown",
   "metadata": {},
   "source": [
    "**2. DataFrame**"
   ]
  },
  {
   "cell_type": "code",
   "execution_count": 18,
   "metadata": {},
   "outputs": [],
   "source": [
    "#DF de dicionario\n",
    "data = {'mass': [1.482e23 , 1.076e23 , 8.932e22 , 4.800e22 , 7.342e22],\n",
    "'radius': [2.634e6 , None , 1.822e6 , None , 1.737e6],\n",
    "'planet': ['Jupiter', 'Jupiter', 'Jupiter', 'Jupiter', 'Earth']}"
   ]
  },
  {
   "cell_type": "code",
   "execution_count": 19,
   "metadata": {},
   "outputs": [],
   "source": [
    "index = ['Ganymede', 'Callisto', 'Io', 'Europa', 'Moon']"
   ]
  },
  {
   "cell_type": "code",
   "execution_count": 20,
   "metadata": {},
   "outputs": [
    {
     "data": {
      "text/html": [
       "<div>\n",
       "<style scoped>\n",
       "    .dataframe tbody tr th:only-of-type {\n",
       "        vertical-align: middle;\n",
       "    }\n",
       "\n",
       "    .dataframe tbody tr th {\n",
       "        vertical-align: top;\n",
       "    }\n",
       "\n",
       "    .dataframe thead th {\n",
       "        text-align: right;\n",
       "    }\n",
       "</style>\n",
       "<table border=\"1\" class=\"dataframe\">\n",
       "  <thead>\n",
       "    <tr style=\"text-align: right;\">\n",
       "      <th></th>\n",
       "      <th>mass</th>\n",
       "      <th>radius</th>\n",
       "      <th>planet</th>\n",
       "    </tr>\n",
       "  </thead>\n",
       "  <tbody>\n",
       "    <tr>\n",
       "      <th>Ganymede</th>\n",
       "      <td>1.482000e+23</td>\n",
       "      <td>2634000.0</td>\n",
       "      <td>Jupiter</td>\n",
       "    </tr>\n",
       "    <tr>\n",
       "      <th>Callisto</th>\n",
       "      <td>1.076000e+23</td>\n",
       "      <td>NaN</td>\n",
       "      <td>Jupiter</td>\n",
       "    </tr>\n",
       "    <tr>\n",
       "      <th>Io</th>\n",
       "      <td>8.932000e+22</td>\n",
       "      <td>1822000.0</td>\n",
       "      <td>Jupiter</td>\n",
       "    </tr>\n",
       "    <tr>\n",
       "      <th>Europa</th>\n",
       "      <td>4.800000e+22</td>\n",
       "      <td>NaN</td>\n",
       "      <td>Jupiter</td>\n",
       "    </tr>\n",
       "    <tr>\n",
       "      <th>Moon</th>\n",
       "      <td>7.342000e+22</td>\n",
       "      <td>1737000.0</td>\n",
       "      <td>Earth</td>\n",
       "    </tr>\n",
       "  </tbody>\n",
       "</table>\n",
       "</div>"
      ],
      "text/plain": [
       "                  mass     radius   planet\n",
       "Ganymede  1.482000e+23  2634000.0  Jupiter\n",
       "Callisto  1.076000e+23        NaN  Jupiter\n",
       "Io        8.932000e+22  1822000.0  Jupiter\n",
       "Europa    4.800000e+22        NaN  Jupiter\n",
       "Moon      7.342000e+22  1737000.0    Earth"
      ]
     },
     "execution_count": 20,
     "metadata": {},
     "output_type": "execute_result"
    }
   ],
   "source": [
    "df = pd.DataFrame(data,index)\n",
    "df"
   ]
  },
  {
   "cell_type": "code",
   "execution_count": 21,
   "metadata": {},
   "outputs": [
    {
     "data": {
      "text/html": [
       "<div>\n",
       "<style scoped>\n",
       "    .dataframe tbody tr th:only-of-type {\n",
       "        vertical-align: middle;\n",
       "    }\n",
       "\n",
       "    .dataframe tbody tr th {\n",
       "        vertical-align: top;\n",
       "    }\n",
       "\n",
       "    .dataframe thead th {\n",
       "        text-align: right;\n",
       "    }\n",
       "</style>\n",
       "<table border=\"1\" class=\"dataframe\">\n",
       "  <thead>\n",
       "    <tr style=\"text-align: right;\">\n",
       "      <th></th>\n",
       "      <th>massa</th>\n",
       "      <th>raio</th>\n",
       "      <th>grav</th>\n",
       "    </tr>\n",
       "  </thead>\n",
       "  <tbody>\n",
       "    <tr>\n",
       "      <th>Callisto</th>\n",
       "      <td>1.076000e+23</td>\n",
       "      <td>NaN</td>\n",
       "      <td>NaN</td>\n",
       "    </tr>\n",
       "    <tr>\n",
       "      <th>Earth</th>\n",
       "      <td>5.972000e+24</td>\n",
       "      <td>6371000.0</td>\n",
       "      <td>9.819532</td>\n",
       "    </tr>\n",
       "    <tr>\n",
       "      <th>Europa</th>\n",
       "      <td>4.800000e+22</td>\n",
       "      <td>NaN</td>\n",
       "      <td>NaN</td>\n",
       "    </tr>\n",
       "    <tr>\n",
       "      <th>Ganymede</th>\n",
       "      <td>1.482000e+23</td>\n",
       "      <td>2634000.0</td>\n",
       "      <td>1.425617</td>\n",
       "    </tr>\n",
       "    <tr>\n",
       "      <th>Io</th>\n",
       "      <td>8.932000e+22</td>\n",
       "      <td>1822000.0</td>\n",
       "      <td>1.795718</td>\n",
       "    </tr>\n",
       "    <tr>\n",
       "      <th>Moon</th>\n",
       "      <td>7.342000e+22</td>\n",
       "      <td>1737000.0</td>\n",
       "      <td>1.624056</td>\n",
       "    </tr>\n",
       "  </tbody>\n",
       "</table>\n",
       "</div>"
      ],
      "text/plain": [
       "                 massa       raio      grav\n",
       "Callisto  1.076000e+23        NaN       NaN\n",
       "Earth     5.972000e+24  6371000.0  9.819532\n",
       "Europa    4.800000e+22        NaN       NaN\n",
       "Ganymede  1.482000e+23  2634000.0  1.425617\n",
       "Io        8.932000e+22  1822000.0  1.795718\n",
       "Moon      7.342000e+22  1737000.0  1.624056"
      ]
     },
     "execution_count": 21,
     "metadata": {},
     "output_type": "execute_result"
    }
   ],
   "source": [
    "\"DF de Series\"\n",
    "df2 = pd.DataFrame({'massa':massas,'raio':raios,'grav':gravidade})\n",
    "df2"
   ]
  },
  {
   "cell_type": "code",
   "execution_count": 22,
   "metadata": {},
   "outputs": [
    {
     "data": {
      "text/plain": [
       "Ganymede    1.482000e+23\n",
       "Callisto    1.076000e+23\n",
       "Io          8.932000e+22\n",
       "Europa      4.800000e+22\n",
       "Moon        7.342000e+22\n",
       "Name: mass, dtype: float64"
      ]
     },
     "execution_count": 22,
     "metadata": {},
     "output_type": "execute_result"
    }
   ],
   "source": [
    "df['mass']"
   ]
  },
  {
   "cell_type": "code",
   "execution_count": 23,
   "metadata": {},
   "outputs": [
    {
     "data": {
      "text/plain": [
       "8.932e+22"
      ]
     },
     "execution_count": 23,
     "metadata": {},
     "output_type": "execute_result"
    }
   ],
   "source": [
    "df['mass']['Io']"
   ]
  },
  {
   "cell_type": "code",
   "execution_count": 24,
   "metadata": {},
   "outputs": [
    {
     "data": {
      "text/plain": [
       "mass      4.8e+22\n",
       "radius        NaN\n",
       "planet    Jupiter\n",
       "Name: Europa, dtype: object"
      ]
     },
     "execution_count": 24,
     "metadata": {},
     "output_type": "execute_result"
    }
   ],
   "source": [
    "#Método loc\n",
    "df.loc['Europa']"
   ]
  },
  {
   "cell_type": "code",
   "execution_count": 25,
   "metadata": {},
   "outputs": [
    {
     "data": {
      "text/plain": [
       "mass      4.8e+22\n",
       "planet    Jupiter\n",
       "Name: Europa, dtype: object"
      ]
     },
     "execution_count": 25,
     "metadata": {},
     "output_type": "execute_result"
    }
   ],
   "source": [
    "df.loc['Europa',['mass','planet']]"
   ]
  },
  {
   "cell_type": "code",
   "execution_count": 26,
   "metadata": {},
   "outputs": [
    {
     "data": {
      "text/html": [
       "<div>\n",
       "<style scoped>\n",
       "    .dataframe tbody tr th:only-of-type {\n",
       "        vertical-align: middle;\n",
       "    }\n",
       "\n",
       "    .dataframe tbody tr th {\n",
       "        vertical-align: top;\n",
       "    }\n",
       "\n",
       "    .dataframe thead th {\n",
       "        text-align: right;\n",
       "    }\n",
       "</style>\n",
       "<table border=\"1\" class=\"dataframe\">\n",
       "  <thead>\n",
       "    <tr style=\"text-align: right;\">\n",
       "      <th></th>\n",
       "      <th>mass</th>\n",
       "      <th>radius</th>\n",
       "    </tr>\n",
       "  </thead>\n",
       "  <tbody>\n",
       "    <tr>\n",
       "      <th>Ganymede</th>\n",
       "      <td>1.482000e+23</td>\n",
       "      <td>2634000.0</td>\n",
       "    </tr>\n",
       "    <tr>\n",
       "      <th>Callisto</th>\n",
       "      <td>1.076000e+23</td>\n",
       "      <td>NaN</td>\n",
       "    </tr>\n",
       "    <tr>\n",
       "      <th>Io</th>\n",
       "      <td>8.932000e+22</td>\n",
       "      <td>1822000.0</td>\n",
       "    </tr>\n",
       "  </tbody>\n",
       "</table>\n",
       "</div>"
      ],
      "text/plain": [
       "                  mass     radius\n",
       "Ganymede  1.482000e+23  2634000.0\n",
       "Callisto  1.076000e+23        NaN\n",
       "Io        8.932000e+22  1822000.0"
      ]
     },
     "execution_count": 26,
     "metadata": {},
     "output_type": "execute_result"
    }
   ],
   "source": [
    "df.loc['Ganymede':'Io', ['mass', 'radius']]"
   ]
  },
  {
   "cell_type": "code",
   "execution_count": 27,
   "metadata": {},
   "outputs": [
    {
     "data": {
      "text/plain": [
       "mass        4.8e+22\n",
       "radius    1.561e+06\n",
       "planet      Jupiter\n",
       "Name: Europa, dtype: object"
      ]
     },
     "execution_count": 27,
     "metadata": {},
     "output_type": "execute_result"
    }
   ],
   "source": [
    " df.loc['Europa', 'radius'] = 1.561e6\n",
    " df.loc['Europa']"
   ]
  },
  {
   "cell_type": "code",
   "execution_count": 28,
   "metadata": {},
   "outputs": [
    {
     "data": {
      "text/plain": [
       "Ganymede    False\n",
       "Callisto    False\n",
       "Io           True\n",
       "Europa       True\n",
       "Moon         True\n",
       "Name: radius, dtype: bool"
      ]
     },
     "execution_count": 28,
     "metadata": {},
     "output_type": "execute_result"
    }
   ],
   "source": [
    "#Podemos usar vetorizacao booleana para filtrar dados\n",
    "idb = df['radius'] < 2.e6\n",
    "idb"
   ]
  },
  {
   "cell_type": "code",
   "execution_count": 29,
   "metadata": {},
   "outputs": [
    {
     "data": {
      "text/html": [
       "<div>\n",
       "<style scoped>\n",
       "    .dataframe tbody tr th:only-of-type {\n",
       "        vertical-align: middle;\n",
       "    }\n",
       "\n",
       "    .dataframe tbody tr th {\n",
       "        vertical-align: top;\n",
       "    }\n",
       "\n",
       "    .dataframe thead th {\n",
       "        text-align: right;\n",
       "    }\n",
       "</style>\n",
       "<table border=\"1\" class=\"dataframe\">\n",
       "  <thead>\n",
       "    <tr style=\"text-align: right;\">\n",
       "      <th></th>\n",
       "      <th>mass</th>\n",
       "      <th>radius</th>\n",
       "      <th>planet</th>\n",
       "    </tr>\n",
       "  </thead>\n",
       "  <tbody>\n",
       "    <tr>\n",
       "      <th>Io</th>\n",
       "      <td>8.932000e+22</td>\n",
       "      <td>1822000.0</td>\n",
       "      <td>Jupiter</td>\n",
       "    </tr>\n",
       "    <tr>\n",
       "      <th>Europa</th>\n",
       "      <td>4.800000e+22</td>\n",
       "      <td>1561000.0</td>\n",
       "      <td>Jupiter</td>\n",
       "    </tr>\n",
       "    <tr>\n",
       "      <th>Moon</th>\n",
       "      <td>7.342000e+22</td>\n",
       "      <td>1737000.0</td>\n",
       "      <td>Earth</td>\n",
       "    </tr>\n",
       "  </tbody>\n",
       "</table>\n",
       "</div>"
      ],
      "text/plain": [
       "                mass     radius   planet\n",
       "Io      8.932000e+22  1822000.0  Jupiter\n",
       "Europa  4.800000e+22  1561000.0  Jupiter\n",
       "Moon    7.342000e+22  1737000.0    Earth"
      ]
     },
     "execution_count": 29,
     "metadata": {},
     "output_type": "execute_result"
    }
   ],
   "source": [
    "df.loc[idb]\n",
    "#df[df['radius'] < 2.e6]"
   ]
  },
  {
   "cell_type": "code",
   "execution_count": 30,
   "metadata": {},
   "outputs": [
    {
     "data": {
      "text/html": [
       "<div>\n",
       "<style scoped>\n",
       "    .dataframe tbody tr th:only-of-type {\n",
       "        vertical-align: middle;\n",
       "    }\n",
       "\n",
       "    .dataframe tbody tr th {\n",
       "        vertical-align: top;\n",
       "    }\n",
       "\n",
       "    .dataframe thead th {\n",
       "        text-align: right;\n",
       "    }\n",
       "</style>\n",
       "<table border=\"1\" class=\"dataframe\">\n",
       "  <thead>\n",
       "    <tr style=\"text-align: right;\">\n",
       "      <th></th>\n",
       "      <th>mass</th>\n",
       "      <th>radius</th>\n",
       "      <th>planet</th>\n",
       "    </tr>\n",
       "  </thead>\n",
       "  <tbody>\n",
       "    <tr>\n",
       "      <th>Ganymede</th>\n",
       "      <td>1.482000e+23</td>\n",
       "      <td>2634000.0</td>\n",
       "      <td>Jupiter</td>\n",
       "    </tr>\n",
       "    <tr>\n",
       "      <th>Callisto</th>\n",
       "      <td>1.076000e+23</td>\n",
       "      <td>NaN</td>\n",
       "      <td>Jupiter</td>\n",
       "    </tr>\n",
       "    <tr>\n",
       "      <th>Io</th>\n",
       "      <td>8.932000e+22</td>\n",
       "      <td>1822000.0</td>\n",
       "      <td>Jupiter</td>\n",
       "    </tr>\n",
       "    <tr>\n",
       "      <th>Europa</th>\n",
       "      <td>4.800000e+22</td>\n",
       "      <td>1561000.0</td>\n",
       "      <td>Jupiter</td>\n",
       "    </tr>\n",
       "  </tbody>\n",
       "</table>\n",
       "</div>"
      ],
      "text/plain": [
       "                  mass     radius   planet\n",
       "Ganymede  1.482000e+23  2634000.0  Jupiter\n",
       "Callisto  1.076000e+23        NaN  Jupiter\n",
       "Io        8.932000e+22  1822000.0  Jupiter\n",
       "Europa    4.800000e+22  1561000.0  Jupiter"
      ]
     },
     "execution_count": 30,
     "metadata": {},
     "output_type": "execute_result"
    }
   ],
   "source": [
    "#info sobre Jupiter apenas\n",
    "df.loc[df['planet']=='Jupiter']"
   ]
  },
  {
   "cell_type": "code",
   "execution_count": 31,
   "metadata": {},
   "outputs": [
    {
     "data": {
      "text/plain": [
       "4.8e+22"
      ]
     },
     "execution_count": 31,
     "metadata": {},
     "output_type": "execute_result"
    }
   ],
   "source": [
    "#no metodo loc, os elementos sao [linha, coluna]\n",
    "df.loc['Europa','mass']"
   ]
  },
  {
   "cell_type": "code",
   "execution_count": 32,
   "metadata": {},
   "outputs": [
    {
     "data": {
      "text/html": [
       "<div>\n",
       "<style scoped>\n",
       "    .dataframe tbody tr th:only-of-type {\n",
       "        vertical-align: middle;\n",
       "    }\n",
       "\n",
       "    .dataframe tbody tr th {\n",
       "        vertical-align: top;\n",
       "    }\n",
       "\n",
       "    .dataframe thead th {\n",
       "        text-align: right;\n",
       "    }\n",
       "</style>\n",
       "<table border=\"1\" class=\"dataframe\">\n",
       "  <thead>\n",
       "    <tr style=\"text-align: right;\">\n",
       "      <th></th>\n",
       "      <th>radius</th>\n",
       "      <th>planet</th>\n",
       "    </tr>\n",
       "  </thead>\n",
       "  <tbody>\n",
       "    <tr>\n",
       "      <th>Ganymede</th>\n",
       "      <td>2634000.0</td>\n",
       "      <td>Jupiter</td>\n",
       "    </tr>\n",
       "    <tr>\n",
       "      <th>Io</th>\n",
       "      <td>1822000.0</td>\n",
       "      <td>Jupiter</td>\n",
       "    </tr>\n",
       "    <tr>\n",
       "      <th>Europa</th>\n",
       "      <td>1561000.0</td>\n",
       "      <td>Jupiter</td>\n",
       "    </tr>\n",
       "    <tr>\n",
       "      <th>Moon</th>\n",
       "      <td>1737000.0</td>\n",
       "      <td>Earth</td>\n",
       "    </tr>\n",
       "  </tbody>\n",
       "</table>\n",
       "</div>"
      ],
      "text/plain": [
       "             radius   planet\n",
       "Ganymede  2634000.0  Jupiter\n",
       "Io        1822000.0  Jupiter\n",
       "Europa    1561000.0  Jupiter\n",
       "Moon      1737000.0    Earth"
      ]
     },
     "execution_count": 32,
     "metadata": {},
     "output_type": "execute_result"
    }
   ],
   "source": [
    "#Metodo iloc\n",
    "df.iloc[:,[1,2]].dropna()"
   ]
  },
  {
   "cell_type": "code",
   "execution_count": 33,
   "metadata": {},
   "outputs": [
    {
     "data": {
      "text/plain": [
       "1737000.0"
      ]
     },
     "execution_count": 33,
     "metadata": {},
     "output_type": "execute_result"
    }
   ],
   "source": [
    "df.iloc[-1,1] #ultima linha, segunda coluna"
   ]
  },
  {
   "cell_type": "code",
   "execution_count": 34,
   "metadata": {},
   "outputs": [
    {
     "data": {
      "text/plain": [
       "array([[1.482e+23, 2.634e+06],\n",
       "       [1.076e+23,       nan],\n",
       "       [8.932e+22, 1.822e+06],\n",
       "       [4.800e+22, 1.561e+06],\n",
       "       [7.342e+22, 1.737e+06]])"
      ]
     },
     "execution_count": 34,
     "metadata": {},
     "output_type": "execute_result"
    }
   ],
   "source": [
    "#DataFrame to Arrays\n",
    "df.iloc[:,[0,1]].values"
   ]
  },
  {
   "cell_type": "markdown",
   "metadata": {},
   "source": [
    "**3. Exemplo: lendo e analisando dados**"
   ]
  },
  {
   "cell_type": "code",
   "execution_count": 35,
   "metadata": {},
   "outputs": [
    {
     "data": {
      "text/html": [
       "<div>\n",
       "<style scoped>\n",
       "    .dataframe tbody tr th:only-of-type {\n",
       "        vertical-align: middle;\n",
       "    }\n",
       "\n",
       "    .dataframe tbody tr th {\n",
       "        vertical-align: top;\n",
       "    }\n",
       "\n",
       "    .dataframe thead th {\n",
       "        text-align: right;\n",
       "    }\n",
       "</style>\n",
       "<table border=\"1\" class=\"dataframe\">\n",
       "  <thead>\n",
       "    <tr style=\"text-align: right;\">\n",
       "      <th></th>\n",
       "      <th>Male Population</th>\n",
       "      <th>Female Population</th>\n",
       "      <th>Area (km2)</th>\n",
       "      <th>Male Literacy (%)</th>\n",
       "      <th>Fertility Rate</th>\n",
       "      <th>Female Literacy (%)</th>\n",
       "    </tr>\n",
       "    <tr>\n",
       "      <th>State/UT</th>\n",
       "      <th></th>\n",
       "      <th></th>\n",
       "      <th></th>\n",
       "      <th></th>\n",
       "      <th></th>\n",
       "      <th></th>\n",
       "    </tr>\n",
       "  </thead>\n",
       "  <tbody>\n",
       "    <tr>\n",
       "      <th>Uttar Pradesh</th>\n",
       "      <td>104480510</td>\n",
       "      <td>95331831</td>\n",
       "      <td>240928</td>\n",
       "      <td>79.24</td>\n",
       "      <td>3.7</td>\n",
       "      <td>59.26</td>\n",
       "    </tr>\n",
       "    <tr>\n",
       "      <th>Maharashtra</th>\n",
       "      <td>58243056</td>\n",
       "      <td>54131277</td>\n",
       "      <td>307713</td>\n",
       "      <td>89.82</td>\n",
       "      <td>1.9</td>\n",
       "      <td>75.48</td>\n",
       "    </tr>\n",
       "    <tr>\n",
       "      <th>Bihar</th>\n",
       "      <td>54278157</td>\n",
       "      <td>49821295</td>\n",
       "      <td>94163</td>\n",
       "      <td>73.39</td>\n",
       "      <td>3.9</td>\n",
       "      <td>53.33</td>\n",
       "    </tr>\n",
       "    <tr>\n",
       "      <th>West Bengal</th>\n",
       "      <td>46809027</td>\n",
       "      <td>44467088</td>\n",
       "      <td>88752</td>\n",
       "      <td>82.67</td>\n",
       "      <td>1.9</td>\n",
       "      <td>71.16</td>\n",
       "    </tr>\n",
       "    <tr>\n",
       "      <th>Madhya Pradesh</th>\n",
       "      <td>37612306</td>\n",
       "      <td>35014503</td>\n",
       "      <td>308245</td>\n",
       "      <td>80.53</td>\n",
       "      <td>3.3</td>\n",
       "      <td>60.02</td>\n",
       "    </tr>\n",
       "    <tr>\n",
       "      <th>Tamil Nadu</th>\n",
       "      <td>36137975</td>\n",
       "      <td>36009055</td>\n",
       "      <td>130058</td>\n",
       "      <td>86.81</td>\n",
       "      <td>1.7</td>\n",
       "      <td>73.86</td>\n",
       "    </tr>\n",
       "    <tr>\n",
       "      <th>Rajasthan</th>\n",
       "      <td>35550997</td>\n",
       "      <td>32997440</td>\n",
       "      <td>342239</td>\n",
       "      <td>80.51</td>\n",
       "      <td>3.3</td>\n",
       "      <td>52.66</td>\n",
       "    </tr>\n",
       "  </tbody>\n",
       "</table>\n",
       "</div>"
      ],
      "text/plain": [
       "                Male Population  Female Population  Area (km2)  \\\n",
       "State/UT                                                         \n",
       "Uttar Pradesh         104480510           95331831      240928   \n",
       "Maharashtra            58243056           54131277      307713   \n",
       "Bihar                  54278157           49821295       94163   \n",
       "West Bengal            46809027           44467088       88752   \n",
       "Madhya Pradesh         37612306           35014503      308245   \n",
       "Tamil Nadu             36137975           36009055      130058   \n",
       "Rajasthan              35550997           32997440      342239   \n",
       "\n",
       "                Male Literacy (%)  Fertility Rate  Female Literacy (%)  \n",
       "State/UT                                                                \n",
       "Uttar Pradesh               79.24             3.7                59.26  \n",
       "Maharashtra                 89.82             1.9                75.48  \n",
       "Bihar                       73.39             3.9                53.33  \n",
       "West Bengal                 82.67             1.9                71.16  \n",
       "Madhya Pradesh              80.53             3.3                60.02  \n",
       "Tamil Nadu                  86.81             1.7                73.86  \n",
       "Rajasthan                   80.51             3.3                52.66  "
      ]
     },
     "execution_count": 35,
     "metadata": {},
     "output_type": "execute_result"
    }
   ],
   "source": [
    "#Abrir arquivo de texto\n",
    "#data = pd.read_csv('../pcientifico_dados/india-data.csv')\n",
    "data = pd.read_csv('../pcientifico_dados/india-data.csv',index_col=0)\n",
    "data.head(7)"
   ]
  },
  {
   "cell_type": "code",
   "execution_count": 36,
   "metadata": {},
   "outputs": [
    {
     "name": "stdout",
     "output_type": "stream",
     "text": [
      "<class 'pandas.core.frame.DataFrame'>\n",
      "Index: 36 entries, Uttar Pradesh to Lakshadweep\n",
      "Data columns (total 6 columns):\n",
      "Male Population        36 non-null int64\n",
      "Female Population      36 non-null int64\n",
      "Area (km2)             36 non-null int64\n",
      "Male Literacy (%)      35 non-null float64\n",
      "Fertility Rate         36 non-null float64\n",
      "Female Literacy (%)    35 non-null float64\n",
      "dtypes: float64(3), int64(3)\n",
      "memory usage: 2.0+ KB\n"
     ]
    }
   ],
   "source": [
    "data.info()"
   ]
  },
  {
   "cell_type": "code",
   "execution_count": 37,
   "metadata": {},
   "outputs": [],
   "source": [
    "#ix = data['Female Literacy (%)'].isnull()\n",
    "#data.loc[ix]"
   ]
  },
  {
   "cell_type": "code",
   "execution_count": 38,
   "metadata": {},
   "outputs": [
    {
     "data": {
      "text/plain": [
       "Index(['Male Population', 'Female Population', 'Area (km2)',\n",
       "       'Male Literacy (%)', 'Fertility Rate', 'Female Literacy (%)'],\n",
       "      dtype='object')"
      ]
     },
     "execution_count": 38,
     "metadata": {},
     "output_type": "execute_result"
    }
   ],
   "source": [
    "data.columns"
   ]
  },
  {
   "cell_type": "code",
   "execution_count": 39,
   "metadata": {},
   "outputs": [
    {
     "data": {
      "image/png": "[encoded data removed]",
      "text/plain": [
       "<Figure size 432x576 with 6 Axes>"
      ]
     },
     "metadata": {
      "needs_background": "light"
     },
     "output_type": "display_data"
    }
   ],
   "source": [
    "#distribuicao dos dados\n",
    "data.hist(bins=30,figsize=(6,8))\n",
    "plt.show()"
   ]
  },
  {
   "cell_type": "code",
   "execution_count": 40,
   "metadata": {},
   "outputs": [
    {
     "name": "stdout",
     "output_type": "stream",
     "text": [
      "1,210,754,977\n"
     ]
    }
   ],
   "source": [
    "#criar uma nova coluna populacao\n",
    "data['population'] = data['Male Population'] + data['Female Population']\n",
    "total_pop = data['population'].sum()\n",
    "print(\"{:,d}\".format(total_pop))"
   ]
  },
  {
   "cell_type": "code",
   "execution_count": 41,
   "metadata": {},
   "outputs": [],
   "source": [
    "data['Density'] = data['population']/data['Area (km2)']"
   ]
  },
  {
   "cell_type": "code",
   "execution_count": 42,
   "metadata": {},
   "outputs": [
    {
     "data": {
      "text/html": [
       "<div>\n",
       "<style scoped>\n",
       "    .dataframe tbody tr th:only-of-type {\n",
       "        vertical-align: middle;\n",
       "    }\n",
       "\n",
       "    .dataframe tbody tr th {\n",
       "        vertical-align: top;\n",
       "    }\n",
       "\n",
       "    .dataframe thead th {\n",
       "        text-align: right;\n",
       "    }\n",
       "</style>\n",
       "<table border=\"1\" class=\"dataframe\">\n",
       "  <thead>\n",
       "    <tr style=\"text-align: right;\">\n",
       "      <th></th>\n",
       "      <th>Male Population</th>\n",
       "      <th>Female Population</th>\n",
       "      <th>Area (km2)</th>\n",
       "      <th>Male Literacy (%)</th>\n",
       "      <th>Fertility Rate</th>\n",
       "      <th>Female Literacy (%)</th>\n",
       "      <th>population</th>\n",
       "      <th>Density</th>\n",
       "    </tr>\n",
       "    <tr>\n",
       "      <th>State/UT</th>\n",
       "      <th></th>\n",
       "      <th></th>\n",
       "      <th></th>\n",
       "      <th></th>\n",
       "      <th></th>\n",
       "      <th></th>\n",
       "      <th></th>\n",
       "      <th></th>\n",
       "    </tr>\n",
       "  </thead>\n",
       "  <tbody>\n",
       "    <tr>\n",
       "      <th>Uttar Pradesh</th>\n",
       "      <td>104480510</td>\n",
       "      <td>95331831</td>\n",
       "      <td>240928</td>\n",
       "      <td>79.24</td>\n",
       "      <td>3.7</td>\n",
       "      <td>59.26</td>\n",
       "      <td>199812341</td>\n",
       "      <td>829.344622</td>\n",
       "    </tr>\n",
       "    <tr>\n",
       "      <th>Maharashtra</th>\n",
       "      <td>58243056</td>\n",
       "      <td>54131277</td>\n",
       "      <td>307713</td>\n",
       "      <td>89.82</td>\n",
       "      <td>1.9</td>\n",
       "      <td>75.48</td>\n",
       "      <td>112374333</td>\n",
       "      <td>365.192023</td>\n",
       "    </tr>\n",
       "    <tr>\n",
       "      <th>Bihar</th>\n",
       "      <td>54278157</td>\n",
       "      <td>49821295</td>\n",
       "      <td>94163</td>\n",
       "      <td>73.39</td>\n",
       "      <td>3.9</td>\n",
       "      <td>53.33</td>\n",
       "      <td>104099452</td>\n",
       "      <td>1105.523953</td>\n",
       "    </tr>\n",
       "    <tr>\n",
       "      <th>West Bengal</th>\n",
       "      <td>46809027</td>\n",
       "      <td>44467088</td>\n",
       "      <td>88752</td>\n",
       "      <td>82.67</td>\n",
       "      <td>1.9</td>\n",
       "      <td>71.16</td>\n",
       "      <td>91276115</td>\n",
       "      <td>1028.440091</td>\n",
       "    </tr>\n",
       "    <tr>\n",
       "      <th>Madhya Pradesh</th>\n",
       "      <td>37612306</td>\n",
       "      <td>35014503</td>\n",
       "      <td>308245</td>\n",
       "      <td>80.53</td>\n",
       "      <td>3.3</td>\n",
       "      <td>60.02</td>\n",
       "      <td>72626809</td>\n",
       "      <td>235.613908</td>\n",
       "    </tr>\n",
       "  </tbody>\n",
       "</table>\n",
       "</div>"
      ],
      "text/plain": [
       "                Male Population  Female Population  Area (km2)  \\\n",
       "State/UT                                                         \n",
       "Uttar Pradesh         104480510           95331831      240928   \n",
       "Maharashtra            58243056           54131277      307713   \n",
       "Bihar                  54278157           49821295       94163   \n",
       "West Bengal            46809027           44467088       88752   \n",
       "Madhya Pradesh         37612306           35014503      308245   \n",
       "\n",
       "                Male Literacy (%)  Fertility Rate  Female Literacy (%)  \\\n",
       "State/UT                                                                 \n",
       "Uttar Pradesh               79.24             3.7                59.26   \n",
       "Maharashtra                 89.82             1.9                75.48   \n",
       "Bihar                       73.39             3.9                53.33   \n",
       "West Bengal                 82.67             1.9                71.16   \n",
       "Madhya Pradesh              80.53             3.3                60.02   \n",
       "\n",
       "                population      Density  \n",
       "State/UT                                 \n",
       "Uttar Pradesh    199812341   829.344622  \n",
       "Maharashtra      112374333   365.192023  \n",
       "Bihar            104099452  1105.523953  \n",
       "West Bengal       91276115  1028.440091  \n",
       "Madhya Pradesh    72626809   235.613908  "
      ]
     },
     "execution_count": 42,
     "metadata": {},
     "output_type": "execute_result"
    }
   ],
   "source": [
    "data.head()"
   ]
  },
  {
   "cell_type": "code",
   "execution_count": 43,
   "metadata": {},
   "outputs": [
    {
     "data": {
      "text/plain": [
       "91312.25"
      ]
     },
     "execution_count": 43,
     "metadata": {},
     "output_type": "execute_result"
    }
   ],
   "source": [
    "#Valor medio\n",
    "data['Area (km2)'].mean()"
   ]
  },
  {
   "cell_type": "code",
   "execution_count": 44,
   "metadata": {},
   "outputs": [
    {
     "data": {
      "text/plain": [
       "73.39"
      ]
     },
     "execution_count": 44,
     "metadata": {},
     "output_type": "execute_result"
    }
   ],
   "source": [
    "#maximos e minimos\n",
    "data['Male Literacy (%)'].min()"
   ]
  },
  {
   "cell_type": "code",
   "execution_count": 45,
   "metadata": {},
   "outputs": [
    {
     "data": {
      "text/plain": [
       "'Bihar'"
      ]
     },
     "execution_count": 45,
     "metadata": {},
     "output_type": "execute_result"
    }
   ],
   "source": [
    "data['Male Literacy (%)'].idxmin()"
   ]
  },
  {
   "cell_type": "code",
   "execution_count": 46,
   "metadata": {},
   "outputs": [
    {
     "data": {
      "text/plain": [
       "Male Population        8.887326e+06\n",
       "Female Population      7.800615e+06\n",
       "Area (km2)             1.484000e+03\n",
       "Male Literacy (%)      9.103000e+01\n",
       "Fertility Rate         1.900000e+00\n",
       "Female Literacy (%)    8.093000e+01\n",
       "population             1.668794e+07\n",
       "Density                1.124524e+04\n",
       "Name: Delhi, dtype: float64"
      ]
     },
     "execution_count": 46,
     "metadata": {},
     "output_type": "execute_result"
    }
   ],
   "source": [
    "data.loc[data['Density'].idxmax()]"
   ]
  },
  {
   "cell_type": "code",
   "execution_count": 47,
   "metadata": {},
   "outputs": [
    {
     "data": {
      "text/plain": [
       "<matplotlib.axes._subplots.AxesSubplot at 0x7ff1937e6090>"
      ]
     },
     "execution_count": 47,
     "metadata": {},
     "output_type": "execute_result"
    },
    {
     "data": {
      "image/png": "[encoded data removed]",
      "text/plain": [
       "<Figure size 432x288 with 1 Axes>"
      ]
     },
     "metadata": {
      "needs_background": "light"
     },
     "output_type": "display_data"
    }
   ],
   "source": [
    "#Verifique correlacao entre variavies\n",
    "data.plot.scatter('Female Literacy (%)', 'Fertility Rate',s=30,color='r')"
   ]
  },
  {
   "cell_type": "markdown",
   "metadata": {},
   "source": [
    "**4. Lendo Tabelas HTML**"
   ]
  },
  {
   "cell_type": "code",
   "execution_count": 48,
   "metadata": {},
   "outputs": [],
   "source": [
    "url = 'https://courses.lumenlearning.com/astronomy/chapter/physical-and-orbital-data-for-the-planets/'\n",
    "data_web = pd.read_html(url,header=1,index_col=0)              \n",
    "#match = 'Physical Data for the Major Planets'"
   ]
  },
  {
   "cell_type": "code",
   "execution_count": 49,
   "metadata": {},
   "outputs": [
    {
     "data": {
      "text/html": [
       "<div>\n",
       "<style scoped>\n",
       "    .dataframe tbody tr th:only-of-type {\n",
       "        vertical-align: middle;\n",
       "    }\n",
       "\n",
       "    .dataframe tbody tr th {\n",
       "        vertical-align: top;\n",
       "    }\n",
       "\n",
       "    .dataframe thead th {\n",
       "        text-align: right;\n",
       "    }\n",
       "</style>\n",
       "<table border=\"1\" class=\"dataframe\">\n",
       "  <thead>\n",
       "    <tr style=\"text-align: right;\">\n",
       "      <th></th>\n",
       "      <th>Mean Diameter (km)</th>\n",
       "      <th>Mean Diameter (Earth = 1)</th>\n",
       "      <th>Mass (Earth = 1)</th>\n",
       "      <th>Mean Density (g/cm3)</th>\n",
       "      <th>Rotation Period (d)</th>\n",
       "      <th>Inclination of Equator to Orbit (°)</th>\n",
       "      <th>Surface Gravity (Earth = 1[g])</th>\n",
       "      <th>Velocity of Escape (km/s)</th>\n",
       "    </tr>\n",
       "    <tr>\n",
       "      <th>Major Planet</th>\n",
       "      <th></th>\n",
       "      <th></th>\n",
       "      <th></th>\n",
       "      <th></th>\n",
       "      <th></th>\n",
       "      <th></th>\n",
       "      <th></th>\n",
       "      <th></th>\n",
       "    </tr>\n",
       "  </thead>\n",
       "  <tbody>\n",
       "    <tr>\n",
       "      <th>Mercury</th>\n",
       "      <td>4879</td>\n",
       "      <td>0.38</td>\n",
       "      <td>0.055</td>\n",
       "      <td>5.43</td>\n",
       "      <td>58.</td>\n",
       "      <td>0.0</td>\n",
       "      <td>0.38</td>\n",
       "      <td>4.3</td>\n",
       "    </tr>\n",
       "    <tr>\n",
       "      <th>Venus</th>\n",
       "      <td>12104</td>\n",
       "      <td>0.95</td>\n",
       "      <td>0.815</td>\n",
       "      <td>5.24</td>\n",
       "      <td>−243.</td>\n",
       "      <td>177.0</td>\n",
       "      <td>0.90</td>\n",
       "      <td>10.4</td>\n",
       "    </tr>\n",
       "    <tr>\n",
       "      <th>Earth</th>\n",
       "      <td>12756</td>\n",
       "      <td>1.00</td>\n",
       "      <td>1.000</td>\n",
       "      <td>5.51</td>\n",
       "      <td>1.000</td>\n",
       "      <td>23.4</td>\n",
       "      <td>1.00</td>\n",
       "      <td>11.2</td>\n",
       "    </tr>\n",
       "    <tr>\n",
       "      <th>Mars</th>\n",
       "      <td>6779</td>\n",
       "      <td>0.53</td>\n",
       "      <td>0.110</td>\n",
       "      <td>3.93</td>\n",
       "      <td>1.026</td>\n",
       "      <td>25.2</td>\n",
       "      <td>0.38</td>\n",
       "      <td>5.0</td>\n",
       "    </tr>\n",
       "    <tr>\n",
       "      <th>Jupiter</th>\n",
       "      <td>140000</td>\n",
       "      <td>10.90</td>\n",
       "      <td>318.000</td>\n",
       "      <td>1.33</td>\n",
       "      <td>0.414</td>\n",
       "      <td>3.1</td>\n",
       "      <td>2.53</td>\n",
       "      <td>60.0</td>\n",
       "    </tr>\n",
       "    <tr>\n",
       "      <th>Saturn</th>\n",
       "      <td>117000</td>\n",
       "      <td>9.13</td>\n",
       "      <td>95.200</td>\n",
       "      <td>0.69</td>\n",
       "      <td>0.440</td>\n",
       "      <td>26.7</td>\n",
       "      <td>1.07</td>\n",
       "      <td>36.0</td>\n",
       "    </tr>\n",
       "  </tbody>\n",
       "</table>\n",
       "</div>"
      ],
      "text/plain": [
       "              Mean Diameter (km)  Mean Diameter (Earth = 1)  Mass (Earth = 1)  \\\n",
       "Major Planet                                                                    \n",
       "Mercury                     4879                       0.38             0.055   \n",
       "Venus                      12104                       0.95             0.815   \n",
       "Earth                      12756                       1.00             1.000   \n",
       "Mars                        6779                       0.53             0.110   \n",
       "Jupiter                   140000                      10.90           318.000   \n",
       "Saturn                    117000                       9.13            95.200   \n",
       "\n",
       "              Mean Density (g/cm3) Rotation Period (d)  \\\n",
       "Major Planet                                             \n",
       "Mercury                       5.43                 58.   \n",
       "Venus                         5.24               −243.   \n",
       "Earth                         5.51               1.000   \n",
       "Mars                          3.93               1.026   \n",
       "Jupiter                       1.33               0.414   \n",
       "Saturn                        0.69               0.440   \n",
       "\n",
       "              Inclination of Equator to Orbit (°)  \\\n",
       "Major Planet                                        \n",
       "Mercury                                       0.0   \n",
       "Venus                                       177.0   \n",
       "Earth                                        23.4   \n",
       "Mars                                         25.2   \n",
       "Jupiter                                       3.1   \n",
       "Saturn                                       26.7   \n",
       "\n",
       "              Surface Gravity (Earth = 1[g])  Velocity of Escape (km/s)  \n",
       "Major Planet                                                             \n",
       "Mercury                                 0.38                        4.3  \n",
       "Venus                                   0.90                       10.4  \n",
       "Earth                                   1.00                       11.2  \n",
       "Mars                                    0.38                        5.0  \n",
       "Jupiter                                 2.53                       60.0  \n",
       "Saturn                                  1.07                       36.0  "
      ]
     },
     "execution_count": 49,
     "metadata": {},
     "output_type": "execute_result"
    }
   ],
   "source": [
    "data_web[0].head(6)"
   ]
  },
  {
   "cell_type": "code",
   "execution_count": 50,
   "metadata": {},
   "outputs": [
    {
     "data": {
      "text/plain": [
       "'Jupiter'"
      ]
     },
     "execution_count": 50,
     "metadata": {},
     "output_type": "execute_result"
    }
   ],
   "source": [
    "data_web[0]['Mass (Earth = 1)'].idxmax()"
   ]
  },
  {
   "cell_type": "markdown",
   "metadata": {},
   "source": [
    "**5. Indexação Avançada**"
   ]
  },
  {
   "cell_type": "code",
   "execution_count": 51,
   "metadata": {},
   "outputs": [],
   "source": [
    "cidades = ('Paris', 'Berlin', 'Viena', 'Londres', 'Madri')\n",
    "meses = ('Jan', 'Abr', 'Jul', 'Out')"
   ]
  },
  {
   "cell_type": "code",
   "execution_count": 52,
   "metadata": {},
   "outputs": [],
   "source": [
    "index = pd.MultiIndex.from_product((cidades, meses))\n",
    "index.names = ['Cidade', 'Mes']"
   ]
  },
  {
   "cell_type": "code",
   "execution_count": 53,
   "metadata": {},
   "outputs": [
    {
     "data": {
      "text/plain": [
       "MultiIndex([(  'Paris', 'Jan'),\n",
       "            (  'Paris', 'Abr'),\n",
       "            (  'Paris', 'Jul'),\n",
       "            (  'Paris', 'Out'),\n",
       "            ( 'Berlin', 'Jan'),\n",
       "            ( 'Berlin', 'Abr'),\n",
       "            ( 'Berlin', 'Jul'),\n",
       "            ( 'Berlin', 'Out'),\n",
       "            (  'Viena', 'Jan'),\n",
       "            (  'Viena', 'Abr'),\n",
       "            (  'Viena', 'Jul'),\n",
       "            (  'Viena', 'Out'),\n",
       "            ('Londres', 'Jan'),\n",
       "            ('Londres', 'Abr'),\n",
       "            ('Londres', 'Jul'),\n",
       "            ('Londres', 'Out'),\n",
       "            (  'Madri', 'Jan'),\n",
       "            (  'Madri', 'Abr'),\n",
       "            (  'Madri', 'Jul'),\n",
       "            (  'Madri', 'Out')],\n",
       "           names=['Cidade', 'Mes'])"
      ]
     },
     "execution_count": 53,
     "metadata": {},
     "output_type": "execute_result"
    }
   ],
   "source": [
    "index"
   ]
  },
  {
   "cell_type": "code",
   "execution_count": 54,
   "metadata": {},
   "outputs": [
    {
     "data": {
      "text/plain": [
       "[[4.9, 11.5, 20.5, 13.0],\n",
       " [0.1, 9.0, 19.1, 9.4],\n",
       " [0.3, 10.7, 20.8, 10.2],\n",
       " [5.2, 9.9, 18.7, 12.0],\n",
       " [6.3, 12.9, 25.6, 15.1]]"
      ]
     },
     "execution_count": 54,
     "metadata": {},
     "output_type": "execute_result"
    }
   ],
   "source": [
    "temps = [[4.9, 11.5, 20.5, 13.0], [0.1, 9.0, 19.1, 9.4] ,\n",
    "         [0.3, 10.7, 20.8, 10.2], [5.2 , 9.9 , 18.7 , 12.0] ,\n",
    "         [6.3, 12.9, 25.6 , 15.1]] \n",
    "temps"
   ]
  },
  {
   "cell_type": "code",
   "execution_count": 55,
   "metadata": {},
   "outputs": [],
   "source": [
    "chuvas = [[51.0, 51.8, 62.3, 61.5], [37.2, 33.7, 52.5, 32.2],\n",
    "         [38., 45., 70., 38.], [55.2, 43.7, 44.5, 68.5] ,\n",
    "         [33., 45., 12., 60.]]"
   ]
  },
  {
   "cell_type": "code",
   "execution_count": 56,
   "metadata": {},
   "outputs": [
    {
     "data": {
      "text/plain": [
       "(2, 5, 4)"
      ]
     },
     "execution_count": 56,
     "metadata": {},
     "output_type": "execute_result"
    }
   ],
   "source": [
    "arr = np.array((temps, chuvas))\n",
    "arr.shape"
   ]
  },
  {
   "cell_type": "code",
   "execution_count": 57,
   "metadata": {},
   "outputs": [
    {
     "data": {
      "text/plain": [
       "array([[ 4.9, 51. ],\n",
       "       [11.5, 51.8],\n",
       "       [20.5, 62.3],\n",
       "       [13. , 61.5],\n",
       "       [ 0.1, 37.2],\n",
       "       [ 9. , 33.7],\n",
       "       [19.1, 52.5],\n",
       "       [ 9.4, 32.2],\n",
       "       [ 0.3, 38. ],\n",
       "       [10.7, 45. ],\n",
       "       [20.8, 70. ],\n",
       "       [10.2, 38. ],\n",
       "       [ 5.2, 55.2],\n",
       "       [ 9.9, 43.7],\n",
       "       [18.7, 44.5],\n",
       "       [12. , 68.5],\n",
       "       [ 6.3, 33. ],\n",
       "       [12.9, 45. ],\n",
       "       [25.6, 12. ],\n",
       "       [15.1, 60. ]])"
      ]
     },
     "execution_count": 57,
     "metadata": {},
     "output_type": "execute_result"
    }
   ],
   "source": [
    "#reshape e transpose\n",
    "arr1 = arr.reshape((2,20)).T\n",
    "arr1"
   ]
  },
  {
   "cell_type": "code",
   "execution_count": 58,
   "metadata": {},
   "outputs": [
    {
     "data": {
      "text/html": [
       "<div>\n",
       "<style scoped>\n",
       "    .dataframe tbody tr th:only-of-type {\n",
       "        vertical-align: middle;\n",
       "    }\n",
       "\n",
       "    .dataframe tbody tr th {\n",
       "        vertical-align: top;\n",
       "    }\n",
       "\n",
       "    .dataframe thead th {\n",
       "        text-align: right;\n",
       "    }\n",
       "</style>\n",
       "<table border=\"1\" class=\"dataframe\">\n",
       "  <thead>\n",
       "    <tr style=\"text-align: right;\">\n",
       "      <th></th>\n",
       "      <th></th>\n",
       "      <th>Temp Media</th>\n",
       "      <th>Chuva</th>\n",
       "    </tr>\n",
       "    <tr>\n",
       "      <th>Cidade</th>\n",
       "      <th>Mes</th>\n",
       "      <th></th>\n",
       "      <th></th>\n",
       "    </tr>\n",
       "  </thead>\n",
       "  <tbody>\n",
       "    <tr>\n",
       "      <th rowspan=\"4\" valign=\"top\">Paris</th>\n",
       "      <th>Jan</th>\n",
       "      <td>4.9</td>\n",
       "      <td>51.0</td>\n",
       "    </tr>\n",
       "    <tr>\n",
       "      <th>Abr</th>\n",
       "      <td>11.5</td>\n",
       "      <td>51.8</td>\n",
       "    </tr>\n",
       "    <tr>\n",
       "      <th>Jul</th>\n",
       "      <td>20.5</td>\n",
       "      <td>62.3</td>\n",
       "    </tr>\n",
       "    <tr>\n",
       "      <th>Out</th>\n",
       "      <td>13.0</td>\n",
       "      <td>61.5</td>\n",
       "    </tr>\n",
       "    <tr>\n",
       "      <th rowspan=\"4\" valign=\"top\">Berlin</th>\n",
       "      <th>Jan</th>\n",
       "      <td>0.1</td>\n",
       "      <td>37.2</td>\n",
       "    </tr>\n",
       "    <tr>\n",
       "      <th>Abr</th>\n",
       "      <td>9.0</td>\n",
       "      <td>33.7</td>\n",
       "    </tr>\n",
       "    <tr>\n",
       "      <th>Jul</th>\n",
       "      <td>19.1</td>\n",
       "      <td>52.5</td>\n",
       "    </tr>\n",
       "    <tr>\n",
       "      <th>Out</th>\n",
       "      <td>9.4</td>\n",
       "      <td>32.2</td>\n",
       "    </tr>\n",
       "    <tr>\n",
       "      <th rowspan=\"4\" valign=\"top\">Viena</th>\n",
       "      <th>Jan</th>\n",
       "      <td>0.3</td>\n",
       "      <td>38.0</td>\n",
       "    </tr>\n",
       "    <tr>\n",
       "      <th>Abr</th>\n",
       "      <td>10.7</td>\n",
       "      <td>45.0</td>\n",
       "    </tr>\n",
       "    <tr>\n",
       "      <th>Jul</th>\n",
       "      <td>20.8</td>\n",
       "      <td>70.0</td>\n",
       "    </tr>\n",
       "    <tr>\n",
       "      <th>Out</th>\n",
       "      <td>10.2</td>\n",
       "      <td>38.0</td>\n",
       "    </tr>\n",
       "    <tr>\n",
       "      <th rowspan=\"4\" valign=\"top\">Londres</th>\n",
       "      <th>Jan</th>\n",
       "      <td>5.2</td>\n",
       "      <td>55.2</td>\n",
       "    </tr>\n",
       "    <tr>\n",
       "      <th>Abr</th>\n",
       "      <td>9.9</td>\n",
       "      <td>43.7</td>\n",
       "    </tr>\n",
       "    <tr>\n",
       "      <th>Jul</th>\n",
       "      <td>18.7</td>\n",
       "      <td>44.5</td>\n",
       "    </tr>\n",
       "    <tr>\n",
       "      <th>Out</th>\n",
       "      <td>12.0</td>\n",
       "      <td>68.5</td>\n",
       "    </tr>\n",
       "    <tr>\n",
       "      <th rowspan=\"4\" valign=\"top\">Madri</th>\n",
       "      <th>Jan</th>\n",
       "      <td>6.3</td>\n",
       "      <td>33.0</td>\n",
       "    </tr>\n",
       "    <tr>\n",
       "      <th>Abr</th>\n",
       "      <td>12.9</td>\n",
       "      <td>45.0</td>\n",
       "    </tr>\n",
       "    <tr>\n",
       "      <th>Jul</th>\n",
       "      <td>25.6</td>\n",
       "      <td>12.0</td>\n",
       "    </tr>\n",
       "    <tr>\n",
       "      <th>Out</th>\n",
       "      <td>15.1</td>\n",
       "      <td>60.0</td>\n",
       "    </tr>\n",
       "  </tbody>\n",
       "</table>\n",
       "</div>"
      ],
      "text/plain": [
       "             Temp Media  Chuva\n",
       "Cidade  Mes                   \n",
       "Paris   Jan         4.9   51.0\n",
       "        Abr        11.5   51.8\n",
       "        Jul        20.5   62.3\n",
       "        Out        13.0   61.5\n",
       "Berlin  Jan         0.1   37.2\n",
       "        Abr         9.0   33.7\n",
       "        Jul        19.1   52.5\n",
       "        Out         9.4   32.2\n",
       "Viena   Jan         0.3   38.0\n",
       "        Abr        10.7   45.0\n",
       "        Jul        20.8   70.0\n",
       "        Out        10.2   38.0\n",
       "Londres Jan         5.2   55.2\n",
       "        Abr         9.9   43.7\n",
       "        Jul        18.7   44.5\n",
       "        Out        12.0   68.5\n",
       "Madri   Jan         6.3   33.0\n",
       "        Abr        12.9   45.0\n",
       "        Jul        25.6   12.0\n",
       "        Out        15.1   60.0"
      ]
     },
     "execution_count": 58,
     "metadata": {},
     "output_type": "execute_result"
    }
   ],
   "source": [
    "df3 = pd.DataFrame(arr1,index=index,columns=['Temp Media','Chuva'])\n",
    "df3"
   ]
  },
  {
   "cell_type": "code",
   "execution_count": 59,
   "metadata": {},
   "outputs": [
    {
     "data": {
      "text/html": [
       "<div>\n",
       "<style scoped>\n",
       "    .dataframe tbody tr th:only-of-type {\n",
       "        vertical-align: middle;\n",
       "    }\n",
       "\n",
       "    .dataframe tbody tr th {\n",
       "        vertical-align: top;\n",
       "    }\n",
       "\n",
       "    .dataframe thead th {\n",
       "        text-align: right;\n",
       "    }\n",
       "</style>\n",
       "<table border=\"1\" class=\"dataframe\">\n",
       "  <thead>\n",
       "    <tr style=\"text-align: right;\">\n",
       "      <th></th>\n",
       "      <th>Temp Media</th>\n",
       "      <th>Chuva</th>\n",
       "    </tr>\n",
       "    <tr>\n",
       "      <th>Mes</th>\n",
       "      <th></th>\n",
       "      <th></th>\n",
       "    </tr>\n",
       "  </thead>\n",
       "  <tbody>\n",
       "    <tr>\n",
       "      <th>Jan</th>\n",
       "      <td>5.2</td>\n",
       "      <td>55.2</td>\n",
       "    </tr>\n",
       "    <tr>\n",
       "      <th>Abr</th>\n",
       "      <td>9.9</td>\n",
       "      <td>43.7</td>\n",
       "    </tr>\n",
       "    <tr>\n",
       "      <th>Jul</th>\n",
       "      <td>18.7</td>\n",
       "      <td>44.5</td>\n",
       "    </tr>\n",
       "    <tr>\n",
       "      <th>Out</th>\n",
       "      <td>12.0</td>\n",
       "      <td>68.5</td>\n",
       "    </tr>\n",
       "  </tbody>\n",
       "</table>\n",
       "</div>"
      ],
      "text/plain": [
       "     Temp Media  Chuva\n",
       "Mes                   \n",
       "Jan         5.2   55.2\n",
       "Abr         9.9   43.7\n",
       "Jul        18.7   44.5\n",
       "Out        12.0   68.5"
      ]
     },
     "execution_count": 59,
     "metadata": {},
     "output_type": "execute_result"
    }
   ],
   "source": [
    "#usando loc\n",
    "df3.loc['Londres']"
   ]
  },
  {
   "cell_type": "code",
   "execution_count": 60,
   "metadata": {},
   "outputs": [
    {
     "data": {
      "text/plain": [
       "Temp Media     9.9\n",
       "Chuva         43.7\n",
       "Name: (Londres, Abr), dtype: float64"
      ]
     },
     "execution_count": 60,
     "metadata": {},
     "output_type": "execute_result"
    }
   ],
   "source": [
    "df3.loc[('Londres','Abr')]"
   ]
  },
  {
   "cell_type": "code",
   "execution_count": 61,
   "metadata": {},
   "outputs": [
    {
     "data": {
      "text/plain": [
       "43.7"
      ]
     },
     "execution_count": 61,
     "metadata": {},
     "output_type": "execute_result"
    }
   ],
   "source": [
    "df3.loc[('Londres','Abr'),'Chuva']\n",
    "#df3.loc[('Londres','Abr'),['Temp Media','Chuva']]"
   ]
  },
  {
   "cell_type": "code",
   "execution_count": 62,
   "metadata": {},
   "outputs": [
    {
     "data": {
      "text/html": [
       "<div>\n",
       "<style scoped>\n",
       "    .dataframe tbody tr th:only-of-type {\n",
       "        vertical-align: middle;\n",
       "    }\n",
       "\n",
       "    .dataframe tbody tr th {\n",
       "        vertical-align: top;\n",
       "    }\n",
       "\n",
       "    .dataframe thead th {\n",
       "        text-align: right;\n",
       "    }\n",
       "</style>\n",
       "<table border=\"1\" class=\"dataframe\">\n",
       "  <thead>\n",
       "    <tr style=\"text-align: right;\">\n",
       "      <th></th>\n",
       "      <th></th>\n",
       "      <th>Temp Media</th>\n",
       "      <th>Chuva</th>\n",
       "    </tr>\n",
       "    <tr>\n",
       "      <th>Cidade</th>\n",
       "      <th>Mes</th>\n",
       "      <th></th>\n",
       "      <th></th>\n",
       "    </tr>\n",
       "  </thead>\n",
       "  <tbody>\n",
       "    <tr>\n",
       "      <th rowspan=\"4\" valign=\"top\">Berlin</th>\n",
       "      <th>Abr</th>\n",
       "      <td>9.0</td>\n",
       "      <td>33.7</td>\n",
       "    </tr>\n",
       "    <tr>\n",
       "      <th>Jan</th>\n",
       "      <td>0.1</td>\n",
       "      <td>37.2</td>\n",
       "    </tr>\n",
       "    <tr>\n",
       "      <th>Jul</th>\n",
       "      <td>19.1</td>\n",
       "      <td>52.5</td>\n",
       "    </tr>\n",
       "    <tr>\n",
       "      <th>Out</th>\n",
       "      <td>9.4</td>\n",
       "      <td>32.2</td>\n",
       "    </tr>\n",
       "    <tr>\n",
       "      <th rowspan=\"4\" valign=\"top\">Londres</th>\n",
       "      <th>Abr</th>\n",
       "      <td>9.9</td>\n",
       "      <td>43.7</td>\n",
       "    </tr>\n",
       "    <tr>\n",
       "      <th>Jan</th>\n",
       "      <td>5.2</td>\n",
       "      <td>55.2</td>\n",
       "    </tr>\n",
       "    <tr>\n",
       "      <th>Jul</th>\n",
       "      <td>18.7</td>\n",
       "      <td>44.5</td>\n",
       "    </tr>\n",
       "    <tr>\n",
       "      <th>Out</th>\n",
       "      <td>12.0</td>\n",
       "      <td>68.5</td>\n",
       "    </tr>\n",
       "    <tr>\n",
       "      <th rowspan=\"4\" valign=\"top\">Madri</th>\n",
       "      <th>Abr</th>\n",
       "      <td>12.9</td>\n",
       "      <td>45.0</td>\n",
       "    </tr>\n",
       "    <tr>\n",
       "      <th>Jan</th>\n",
       "      <td>6.3</td>\n",
       "      <td>33.0</td>\n",
       "    </tr>\n",
       "    <tr>\n",
       "      <th>Jul</th>\n",
       "      <td>25.6</td>\n",
       "      <td>12.0</td>\n",
       "    </tr>\n",
       "    <tr>\n",
       "      <th>Out</th>\n",
       "      <td>15.1</td>\n",
       "      <td>60.0</td>\n",
       "    </tr>\n",
       "    <tr>\n",
       "      <th rowspan=\"4\" valign=\"top\">Paris</th>\n",
       "      <th>Abr</th>\n",
       "      <td>11.5</td>\n",
       "      <td>51.8</td>\n",
       "    </tr>\n",
       "    <tr>\n",
       "      <th>Jan</th>\n",
       "      <td>4.9</td>\n",
       "      <td>51.0</td>\n",
       "    </tr>\n",
       "    <tr>\n",
       "      <th>Jul</th>\n",
       "      <td>20.5</td>\n",
       "      <td>62.3</td>\n",
       "    </tr>\n",
       "    <tr>\n",
       "      <th>Out</th>\n",
       "      <td>13.0</td>\n",
       "      <td>61.5</td>\n",
       "    </tr>\n",
       "    <tr>\n",
       "      <th rowspan=\"4\" valign=\"top\">Viena</th>\n",
       "      <th>Abr</th>\n",
       "      <td>10.7</td>\n",
       "      <td>45.0</td>\n",
       "    </tr>\n",
       "    <tr>\n",
       "      <th>Jan</th>\n",
       "      <td>0.3</td>\n",
       "      <td>38.0</td>\n",
       "    </tr>\n",
       "    <tr>\n",
       "      <th>Jul</th>\n",
       "      <td>20.8</td>\n",
       "      <td>70.0</td>\n",
       "    </tr>\n",
       "    <tr>\n",
       "      <th>Out</th>\n",
       "      <td>10.2</td>\n",
       "      <td>38.0</td>\n",
       "    </tr>\n",
       "  </tbody>\n",
       "</table>\n",
       "</div>"
      ],
      "text/plain": [
       "             Temp Media  Chuva\n",
       "Cidade  Mes                   \n",
       "Berlin  Abr         9.0   33.7\n",
       "        Jan         0.1   37.2\n",
       "        Jul        19.1   52.5\n",
       "        Out         9.4   32.2\n",
       "Londres Abr         9.9   43.7\n",
       "        Jan         5.2   55.2\n",
       "        Jul        18.7   44.5\n",
       "        Out        12.0   68.5\n",
       "Madri   Abr        12.9   45.0\n",
       "        Jan         6.3   33.0\n",
       "        Jul        25.6   12.0\n",
       "        Out        15.1   60.0\n",
       "Paris   Abr        11.5   51.8\n",
       "        Jan         4.9   51.0\n",
       "        Jul        20.5   62.3\n",
       "        Out        13.0   61.5\n",
       "Viena   Abr        10.7   45.0\n",
       "        Jan         0.3   38.0\n",
       "        Jul        20.8   70.0\n",
       "        Out        10.2   38.0"
      ]
     },
     "execution_count": 62,
     "metadata": {},
     "output_type": "execute_result"
    }
   ],
   "source": [
    "#Para slicing, primeiro DEVEMOS ordenar (sorting)\n",
    "df3.sort_index(inplace=True)\n",
    "df3"
   ]
  },
  {
   "cell_type": "code",
   "execution_count": 63,
   "metadata": {},
   "outputs": [
    {
     "data": {
      "text/html": [
       "<div>\n",
       "<style scoped>\n",
       "    .dataframe tbody tr th:only-of-type {\n",
       "        vertical-align: middle;\n",
       "    }\n",
       "\n",
       "    .dataframe tbody tr th {\n",
       "        vertical-align: top;\n",
       "    }\n",
       "\n",
       "    .dataframe thead th {\n",
       "        text-align: right;\n",
       "    }\n",
       "</style>\n",
       "<table border=\"1\" class=\"dataframe\">\n",
       "  <thead>\n",
       "    <tr style=\"text-align: right;\">\n",
       "      <th></th>\n",
       "      <th></th>\n",
       "      <th>Temp Media</th>\n",
       "      <th>Chuva</th>\n",
       "    </tr>\n",
       "    <tr>\n",
       "      <th>Cidade</th>\n",
       "      <th>Mes</th>\n",
       "      <th></th>\n",
       "      <th></th>\n",
       "    </tr>\n",
       "  </thead>\n",
       "  <tbody>\n",
       "    <tr>\n",
       "      <th rowspan=\"4\" valign=\"top\">Berlin</th>\n",
       "      <th>Abr</th>\n",
       "      <td>9.0</td>\n",
       "      <td>33.7</td>\n",
       "    </tr>\n",
       "    <tr>\n",
       "      <th>Jan</th>\n",
       "      <td>0.1</td>\n",
       "      <td>37.2</td>\n",
       "    </tr>\n",
       "    <tr>\n",
       "      <th>Jul</th>\n",
       "      <td>19.1</td>\n",
       "      <td>52.5</td>\n",
       "    </tr>\n",
       "    <tr>\n",
       "      <th>Out</th>\n",
       "      <td>9.4</td>\n",
       "      <td>32.2</td>\n",
       "    </tr>\n",
       "    <tr>\n",
       "      <th rowspan=\"4\" valign=\"top\">Londres</th>\n",
       "      <th>Abr</th>\n",
       "      <td>9.9</td>\n",
       "      <td>43.7</td>\n",
       "    </tr>\n",
       "    <tr>\n",
       "      <th>Jan</th>\n",
       "      <td>5.2</td>\n",
       "      <td>55.2</td>\n",
       "    </tr>\n",
       "    <tr>\n",
       "      <th>Jul</th>\n",
       "      <td>18.7</td>\n",
       "      <td>44.5</td>\n",
       "    </tr>\n",
       "    <tr>\n",
       "      <th>Out</th>\n",
       "      <td>12.0</td>\n",
       "      <td>68.5</td>\n",
       "    </tr>\n",
       "    <tr>\n",
       "      <th rowspan=\"4\" valign=\"top\">Madri</th>\n",
       "      <th>Abr</th>\n",
       "      <td>12.9</td>\n",
       "      <td>45.0</td>\n",
       "    </tr>\n",
       "    <tr>\n",
       "      <th>Jan</th>\n",
       "      <td>6.3</td>\n",
       "      <td>33.0</td>\n",
       "    </tr>\n",
       "    <tr>\n",
       "      <th>Jul</th>\n",
       "      <td>25.6</td>\n",
       "      <td>12.0</td>\n",
       "    </tr>\n",
       "    <tr>\n",
       "      <th>Out</th>\n",
       "      <td>15.1</td>\n",
       "      <td>60.0</td>\n",
       "    </tr>\n",
       "  </tbody>\n",
       "</table>\n",
       "</div>"
      ],
      "text/plain": [
       "             Temp Media  Chuva\n",
       "Cidade  Mes                   \n",
       "Berlin  Abr         9.0   33.7\n",
       "        Jan         0.1   37.2\n",
       "        Jul        19.1   52.5\n",
       "        Out         9.4   32.2\n",
       "Londres Abr         9.9   43.7\n",
       "        Jan         5.2   55.2\n",
       "        Jul        18.7   44.5\n",
       "        Out        12.0   68.5\n",
       "Madri   Abr        12.9   45.0\n",
       "        Jan         6.3   33.0\n",
       "        Jul        25.6   12.0\n",
       "        Out        15.1   60.0"
      ]
     },
     "execution_count": 63,
     "metadata": {},
     "output_type": "execute_result"
    }
   ],
   "source": [
    "#slicing\n",
    "df3.loc['Berlin':'Madri']"
   ]
  },
  {
   "cell_type": "code",
   "execution_count": 64,
   "metadata": {},
   "outputs": [
    {
     "data": {
      "text/html": [
       "<div>\n",
       "<style scoped>\n",
       "    .dataframe tbody tr th:only-of-type {\n",
       "        vertical-align: middle;\n",
       "    }\n",
       "\n",
       "    .dataframe tbody tr th {\n",
       "        vertical-align: top;\n",
       "    }\n",
       "\n",
       "    .dataframe thead th {\n",
       "        text-align: right;\n",
       "    }\n",
       "</style>\n",
       "<table border=\"1\" class=\"dataframe\">\n",
       "  <thead>\n",
       "    <tr style=\"text-align: right;\">\n",
       "      <th></th>\n",
       "      <th></th>\n",
       "      <th>Temp Media</th>\n",
       "      <th>Chuva</th>\n",
       "    </tr>\n",
       "    <tr>\n",
       "      <th>Cidade</th>\n",
       "      <th>Mes</th>\n",
       "      <th></th>\n",
       "      <th></th>\n",
       "    </tr>\n",
       "  </thead>\n",
       "  <tbody>\n",
       "    <tr>\n",
       "      <th rowspan=\"3\" valign=\"top\">Berlin</th>\n",
       "      <th>Abr</th>\n",
       "      <td>9.0</td>\n",
       "      <td>33.7</td>\n",
       "    </tr>\n",
       "    <tr>\n",
       "      <th>Jan</th>\n",
       "      <td>0.1</td>\n",
       "      <td>37.2</td>\n",
       "    </tr>\n",
       "    <tr>\n",
       "      <th>Jul</th>\n",
       "      <td>19.1</td>\n",
       "      <td>52.5</td>\n",
       "    </tr>\n",
       "  </tbody>\n",
       "</table>\n",
       "</div>"
      ],
      "text/plain": [
       "            Temp Media  Chuva\n",
       "Cidade Mes                   \n",
       "Berlin Abr         9.0   33.7\n",
       "       Jan         0.1   37.2\n",
       "       Jul        19.1   52.5"
      ]
     },
     "execution_count": 64,
     "metadata": {},
     "output_type": "execute_result"
    }
   ],
   "source": [
    "#Para selecionar um subconjunto nos indices internos, devemos escrever o PAR de indices:\n",
    "df3.loc[('Berlin','Abr'):('Berlin','Jul')]"
   ]
  },
  {
   "cell_type": "code",
   "execution_count": 65,
   "metadata": {},
   "outputs": [
    {
     "data": {
      "text/html": [
       "<div>\n",
       "<style scoped>\n",
       "    .dataframe tbody tr th:only-of-type {\n",
       "        vertical-align: middle;\n",
       "    }\n",
       "\n",
       "    .dataframe tbody tr th {\n",
       "        vertical-align: top;\n",
       "    }\n",
       "\n",
       "    .dataframe thead th {\n",
       "        text-align: right;\n",
       "    }\n",
       "</style>\n",
       "<table border=\"1\" class=\"dataframe\">\n",
       "  <thead>\n",
       "    <tr style=\"text-align: right;\">\n",
       "      <th></th>\n",
       "      <th></th>\n",
       "      <th>Temp Media</th>\n",
       "      <th>Chuva</th>\n",
       "    </tr>\n",
       "    <tr>\n",
       "      <th>Cidade</th>\n",
       "      <th>Mes</th>\n",
       "      <th></th>\n",
       "      <th></th>\n",
       "    </tr>\n",
       "  </thead>\n",
       "  <tbody>\n",
       "    <tr>\n",
       "      <th rowspan=\"4\" valign=\"top\">Berlin</th>\n",
       "      <th>1</th>\n",
       "      <td>0.1</td>\n",
       "      <td>37.2</td>\n",
       "    </tr>\n",
       "    <tr>\n",
       "      <th>4</th>\n",
       "      <td>9.0</td>\n",
       "      <td>33.7</td>\n",
       "    </tr>\n",
       "    <tr>\n",
       "      <th>7</th>\n",
       "      <td>19.1</td>\n",
       "      <td>52.5</td>\n",
       "    </tr>\n",
       "    <tr>\n",
       "      <th>10</th>\n",
       "      <td>9.4</td>\n",
       "      <td>32.2</td>\n",
       "    </tr>\n",
       "    <tr>\n",
       "      <th rowspan=\"4\" valign=\"top\">Londres</th>\n",
       "      <th>1</th>\n",
       "      <td>5.2</td>\n",
       "      <td>55.2</td>\n",
       "    </tr>\n",
       "    <tr>\n",
       "      <th>4</th>\n",
       "      <td>9.9</td>\n",
       "      <td>43.7</td>\n",
       "    </tr>\n",
       "    <tr>\n",
       "      <th>7</th>\n",
       "      <td>18.7</td>\n",
       "      <td>44.5</td>\n",
       "    </tr>\n",
       "    <tr>\n",
       "      <th>10</th>\n",
       "      <td>12.0</td>\n",
       "      <td>68.5</td>\n",
       "    </tr>\n",
       "    <tr>\n",
       "      <th rowspan=\"4\" valign=\"top\">Madri</th>\n",
       "      <th>1</th>\n",
       "      <td>6.3</td>\n",
       "      <td>33.0</td>\n",
       "    </tr>\n",
       "    <tr>\n",
       "      <th>4</th>\n",
       "      <td>12.9</td>\n",
       "      <td>45.0</td>\n",
       "    </tr>\n",
       "    <tr>\n",
       "      <th>7</th>\n",
       "      <td>25.6</td>\n",
       "      <td>12.0</td>\n",
       "    </tr>\n",
       "    <tr>\n",
       "      <th>10</th>\n",
       "      <td>15.1</td>\n",
       "      <td>60.0</td>\n",
       "    </tr>\n",
       "    <tr>\n",
       "      <th rowspan=\"4\" valign=\"top\">Paris</th>\n",
       "      <th>1</th>\n",
       "      <td>4.9</td>\n",
       "      <td>51.0</td>\n",
       "    </tr>\n",
       "    <tr>\n",
       "      <th>4</th>\n",
       "      <td>11.5</td>\n",
       "      <td>51.8</td>\n",
       "    </tr>\n",
       "    <tr>\n",
       "      <th>7</th>\n",
       "      <td>20.5</td>\n",
       "      <td>62.3</td>\n",
       "    </tr>\n",
       "    <tr>\n",
       "      <th>10</th>\n",
       "      <td>13.0</td>\n",
       "      <td>61.5</td>\n",
       "    </tr>\n",
       "    <tr>\n",
       "      <th rowspan=\"4\" valign=\"top\">Viena</th>\n",
       "      <th>1</th>\n",
       "      <td>0.3</td>\n",
       "      <td>38.0</td>\n",
       "    </tr>\n",
       "    <tr>\n",
       "      <th>4</th>\n",
       "      <td>10.7</td>\n",
       "      <td>45.0</td>\n",
       "    </tr>\n",
       "    <tr>\n",
       "      <th>7</th>\n",
       "      <td>20.8</td>\n",
       "      <td>70.0</td>\n",
       "    </tr>\n",
       "    <tr>\n",
       "      <th>10</th>\n",
       "      <td>10.2</td>\n",
       "      <td>38.0</td>\n",
       "    </tr>\n",
       "  </tbody>\n",
       "</table>\n",
       "</div>"
      ],
      "text/plain": [
       "             Temp Media  Chuva\n",
       "Cidade  Mes                   \n",
       "Berlin  1           0.1   37.2\n",
       "        4           9.0   33.7\n",
       "        7          19.1   52.5\n",
       "        10          9.4   32.2\n",
       "Londres 1           5.2   55.2\n",
       "        4           9.9   43.7\n",
       "        7          18.7   44.5\n",
       "        10         12.0   68.5\n",
       "Madri   1           6.3   33.0\n",
       "        4          12.9   45.0\n",
       "        7          25.6   12.0\n",
       "        10         15.1   60.0\n",
       "Paris   1           4.9   51.0\n",
       "        4          11.5   51.8\n",
       "        7          20.5   62.3\n",
       "        10         13.0   61.5\n",
       "Viena   1           0.3   38.0\n",
       "        4          10.7   45.0\n",
       "        7          20.8   70.0\n",
       "        10         10.2   38.0"
      ]
     },
     "execution_count": 65,
     "metadata": {},
     "output_type": "execute_result"
    }
   ],
   "source": [
    "#para manter os meses em ordem cronologia\n",
    "df4 = df3.rename({'Jan': 1, 'Abr': 4, 'Jul': 7, 'Out': 10})\n",
    "df4.sort_index(inplace =True)\n",
    "df4"
   ]
  },
  {
   "cell_type": "code",
   "execution_count": 66,
   "metadata": {},
   "outputs": [
    {
     "data": {
      "text/html": [
       "<div>\n",
       "<style scoped>\n",
       "    .dataframe tbody tr th:only-of-type {\n",
       "        vertical-align: middle;\n",
       "    }\n",
       "\n",
       "    .dataframe tbody tr th {\n",
       "        vertical-align: top;\n",
       "    }\n",
       "\n",
       "    .dataframe thead th {\n",
       "        text-align: right;\n",
       "    }\n",
       "</style>\n",
       "<table border=\"1\" class=\"dataframe\">\n",
       "  <thead>\n",
       "    <tr style=\"text-align: right;\">\n",
       "      <th></th>\n",
       "      <th>Temp Media</th>\n",
       "      <th>Chuva</th>\n",
       "    </tr>\n",
       "    <tr>\n",
       "      <th>Cidade</th>\n",
       "      <th></th>\n",
       "      <th></th>\n",
       "    </tr>\n",
       "  </thead>\n",
       "  <tbody>\n",
       "    <tr>\n",
       "      <th>Berlin</th>\n",
       "      <td>19.1</td>\n",
       "      <td>52.5</td>\n",
       "    </tr>\n",
       "    <tr>\n",
       "      <th>Londres</th>\n",
       "      <td>18.7</td>\n",
       "      <td>44.5</td>\n",
       "    </tr>\n",
       "    <tr>\n",
       "      <th>Madri</th>\n",
       "      <td>25.6</td>\n",
       "      <td>12.0</td>\n",
       "    </tr>\n",
       "    <tr>\n",
       "      <th>Paris</th>\n",
       "      <td>20.5</td>\n",
       "      <td>62.3</td>\n",
       "    </tr>\n",
       "    <tr>\n",
       "      <th>Viena</th>\n",
       "      <td>20.8</td>\n",
       "      <td>70.0</td>\n",
       "    </tr>\n",
       "  </tbody>\n",
       "</table>\n",
       "</div>"
      ],
      "text/plain": [
       "         Temp Media  Chuva\n",
       "Cidade                    \n",
       "Berlin         19.1   52.5\n",
       "Londres        18.7   44.5\n",
       "Madri          25.6   12.0\n",
       "Paris          20.5   62.3\n",
       "Viena          20.8   70.0"
      ]
     },
     "execution_count": 66,
     "metadata": {},
     "output_type": "execute_result"
    }
   ],
   "source": [
    "df3.xs('Jul',level=1)\n",
    "#no level=1, procure 'Jul'"
   ]
  },
  {
   "cell_type": "code",
   "execution_count": 67,
   "metadata": {},
   "outputs": [
    {
     "data": {
      "text/html": [
       "<div>\n",
       "<style scoped>\n",
       "    .dataframe tbody tr th:only-of-type {\n",
       "        vertical-align: middle;\n",
       "    }\n",
       "\n",
       "    .dataframe tbody tr th {\n",
       "        vertical-align: top;\n",
       "    }\n",
       "\n",
       "    .dataframe thead tr th {\n",
       "        text-align: left;\n",
       "    }\n",
       "\n",
       "    .dataframe thead tr:last-of-type th {\n",
       "        text-align: right;\n",
       "    }\n",
       "</style>\n",
       "<table border=\"1\" class=\"dataframe\">\n",
       "  <thead>\n",
       "    <tr>\n",
       "      <th></th>\n",
       "      <th colspan=\"4\" halign=\"left\">Temp Media</th>\n",
       "      <th colspan=\"4\" halign=\"left\">Chuva</th>\n",
       "    </tr>\n",
       "    <tr>\n",
       "      <th>Mes</th>\n",
       "      <th>Abr</th>\n",
       "      <th>Jan</th>\n",
       "      <th>Jul</th>\n",
       "      <th>Out</th>\n",
       "      <th>Abr</th>\n",
       "      <th>Jan</th>\n",
       "      <th>Jul</th>\n",
       "      <th>Out</th>\n",
       "    </tr>\n",
       "    <tr>\n",
       "      <th>Cidade</th>\n",
       "      <th></th>\n",
       "      <th></th>\n",
       "      <th></th>\n",
       "      <th></th>\n",
       "      <th></th>\n",
       "      <th></th>\n",
       "      <th></th>\n",
       "      <th></th>\n",
       "    </tr>\n",
       "  </thead>\n",
       "  <tbody>\n",
       "    <tr>\n",
       "      <th>Berlin</th>\n",
       "      <td>9.0</td>\n",
       "      <td>0.1</td>\n",
       "      <td>19.1</td>\n",
       "      <td>9.4</td>\n",
       "      <td>33.7</td>\n",
       "      <td>37.2</td>\n",
       "      <td>52.5</td>\n",
       "      <td>32.2</td>\n",
       "    </tr>\n",
       "    <tr>\n",
       "      <th>Londres</th>\n",
       "      <td>9.9</td>\n",
       "      <td>5.2</td>\n",
       "      <td>18.7</td>\n",
       "      <td>12.0</td>\n",
       "      <td>43.7</td>\n",
       "      <td>55.2</td>\n",
       "      <td>44.5</td>\n",
       "      <td>68.5</td>\n",
       "    </tr>\n",
       "    <tr>\n",
       "      <th>Madri</th>\n",
       "      <td>12.9</td>\n",
       "      <td>6.3</td>\n",
       "      <td>25.6</td>\n",
       "      <td>15.1</td>\n",
       "      <td>45.0</td>\n",
       "      <td>33.0</td>\n",
       "      <td>12.0</td>\n",
       "      <td>60.0</td>\n",
       "    </tr>\n",
       "    <tr>\n",
       "      <th>Paris</th>\n",
       "      <td>11.5</td>\n",
       "      <td>4.9</td>\n",
       "      <td>20.5</td>\n",
       "      <td>13.0</td>\n",
       "      <td>51.8</td>\n",
       "      <td>51.0</td>\n",
       "      <td>62.3</td>\n",
       "      <td>61.5</td>\n",
       "    </tr>\n",
       "    <tr>\n",
       "      <th>Viena</th>\n",
       "      <td>10.7</td>\n",
       "      <td>0.3</td>\n",
       "      <td>20.8</td>\n",
       "      <td>10.2</td>\n",
       "      <td>45.0</td>\n",
       "      <td>38.0</td>\n",
       "      <td>70.0</td>\n",
       "      <td>38.0</td>\n",
       "    </tr>\n",
       "  </tbody>\n",
       "</table>\n",
       "</div>"
      ],
      "text/plain": [
       "        Temp Media                  Chuva                  \n",
       "Mes            Abr  Jan   Jul   Out   Abr   Jan   Jul   Out\n",
       "Cidade                                                     \n",
       "Berlin         9.0  0.1  19.1   9.4  33.7  37.2  52.5  32.2\n",
       "Londres        9.9  5.2  18.7  12.0  43.7  55.2  44.5  68.5\n",
       "Madri         12.9  6.3  25.6  15.1  45.0  33.0  12.0  60.0\n",
       "Paris         11.5  4.9  20.5  13.0  51.8  51.0  62.3  61.5\n",
       "Viena         10.7  0.3  20.8  10.2  45.0  38.0  70.0  38.0"
      ]
     },
     "execution_count": 67,
     "metadata": {},
     "output_type": "execute_result"
    }
   ],
   "source": [
    "df3.unstack()"
   ]
  },
  {
   "cell_type": "markdown",
   "metadata": {},
   "source": [
    "Veja um tutorial interessante sobre MultiIndex em\n",
    "https://towardsdatascience.com/accessing-data-in-a-multiindex-dataframe-in-pandas-569e8767201d"
   ]
  },
  {
   "cell_type": "markdown",
   "metadata": {},
   "source": [
    "**6. Limpeza de Dados**"
   ]
  },
  {
   "cell_type": "code",
   "execution_count": 68,
   "metadata": {},
   "outputs": [
    {
     "data": {
      "text/html": [
       "<div>\n",
       "<style scoped>\n",
       "    .dataframe tbody tr th:only-of-type {\n",
       "        vertical-align: middle;\n",
       "    }\n",
       "\n",
       "    .dataframe tbody tr th {\n",
       "        vertical-align: top;\n",
       "    }\n",
       "\n",
       "    .dataframe thead th {\n",
       "        text-align: right;\n",
       "    }\n",
       "</style>\n",
       "<table border=\"1\" class=\"dataframe\">\n",
       "  <thead>\n",
       "    <tr style=\"text-align: right;\">\n",
       "      <th></th>\n",
       "      <th>A</th>\n",
       "      <th>B</th>\n",
       "      <th>C</th>\n",
       "      <th>D</th>\n",
       "    </tr>\n",
       "  </thead>\n",
       "  <tbody>\n",
       "    <tr>\n",
       "      <th>0</th>\n",
       "      <td>1.1</td>\n",
       "      <td>NaN</td>\n",
       "      <td>NaN</td>\n",
       "      <td>10.3</td>\n",
       "    </tr>\n",
       "    <tr>\n",
       "      <th>1</th>\n",
       "      <td>0.8</td>\n",
       "      <td>NaN</td>\n",
       "      <td>3.6</td>\n",
       "      <td>2.9</td>\n",
       "    </tr>\n",
       "    <tr>\n",
       "      <th>2</th>\n",
       "      <td>1.2</td>\n",
       "      <td>2.5</td>\n",
       "      <td>1.6</td>\n",
       "      <td>2.7</td>\n",
       "    </tr>\n",
       "    <tr>\n",
       "      <th>3</th>\n",
       "      <td>NaN</td>\n",
       "      <td>NaN</td>\n",
       "      <td>NaN</td>\n",
       "      <td>NaN</td>\n",
       "    </tr>\n",
       "    <tr>\n",
       "      <th>4</th>\n",
       "      <td>NaN</td>\n",
       "      <td>NaN</td>\n",
       "      <td>3.6</td>\n",
       "      <td>5.3</td>\n",
       "    </tr>\n",
       "  </tbody>\n",
       "</table>\n",
       "</div>"
      ],
      "text/plain": [
       "     A    B    C     D\n",
       "0  1.1  NaN  NaN  10.3\n",
       "1  0.8  NaN  3.6   2.9\n",
       "2  1.2  2.5  1.6   2.7\n",
       "3  NaN  NaN  NaN   NaN\n",
       "4  NaN  NaN  3.6   5.3"
      ]
     },
     "execution_count": 68,
     "metadata": {},
     "output_type": "execute_result"
    }
   ],
   "source": [
    "#detectando valores invalidos\n",
    "df = pd.DataFrame ([[1.1, np.nan, np.nan, 10.3],\n",
    " [0.8, np.nan, 3.6, 2.9], [1.2, 2.5, 1.6, 2.7],\n",
    " [np.nan, np.nan, np.nan, np.nan],\n",
    " [np.nan, np.nan, 3.6, 5.3]],columns =list('ABCD'))\n",
    "df"
   ]
  },
  {
   "cell_type": "code",
   "execution_count": 69,
   "metadata": {},
   "outputs": [
    {
     "data": {
      "text/html": [
       "<div>\n",
       "<style scoped>\n",
       "    .dataframe tbody tr th:only-of-type {\n",
       "        vertical-align: middle;\n",
       "    }\n",
       "\n",
       "    .dataframe tbody tr th {\n",
       "        vertical-align: top;\n",
       "    }\n",
       "\n",
       "    .dataframe thead th {\n",
       "        text-align: right;\n",
       "    }\n",
       "</style>\n",
       "<table border=\"1\" class=\"dataframe\">\n",
       "  <thead>\n",
       "    <tr style=\"text-align: right;\">\n",
       "      <th></th>\n",
       "      <th>A</th>\n",
       "      <th>B</th>\n",
       "      <th>C</th>\n",
       "      <th>D</th>\n",
       "    </tr>\n",
       "  </thead>\n",
       "  <tbody>\n",
       "    <tr>\n",
       "      <th>0</th>\n",
       "      <td>False</td>\n",
       "      <td>True</td>\n",
       "      <td>True</td>\n",
       "      <td>False</td>\n",
       "    </tr>\n",
       "    <tr>\n",
       "      <th>1</th>\n",
       "      <td>False</td>\n",
       "      <td>True</td>\n",
       "      <td>False</td>\n",
       "      <td>False</td>\n",
       "    </tr>\n",
       "    <tr>\n",
       "      <th>2</th>\n",
       "      <td>False</td>\n",
       "      <td>False</td>\n",
       "      <td>False</td>\n",
       "      <td>False</td>\n",
       "    </tr>\n",
       "    <tr>\n",
       "      <th>3</th>\n",
       "      <td>True</td>\n",
       "      <td>True</td>\n",
       "      <td>True</td>\n",
       "      <td>True</td>\n",
       "    </tr>\n",
       "    <tr>\n",
       "      <th>4</th>\n",
       "      <td>True</td>\n",
       "      <td>True</td>\n",
       "      <td>False</td>\n",
       "      <td>False</td>\n",
       "    </tr>\n",
       "  </tbody>\n",
       "</table>\n",
       "</div>"
      ],
      "text/plain": [
       "       A      B      C      D\n",
       "0  False   True   True  False\n",
       "1  False   True  False  False\n",
       "2  False  False  False  False\n",
       "3   True   True   True   True\n",
       "4   True   True  False  False"
      ]
     },
     "execution_count": 69,
     "metadata": {},
     "output_type": "execute_result"
    }
   ],
   "source": [
    "df.isnull()"
   ]
  },
  {
   "cell_type": "code",
   "execution_count": 70,
   "metadata": {},
   "outputs": [],
   "source": [
    "#df.loc[df['A'].isnull()]"
   ]
  },
  {
   "cell_type": "code",
   "execution_count": 71,
   "metadata": {},
   "outputs": [
    {
     "data": {
      "text/plain": [
       "A    2\n",
       "B    4\n",
       "C    2\n",
       "D    1\n",
       "dtype: int64"
      ]
     },
     "execution_count": 71,
     "metadata": {},
     "output_type": "execute_result"
    }
   ],
   "source": [
    "df.isnull().sum()"
   ]
  },
  {
   "cell_type": "code",
   "execution_count": 72,
   "metadata": {},
   "outputs": [
    {
     "data": {
      "text/plain": [
       "0    False\n",
       "1    False\n",
       "2    False\n",
       "3     True\n",
       "4     True\n",
       "Name: A, dtype: bool"
      ]
     },
     "execution_count": 72,
     "metadata": {},
     "output_type": "execute_result"
    }
   ],
   "source": [
    "df['A'].isnull()"
   ]
  },
  {
   "cell_type": "code",
   "execution_count": 73,
   "metadata": {},
   "outputs": [
    {
     "data": {
      "text/html": [
       "<div>\n",
       "<style scoped>\n",
       "    .dataframe tbody tr th:only-of-type {\n",
       "        vertical-align: middle;\n",
       "    }\n",
       "\n",
       "    .dataframe tbody tr th {\n",
       "        vertical-align: top;\n",
       "    }\n",
       "\n",
       "    .dataframe thead th {\n",
       "        text-align: right;\n",
       "    }\n",
       "</style>\n",
       "<table border=\"1\" class=\"dataframe\">\n",
       "  <thead>\n",
       "    <tr style=\"text-align: right;\">\n",
       "      <th></th>\n",
       "      <th>A</th>\n",
       "      <th>B</th>\n",
       "      <th>C</th>\n",
       "      <th>D</th>\n",
       "    </tr>\n",
       "  </thead>\n",
       "  <tbody>\n",
       "    <tr>\n",
       "      <th>2</th>\n",
       "      <td>1.2</td>\n",
       "      <td>2.5</td>\n",
       "      <td>1.6</td>\n",
       "      <td>2.7</td>\n",
       "    </tr>\n",
       "  </tbody>\n",
       "</table>\n",
       "</div>"
      ],
      "text/plain": [
       "     A    B    C    D\n",
       "2  1.2  2.5  1.6  2.7"
      ]
     },
     "execution_count": 73,
     "metadata": {},
     "output_type": "execute_result"
    }
   ],
   "source": [
    "#excluindo valores invalidos\n",
    "df.dropna()"
   ]
  },
  {
   "cell_type": "code",
   "execution_count": 74,
   "metadata": {},
   "outputs": [
    {
     "data": {
      "text/html": [
       "<div>\n",
       "<style scoped>\n",
       "    .dataframe tbody tr th:only-of-type {\n",
       "        vertical-align: middle;\n",
       "    }\n",
       "\n",
       "    .dataframe tbody tr th {\n",
       "        vertical-align: top;\n",
       "    }\n",
       "\n",
       "    .dataframe thead th {\n",
       "        text-align: right;\n",
       "    }\n",
       "</style>\n",
       "<table border=\"1\" class=\"dataframe\">\n",
       "  <thead>\n",
       "    <tr style=\"text-align: right;\">\n",
       "      <th></th>\n",
       "      <th>A</th>\n",
       "      <th>B</th>\n",
       "      <th>C</th>\n",
       "      <th>D</th>\n",
       "    </tr>\n",
       "  </thead>\n",
       "  <tbody>\n",
       "    <tr>\n",
       "      <th>0</th>\n",
       "      <td>1.1</td>\n",
       "      <td>NaN</td>\n",
       "      <td>NaN</td>\n",
       "      <td>10.3</td>\n",
       "    </tr>\n",
       "    <tr>\n",
       "      <th>1</th>\n",
       "      <td>0.8</td>\n",
       "      <td>NaN</td>\n",
       "      <td>3.6</td>\n",
       "      <td>2.9</td>\n",
       "    </tr>\n",
       "    <tr>\n",
       "      <th>2</th>\n",
       "      <td>1.2</td>\n",
       "      <td>2.5</td>\n",
       "      <td>1.6</td>\n",
       "      <td>2.7</td>\n",
       "    </tr>\n",
       "    <tr>\n",
       "      <th>4</th>\n",
       "      <td>NaN</td>\n",
       "      <td>NaN</td>\n",
       "      <td>3.6</td>\n",
       "      <td>5.3</td>\n",
       "    </tr>\n",
       "  </tbody>\n",
       "</table>\n",
       "</div>"
      ],
      "text/plain": [
       "     A    B    C     D\n",
       "0  1.1  NaN  NaN  10.3\n",
       "1  0.8  NaN  3.6   2.9\n",
       "2  1.2  2.5  1.6   2.7\n",
       "4  NaN  NaN  3.6   5.3"
      ]
     },
     "execution_count": 74,
     "metadata": {},
     "output_type": "execute_result"
    }
   ],
   "source": [
    "#excluindo valores apenas se TODOS os valores invalidos\n",
    "#how = 'all'. Default is 'any'\n",
    "df.dropna(how='all')"
   ]
  },
  {
   "cell_type": "code",
   "execution_count": 75,
   "metadata": {},
   "outputs": [
    {
     "data": {
      "text/html": [
       "<div>\n",
       "<style scoped>\n",
       "    .dataframe tbody tr th:only-of-type {\n",
       "        vertical-align: middle;\n",
       "    }\n",
       "\n",
       "    .dataframe tbody tr th {\n",
       "        vertical-align: top;\n",
       "    }\n",
       "\n",
       "    .dataframe thead th {\n",
       "        text-align: right;\n",
       "    }\n",
       "</style>\n",
       "<table border=\"1\" class=\"dataframe\">\n",
       "  <thead>\n",
       "    <tr style=\"text-align: right;\">\n",
       "      <th></th>\n",
       "      <th>A</th>\n",
       "      <th>B</th>\n",
       "      <th>C</th>\n",
       "      <th>D</th>\n",
       "    </tr>\n",
       "  </thead>\n",
       "  <tbody>\n",
       "    <tr>\n",
       "      <th>1</th>\n",
       "      <td>0.8</td>\n",
       "      <td>NaN</td>\n",
       "      <td>3.6</td>\n",
       "      <td>2.9</td>\n",
       "    </tr>\n",
       "    <tr>\n",
       "      <th>2</th>\n",
       "      <td>1.2</td>\n",
       "      <td>2.5</td>\n",
       "      <td>1.6</td>\n",
       "      <td>2.7</td>\n",
       "    </tr>\n",
       "  </tbody>\n",
       "</table>\n",
       "</div>"
      ],
      "text/plain": [
       "     A    B    C    D\n",
       "1  0.8  NaN  3.6  2.9\n",
       "2  1.2  2.5  1.6  2.7"
      ]
     },
     "execution_count": 75,
     "metadata": {},
     "output_type": "execute_result"
    }
   ],
   "source": [
    "#excluindo valores ao longo de um eixo\n",
    "#exemplo: minimo três valores NÃO NaN\n",
    "df.dropna(thresh=3, axis=0) "
   ]
  },
  {
   "cell_type": "code",
   "execution_count": 76,
   "metadata": {},
   "outputs": [
    {
     "data": {
      "text/html": [
       "<div>\n",
       "<style scoped>\n",
       "    .dataframe tbody tr th:only-of-type {\n",
       "        vertical-align: middle;\n",
       "    }\n",
       "\n",
       "    .dataframe tbody tr th {\n",
       "        vertical-align: top;\n",
       "    }\n",
       "\n",
       "    .dataframe thead th {\n",
       "        text-align: right;\n",
       "    }\n",
       "</style>\n",
       "<table border=\"1\" class=\"dataframe\">\n",
       "  <thead>\n",
       "    <tr style=\"text-align: right;\">\n",
       "      <th></th>\n",
       "      <th>A</th>\n",
       "      <th>B</th>\n",
       "      <th>C</th>\n",
       "      <th>D</th>\n",
       "    </tr>\n",
       "  </thead>\n",
       "  <tbody>\n",
       "    <tr>\n",
       "      <th>0</th>\n",
       "      <td>1.1</td>\n",
       "      <td>1.0</td>\n",
       "      <td>1.0</td>\n",
       "      <td>10.3</td>\n",
       "    </tr>\n",
       "    <tr>\n",
       "      <th>1</th>\n",
       "      <td>0.8</td>\n",
       "      <td>1.0</td>\n",
       "      <td>3.6</td>\n",
       "      <td>2.9</td>\n",
       "    </tr>\n",
       "    <tr>\n",
       "      <th>2</th>\n",
       "      <td>1.2</td>\n",
       "      <td>2.5</td>\n",
       "      <td>1.6</td>\n",
       "      <td>2.7</td>\n",
       "    </tr>\n",
       "    <tr>\n",
       "      <th>3</th>\n",
       "      <td>1.0</td>\n",
       "      <td>1.0</td>\n",
       "      <td>1.0</td>\n",
       "      <td>1.0</td>\n",
       "    </tr>\n",
       "    <tr>\n",
       "      <th>4</th>\n",
       "      <td>1.0</td>\n",
       "      <td>1.0</td>\n",
       "      <td>3.6</td>\n",
       "      <td>5.3</td>\n",
       "    </tr>\n",
       "  </tbody>\n",
       "</table>\n",
       "</div>"
      ],
      "text/plain": [
       "     A    B    C     D\n",
       "0  1.1  1.0  1.0  10.3\n",
       "1  0.8  1.0  3.6   2.9\n",
       "2  1.2  2.5  1.6   2.7\n",
       "3  1.0  1.0  1.0   1.0\n",
       "4  1.0  1.0  3.6   5.3"
      ]
     },
     "execution_count": 76,
     "metadata": {},
     "output_type": "execute_result"
    }
   ],
   "source": [
    "#Substituindo NaN\n",
    "df.fillna(1.0)"
   ]
  },
  {
   "cell_type": "code",
   "execution_count": 77,
   "metadata": {},
   "outputs": [
    {
     "data": {
      "text/html": [
       "<div>\n",
       "<style scoped>\n",
       "    .dataframe tbody tr th:only-of-type {\n",
       "        vertical-align: middle;\n",
       "    }\n",
       "\n",
       "    .dataframe tbody tr th {\n",
       "        vertical-align: top;\n",
       "    }\n",
       "\n",
       "    .dataframe thead th {\n",
       "        text-align: right;\n",
       "    }\n",
       "</style>\n",
       "<table border=\"1\" class=\"dataframe\">\n",
       "  <thead>\n",
       "    <tr style=\"text-align: right;\">\n",
       "      <th></th>\n",
       "      <th>A</th>\n",
       "      <th>B</th>\n",
       "      <th>C</th>\n",
       "      <th>D</th>\n",
       "    </tr>\n",
       "  </thead>\n",
       "  <tbody>\n",
       "    <tr>\n",
       "      <th>0</th>\n",
       "      <td>1.1</td>\n",
       "      <td>NaN</td>\n",
       "      <td>NaN</td>\n",
       "      <td>10.3</td>\n",
       "    </tr>\n",
       "    <tr>\n",
       "      <th>1</th>\n",
       "      <td>0.8</td>\n",
       "      <td>NaN</td>\n",
       "      <td>3.6</td>\n",
       "      <td>2.9</td>\n",
       "    </tr>\n",
       "    <tr>\n",
       "      <th>2</th>\n",
       "      <td>1.2</td>\n",
       "      <td>2.5</td>\n",
       "      <td>1.6</td>\n",
       "      <td>2.7</td>\n",
       "    </tr>\n",
       "    <tr>\n",
       "      <th>3</th>\n",
       "      <td>1.2</td>\n",
       "      <td>2.5</td>\n",
       "      <td>1.6</td>\n",
       "      <td>2.7</td>\n",
       "    </tr>\n",
       "    <tr>\n",
       "      <th>4</th>\n",
       "      <td>1.2</td>\n",
       "      <td>2.5</td>\n",
       "      <td>3.6</td>\n",
       "      <td>5.3</td>\n",
       "    </tr>\n",
       "  </tbody>\n",
       "</table>\n",
       "</div>"
      ],
      "text/plain": [
       "     A    B    C     D\n",
       "0  1.1  NaN  NaN  10.3\n",
       "1  0.8  NaN  3.6   2.9\n",
       "2  1.2  2.5  1.6   2.7\n",
       "3  1.2  2.5  1.6   2.7\n",
       "4  1.2  2.5  3.6   5.3"
      ]
     },
     "execution_count": 77,
     "metadata": {},
     "output_type": "execute_result"
    }
   ],
   "source": [
    "#Substituindo NaN \n",
    "#forward-fill (direção COLUNAS)\n",
    "df.fillna(method ='ffill',axis=0)"
   ]
  },
  {
   "cell_type": "code",
   "execution_count": 78,
   "metadata": {},
   "outputs": [
    {
     "data": {
      "text/html": [
       "<div>\n",
       "<style scoped>\n",
       "    .dataframe tbody tr th:only-of-type {\n",
       "        vertical-align: middle;\n",
       "    }\n",
       "\n",
       "    .dataframe tbody tr th {\n",
       "        vertical-align: top;\n",
       "    }\n",
       "\n",
       "    .dataframe thead th {\n",
       "        text-align: right;\n",
       "    }\n",
       "</style>\n",
       "<table border=\"1\" class=\"dataframe\">\n",
       "  <thead>\n",
       "    <tr style=\"text-align: right;\">\n",
       "      <th></th>\n",
       "      <th>A</th>\n",
       "      <th>B</th>\n",
       "      <th>C</th>\n",
       "      <th>D</th>\n",
       "    </tr>\n",
       "  </thead>\n",
       "  <tbody>\n",
       "    <tr>\n",
       "      <th>0</th>\n",
       "      <td>1.1</td>\n",
       "      <td>1.1</td>\n",
       "      <td>1.1</td>\n",
       "      <td>10.3</td>\n",
       "    </tr>\n",
       "    <tr>\n",
       "      <th>1</th>\n",
       "      <td>0.8</td>\n",
       "      <td>0.8</td>\n",
       "      <td>3.6</td>\n",
       "      <td>2.9</td>\n",
       "    </tr>\n",
       "    <tr>\n",
       "      <th>2</th>\n",
       "      <td>1.2</td>\n",
       "      <td>2.5</td>\n",
       "      <td>1.6</td>\n",
       "      <td>2.7</td>\n",
       "    </tr>\n",
       "    <tr>\n",
       "      <th>3</th>\n",
       "      <td>NaN</td>\n",
       "      <td>NaN</td>\n",
       "      <td>NaN</td>\n",
       "      <td>NaN</td>\n",
       "    </tr>\n",
       "    <tr>\n",
       "      <th>4</th>\n",
       "      <td>NaN</td>\n",
       "      <td>NaN</td>\n",
       "      <td>3.6</td>\n",
       "      <td>5.3</td>\n",
       "    </tr>\n",
       "  </tbody>\n",
       "</table>\n",
       "</div>"
      ],
      "text/plain": [
       "     A    B    C     D\n",
       "0  1.1  1.1  1.1  10.3\n",
       "1  0.8  0.8  3.6   2.9\n",
       "2  1.2  2.5  1.6   2.7\n",
       "3  NaN  NaN  NaN   NaN\n",
       "4  NaN  NaN  3.6   5.3"
      ]
     },
     "execution_count": 78,
     "metadata": {},
     "output_type": "execute_result"
    }
   ],
   "source": [
    "#forward-fill (direção LINHAS)\n",
    "df.fillna(method ='ffill',axis=1)"
   ]
  },
  {
   "cell_type": "code",
   "execution_count": 79,
   "metadata": {},
   "outputs": [
    {
     "data": {
      "text/html": [
       "<div>\n",
       "<style scoped>\n",
       "    .dataframe tbody tr th:only-of-type {\n",
       "        vertical-align: middle;\n",
       "    }\n",
       "\n",
       "    .dataframe tbody tr th {\n",
       "        vertical-align: top;\n",
       "    }\n",
       "\n",
       "    .dataframe thead th {\n",
       "        text-align: right;\n",
       "    }\n",
       "</style>\n",
       "<table border=\"1\" class=\"dataframe\">\n",
       "  <thead>\n",
       "    <tr style=\"text-align: right;\">\n",
       "      <th></th>\n",
       "      <th>A</th>\n",
       "      <th>B</th>\n",
       "      <th>C</th>\n",
       "      <th>D</th>\n",
       "    </tr>\n",
       "  </thead>\n",
       "  <tbody>\n",
       "    <tr>\n",
       "      <th>0</th>\n",
       "      <td>1.1</td>\n",
       "      <td>10.3</td>\n",
       "      <td>10.3</td>\n",
       "      <td>10.3</td>\n",
       "    </tr>\n",
       "    <tr>\n",
       "      <th>1</th>\n",
       "      <td>0.8</td>\n",
       "      <td>3.6</td>\n",
       "      <td>3.6</td>\n",
       "      <td>2.9</td>\n",
       "    </tr>\n",
       "    <tr>\n",
       "      <th>2</th>\n",
       "      <td>1.2</td>\n",
       "      <td>2.5</td>\n",
       "      <td>1.6</td>\n",
       "      <td>2.7</td>\n",
       "    </tr>\n",
       "    <tr>\n",
       "      <th>3</th>\n",
       "      <td>NaN</td>\n",
       "      <td>NaN</td>\n",
       "      <td>NaN</td>\n",
       "      <td>NaN</td>\n",
       "    </tr>\n",
       "    <tr>\n",
       "      <th>4</th>\n",
       "      <td>3.6</td>\n",
       "      <td>3.6</td>\n",
       "      <td>3.6</td>\n",
       "      <td>5.3</td>\n",
       "    </tr>\n",
       "  </tbody>\n",
       "</table>\n",
       "</div>"
      ],
      "text/plain": [
       "     A     B     C     D\n",
       "0  1.1  10.3  10.3  10.3\n",
       "1  0.8   3.6   3.6   2.9\n",
       "2  1.2   2.5   1.6   2.7\n",
       "3  NaN   NaN   NaN   NaN\n",
       "4  3.6   3.6   3.6   5.3"
      ]
     },
     "execution_count": 79,
     "metadata": {},
     "output_type": "execute_result"
    }
   ],
   "source": [
    "#backward-fill\n",
    "df.fillna(method ='bfill',axis=1)"
   ]
  },
  {
   "cell_type": "code",
   "execution_count": 80,
   "metadata": {},
   "outputs": [
    {
     "data": {
      "text/html": [
       "<div>\n",
       "<style scoped>\n",
       "    .dataframe tbody tr th:only-of-type {\n",
       "        vertical-align: middle;\n",
       "    }\n",
       "\n",
       "    .dataframe tbody tr th {\n",
       "        vertical-align: top;\n",
       "    }\n",
       "\n",
       "    .dataframe thead th {\n",
       "        text-align: right;\n",
       "    }\n",
       "</style>\n",
       "<table border=\"1\" class=\"dataframe\">\n",
       "  <thead>\n",
       "    <tr style=\"text-align: right;\">\n",
       "      <th></th>\n",
       "      <th>A</th>\n",
       "      <th>B</th>\n",
       "      <th>C</th>\n",
       "      <th>D</th>\n",
       "    </tr>\n",
       "  </thead>\n",
       "  <tbody>\n",
       "    <tr>\n",
       "      <th>0</th>\n",
       "      <td>1.100000</td>\n",
       "      <td>NaN</td>\n",
       "      <td>2.933333</td>\n",
       "      <td>10.3</td>\n",
       "    </tr>\n",
       "    <tr>\n",
       "      <th>1</th>\n",
       "      <td>0.800000</td>\n",
       "      <td>NaN</td>\n",
       "      <td>3.600000</td>\n",
       "      <td>2.9</td>\n",
       "    </tr>\n",
       "    <tr>\n",
       "      <th>2</th>\n",
       "      <td>1.200000</td>\n",
       "      <td>2.5</td>\n",
       "      <td>1.600000</td>\n",
       "      <td>2.7</td>\n",
       "    </tr>\n",
       "    <tr>\n",
       "      <th>3</th>\n",
       "      <td>1.033333</td>\n",
       "      <td>NaN</td>\n",
       "      <td>2.933333</td>\n",
       "      <td>NaN</td>\n",
       "    </tr>\n",
       "    <tr>\n",
       "      <th>4</th>\n",
       "      <td>1.033333</td>\n",
       "      <td>NaN</td>\n",
       "      <td>3.600000</td>\n",
       "      <td>5.3</td>\n",
       "    </tr>\n",
       "  </tbody>\n",
       "</table>\n",
       "</div>"
      ],
      "text/plain": [
       "          A    B         C     D\n",
       "0  1.100000  NaN  2.933333  10.3\n",
       "1  0.800000  NaN  3.600000   2.9\n",
       "2  1.200000  2.5  1.600000   2.7\n",
       "3  1.033333  NaN  2.933333   NaN\n",
       "4  1.033333  NaN  3.600000   5.3"
      ]
     },
     "execution_count": 80,
     "metadata": {},
     "output_type": "execute_result"
    }
   ],
   "source": [
    "#Substituindo pela media\n",
    "df.fillna({'A': df['A'].mean(), 'C':df['C'].mean()})"
   ]
  },
  {
   "cell_type": "code",
   "execution_count": 81,
   "metadata": {},
   "outputs": [
    {
     "data": {
      "text/html": [
       "<div>\n",
       "<style scoped>\n",
       "    .dataframe tbody tr th:only-of-type {\n",
       "        vertical-align: middle;\n",
       "    }\n",
       "\n",
       "    .dataframe tbody tr th {\n",
       "        vertical-align: top;\n",
       "    }\n",
       "\n",
       "    .dataframe thead th {\n",
       "        text-align: right;\n",
       "    }\n",
       "</style>\n",
       "<table border=\"1\" class=\"dataframe\">\n",
       "  <thead>\n",
       "    <tr style=\"text-align: right;\">\n",
       "      <th></th>\n",
       "      <th>A</th>\n",
       "      <th>B</th>\n",
       "      <th>C</th>\n",
       "      <th>D</th>\n",
       "    </tr>\n",
       "  </thead>\n",
       "  <tbody>\n",
       "    <tr>\n",
       "      <th>0</th>\n",
       "      <td>1.100000</td>\n",
       "      <td>0.0</td>\n",
       "      <td>2.933333</td>\n",
       "      <td>10.3</td>\n",
       "    </tr>\n",
       "    <tr>\n",
       "      <th>1</th>\n",
       "      <td>0.800000</td>\n",
       "      <td>0.0</td>\n",
       "      <td>3.600000</td>\n",
       "      <td>2.9</td>\n",
       "    </tr>\n",
       "    <tr>\n",
       "      <th>2</th>\n",
       "      <td>1.200000</td>\n",
       "      <td>2.5</td>\n",
       "      <td>1.600000</td>\n",
       "      <td>2.7</td>\n",
       "    </tr>\n",
       "    <tr>\n",
       "      <th>3</th>\n",
       "      <td>1.033333</td>\n",
       "      <td>0.0</td>\n",
       "      <td>2.933333</td>\n",
       "      <td>0.0</td>\n",
       "    </tr>\n",
       "    <tr>\n",
       "      <th>4</th>\n",
       "      <td>1.033333</td>\n",
       "      <td>0.0</td>\n",
       "      <td>3.600000</td>\n",
       "      <td>5.3</td>\n",
       "    </tr>\n",
       "  </tbody>\n",
       "</table>\n",
       "</div>"
      ],
      "text/plain": [
       "          A    B         C     D\n",
       "0  1.100000  0.0  2.933333  10.3\n",
       "1  0.800000  0.0  3.600000   2.9\n",
       "2  1.200000  2.5  1.600000   2.7\n",
       "3  1.033333  0.0  2.933333   0.0\n",
       "4  1.033333  0.0  3.600000   5.3"
      ]
     },
     "execution_count": 81,
     "metadata": {},
     "output_type": "execute_result"
    }
   ],
   "source": [
    "#Substituindo pela media e zero p/ os outros\n",
    "df.fillna({'A': df['A'].mean(), 'C':df['C'].mean()}).fillna(0.)"
   ]
  },
  {
   "cell_type": "markdown",
   "metadata": {},
   "source": [
    "**7. Dados Duplicados**"
   ]
  },
  {
   "cell_type": "code",
   "execution_count": 82,
   "metadata": {},
   "outputs": [
    {
     "data": {
      "text/html": [
       "<div>\n",
       "<style scoped>\n",
       "    .dataframe tbody tr th:only-of-type {\n",
       "        vertical-align: middle;\n",
       "    }\n",
       "\n",
       "    .dataframe tbody tr th {\n",
       "        vertical-align: top;\n",
       "    }\n",
       "\n",
       "    .dataframe thead th {\n",
       "        text-align: right;\n",
       "    }\n",
       "</style>\n",
       "<table border=\"1\" class=\"dataframe\">\n",
       "  <thead>\n",
       "    <tr style=\"text-align: right;\">\n",
       "      <th></th>\n",
       "      <th>Element</th>\n",
       "      <th>Symbol</th>\n",
       "      <th>Z</th>\n",
       "      <th>A</th>\n",
       "      <th>Abundance</th>\n",
       "    </tr>\n",
       "  </thead>\n",
       "  <tbody>\n",
       "    <tr>\n",
       "      <th>0</th>\n",
       "      <td>Lithium</td>\n",
       "      <td>Li</td>\n",
       "      <td>3</td>\n",
       "      <td>6</td>\n",
       "      <td>0.075900</td>\n",
       "    </tr>\n",
       "    <tr>\n",
       "      <th>1</th>\n",
       "      <td>Lithium</td>\n",
       "      <td>Li</td>\n",
       "      <td>3</td>\n",
       "      <td>7</td>\n",
       "      <td>0.924100</td>\n",
       "    </tr>\n",
       "    <tr>\n",
       "      <th>2</th>\n",
       "      <td>Potassium</td>\n",
       "      <td>K</td>\n",
       "      <td>19</td>\n",
       "      <td>39</td>\n",
       "      <td>0.932581</td>\n",
       "    </tr>\n",
       "    <tr>\n",
       "      <th>3</th>\n",
       "      <td>Potassium</td>\n",
       "      <td>K</td>\n",
       "      <td>19</td>\n",
       "      <td>40</td>\n",
       "      <td>0.000117</td>\n",
       "    </tr>\n",
       "  </tbody>\n",
       "</table>\n",
       "</div>"
      ],
      "text/plain": [
       "     Element Symbol   Z   A  Abundance\n",
       "0    Lithium     Li   3   6   0.075900\n",
       "1   Lithium      Li   3   7   0.924100\n",
       "2  Potassium      K  19  39   0.932581\n",
       "3  Potassium      K  19  40   0.000117"
      ]
     },
     "execution_count": 82,
     "metadata": {},
     "output_type": "execute_result"
    }
   ],
   "source": [
    "df = pd.DataFrame([['Lithium', 'Li', 3, 6, 0.0759] ,\n",
    "  ['Lithium ', 'Li', 3, 7, 0.9241],\n",
    "  ['Potassium', 'K', 19, 39, 0.932581] ,\n",
    "  ['Potassium', 'K', 19, 40, 1.17e-4]],\n",
    "  columns=['Element', 'Symbol', 'Z', 'A', 'Abundance'])\n",
    "df"
   ]
  },
  {
   "cell_type": "code",
   "execution_count": 83,
   "metadata": {},
   "outputs": [
    {
     "data": {
      "text/plain": [
       "0    False\n",
       "1     True\n",
       "2    False\n",
       "3     True\n",
       "dtype: bool"
      ]
     },
     "execution_count": 83,
     "metadata": {},
     "output_type": "execute_result"
    }
   ],
   "source": [
    "df.duplicated(['Symbol','Z'])"
   ]
  },
  {
   "cell_type": "code",
   "execution_count": 84,
   "metadata": {},
   "outputs": [
    {
     "data": {
      "text/html": [
       "<div>\n",
       "<style scoped>\n",
       "    .dataframe tbody tr th:only-of-type {\n",
       "        vertical-align: middle;\n",
       "    }\n",
       "\n",
       "    .dataframe tbody tr th {\n",
       "        vertical-align: top;\n",
       "    }\n",
       "\n",
       "    .dataframe thead th {\n",
       "        text-align: right;\n",
       "    }\n",
       "</style>\n",
       "<table border=\"1\" class=\"dataframe\">\n",
       "  <thead>\n",
       "    <tr style=\"text-align: right;\">\n",
       "      <th></th>\n",
       "      <th>Element</th>\n",
       "      <th>Symbol</th>\n",
       "      <th>Z</th>\n",
       "      <th>A</th>\n",
       "      <th>Abundance</th>\n",
       "    </tr>\n",
       "  </thead>\n",
       "  <tbody>\n",
       "    <tr>\n",
       "      <th>0</th>\n",
       "      <td>Lithium</td>\n",
       "      <td>Li</td>\n",
       "      <td>3</td>\n",
       "      <td>6</td>\n",
       "      <td>0.075900</td>\n",
       "    </tr>\n",
       "    <tr>\n",
       "      <th>2</th>\n",
       "      <td>Potassium</td>\n",
       "      <td>K</td>\n",
       "      <td>19</td>\n",
       "      <td>39</td>\n",
       "      <td>0.932581</td>\n",
       "    </tr>\n",
       "  </tbody>\n",
       "</table>\n",
       "</div>"
      ],
      "text/plain": [
       "     Element Symbol   Z   A  Abundance\n",
       "0    Lithium     Li   3   6   0.075900\n",
       "2  Potassium      K  19  39   0.932581"
      ]
     },
     "execution_count": 84,
     "metadata": {},
     "output_type": "execute_result"
    }
   ],
   "source": [
    "df.drop_duplicates(['Symbol','Z'])"
   ]
  },
  {
   "cell_type": "code",
   "execution_count": 85,
   "metadata": {},
   "outputs": [
    {
     "data": {
      "text/html": [
       "<div>\n",
       "<style scoped>\n",
       "    .dataframe tbody tr th:only-of-type {\n",
       "        vertical-align: middle;\n",
       "    }\n",
       "\n",
       "    .dataframe tbody tr th {\n",
       "        vertical-align: top;\n",
       "    }\n",
       "\n",
       "    .dataframe thead th {\n",
       "        text-align: right;\n",
       "    }\n",
       "</style>\n",
       "<table border=\"1\" class=\"dataframe\">\n",
       "  <thead>\n",
       "    <tr style=\"text-align: right;\">\n",
       "      <th></th>\n",
       "      <th>Element</th>\n",
       "      <th>Symbol</th>\n",
       "      <th>Z</th>\n",
       "      <th>A</th>\n",
       "      <th>Abundance</th>\n",
       "    </tr>\n",
       "  </thead>\n",
       "  <tbody>\n",
       "    <tr>\n",
       "      <th>1</th>\n",
       "      <td>Lithium</td>\n",
       "      <td>Li</td>\n",
       "      <td>3</td>\n",
       "      <td>7</td>\n",
       "      <td>0.924100</td>\n",
       "    </tr>\n",
       "    <tr>\n",
       "      <th>3</th>\n",
       "      <td>Potassium</td>\n",
       "      <td>K</td>\n",
       "      <td>19</td>\n",
       "      <td>40</td>\n",
       "      <td>0.000117</td>\n",
       "    </tr>\n",
       "  </tbody>\n",
       "</table>\n",
       "</div>"
      ],
      "text/plain": [
       "     Element Symbol   Z   A  Abundance\n",
       "1   Lithium      Li   3   7   0.924100\n",
       "3  Potassium      K  19  40   0.000117"
      ]
     },
     "execution_count": 85,
     "metadata": {},
     "output_type": "execute_result"
    }
   ],
   "source": [
    "df.drop_duplicates(['Symbol','Z'],keep='last')"
   ]
  },
  {
   "cell_type": "markdown",
   "metadata": {},
   "source": [
    "**Exemplo com dados reais usando MultiIndex e NaN**"
   ]
  },
  {
   "cell_type": "code",
   "execution_count": 86,
   "metadata": {},
   "outputs": [
    {
     "data": {
      "text/html": [
       "<div>\n",
       "<style scoped>\n",
       "    .dataframe tbody tr th:only-of-type {\n",
       "        vertical-align: middle;\n",
       "    }\n",
       "\n",
       "    .dataframe tbody tr th {\n",
       "        vertical-align: top;\n",
       "    }\n",
       "\n",
       "    .dataframe thead th {\n",
       "        text-align: right;\n",
       "    }\n",
       "</style>\n",
       "<table border=\"1\" class=\"dataframe\">\n",
       "  <thead>\n",
       "    <tr style=\"text-align: right;\">\n",
       "      <th></th>\n",
       "      <th>Notes</th>\n",
       "      <th>State</th>\n",
       "      <th>State Code</th>\n",
       "      <th>Year</th>\n",
       "      <th>Year Code</th>\n",
       "      <th>Cases</th>\n",
       "      <th>Percent of Total</th>\n",
       "    </tr>\n",
       "  </thead>\n",
       "  <tbody>\n",
       "    <tr>\n",
       "      <th>0</th>\n",
       "      <td>NaN</td>\n",
       "      <td>Alabama</td>\n",
       "      <td>1.0</td>\n",
       "      <td>2018.0</td>\n",
       "      <td>2018.0</td>\n",
       "      <td>91.0</td>\n",
       "      <td>0.02%</td>\n",
       "    </tr>\n",
       "    <tr>\n",
       "      <th>1</th>\n",
       "      <td>NaN</td>\n",
       "      <td>Alabama</td>\n",
       "      <td>1.0</td>\n",
       "      <td>2017.0</td>\n",
       "      <td>2017.0</td>\n",
       "      <td>120.0</td>\n",
       "      <td>0.03%</td>\n",
       "    </tr>\n",
       "    <tr>\n",
       "      <th>2</th>\n",
       "      <td>NaN</td>\n",
       "      <td>Alabama</td>\n",
       "      <td>1.0</td>\n",
       "      <td>2016.0</td>\n",
       "      <td>2016.0</td>\n",
       "      <td>112.0</td>\n",
       "      <td>0.03%</td>\n",
       "    </tr>\n",
       "    <tr>\n",
       "      <th>3</th>\n",
       "      <td>NaN</td>\n",
       "      <td>Alabama</td>\n",
       "      <td>1.0</td>\n",
       "      <td>2015.0</td>\n",
       "      <td>2015.0</td>\n",
       "      <td>119.0</td>\n",
       "      <td>0.03%</td>\n",
       "    </tr>\n",
       "    <tr>\n",
       "      <th>4</th>\n",
       "      <td>NaN</td>\n",
       "      <td>Alabama</td>\n",
       "      <td>1.0</td>\n",
       "      <td>2014.0</td>\n",
       "      <td>2014.0</td>\n",
       "      <td>133.0</td>\n",
       "      <td>0.04%</td>\n",
       "    </tr>\n",
       "  </tbody>\n",
       "</table>\n",
       "</div>"
      ],
      "text/plain": [
       "  Notes    State  State Code    Year  Year Code  Cases Percent of Total\n",
       "0   NaN  Alabama         1.0  2018.0     2018.0   91.0            0.02%\n",
       "1   NaN  Alabama         1.0  2017.0     2017.0  120.0            0.03%\n",
       "2   NaN  Alabama         1.0  2016.0     2016.0  112.0            0.03%\n",
       "3   NaN  Alabama         1.0  2015.0     2015.0  119.0            0.03%\n",
       "4   NaN  Alabama         1.0  2014.0     2014.0  133.0            0.04%"
      ]
     },
     "execution_count": 86,
     "metadata": {},
     "output_type": "execute_result"
    }
   ],
   "source": [
    "#Exemplo - casos de turbeculoe nos EUA\n",
    "#arquivo turbeculose_eua.txt\n",
    "#df = pd.read_csv('turbeculose_eua.txt')\n",
    "#arquivo em: \n",
    "df = pd.read_csv('../pcientifico_dados/turbeculose_eua.txt',sep='\\t')\n",
    "df.head()"
   ]
  },
  {
   "cell_type": "code",
   "execution_count": 87,
   "metadata": {},
   "outputs": [],
   "source": [
    "df = df.drop(['Notes','State Code','Year Code','Percent of Total'],axis=1)"
   ]
  },
  {
   "cell_type": "code",
   "execution_count": 88,
   "metadata": {},
   "outputs": [
    {
     "data": {
      "text/html": [
       "<div>\n",
       "<style scoped>\n",
       "    .dataframe tbody tr th:only-of-type {\n",
       "        vertical-align: middle;\n",
       "    }\n",
       "\n",
       "    .dataframe tbody tr th {\n",
       "        vertical-align: top;\n",
       "    }\n",
       "\n",
       "    .dataframe thead th {\n",
       "        text-align: right;\n",
       "    }\n",
       "</style>\n",
       "<table border=\"1\" class=\"dataframe\">\n",
       "  <thead>\n",
       "    <tr style=\"text-align: right;\">\n",
       "      <th></th>\n",
       "      <th>State</th>\n",
       "      <th>Year</th>\n",
       "      <th>Cases</th>\n",
       "    </tr>\n",
       "  </thead>\n",
       "  <tbody>\n",
       "    <tr>\n",
       "      <th>0</th>\n",
       "      <td>Alabama</td>\n",
       "      <td>2018.0</td>\n",
       "      <td>91.0</td>\n",
       "    </tr>\n",
       "    <tr>\n",
       "      <th>1</th>\n",
       "      <td>Alabama</td>\n",
       "      <td>2017.0</td>\n",
       "      <td>120.0</td>\n",
       "    </tr>\n",
       "    <tr>\n",
       "      <th>2</th>\n",
       "      <td>Alabama</td>\n",
       "      <td>2016.0</td>\n",
       "      <td>112.0</td>\n",
       "    </tr>\n",
       "    <tr>\n",
       "      <th>3</th>\n",
       "      <td>Alabama</td>\n",
       "      <td>2015.0</td>\n",
       "      <td>119.0</td>\n",
       "    </tr>\n",
       "    <tr>\n",
       "      <th>4</th>\n",
       "      <td>Alabama</td>\n",
       "      <td>2014.0</td>\n",
       "      <td>133.0</td>\n",
       "    </tr>\n",
       "    <tr>\n",
       "      <th>...</th>\n",
       "      <td>...</td>\n",
       "      <td>...</td>\n",
       "      <td>...</td>\n",
       "    </tr>\n",
       "    <tr>\n",
       "      <th>1390</th>\n",
       "      <td>NaN</td>\n",
       "      <td>NaN</td>\n",
       "      <td>NaN</td>\n",
       "    </tr>\n",
       "    <tr>\n",
       "      <th>1391</th>\n",
       "      <td>NaN</td>\n",
       "      <td>NaN</td>\n",
       "      <td>NaN</td>\n",
       "    </tr>\n",
       "    <tr>\n",
       "      <th>1392</th>\n",
       "      <td>NaN</td>\n",
       "      <td>NaN</td>\n",
       "      <td>NaN</td>\n",
       "    </tr>\n",
       "    <tr>\n",
       "      <th>1393</th>\n",
       "      <td>NaN</td>\n",
       "      <td>NaN</td>\n",
       "      <td>NaN</td>\n",
       "    </tr>\n",
       "    <tr>\n",
       "      <th>1394</th>\n",
       "      <td>NaN</td>\n",
       "      <td>NaN</td>\n",
       "      <td>NaN</td>\n",
       "    </tr>\n",
       "  </tbody>\n",
       "</table>\n",
       "<p>1395 rows × 3 columns</p>\n",
       "</div>"
      ],
      "text/plain": [
       "        State    Year  Cases\n",
       "0     Alabama  2018.0   91.0\n",
       "1     Alabama  2017.0  120.0\n",
       "2     Alabama  2016.0  112.0\n",
       "3     Alabama  2015.0  119.0\n",
       "4     Alabama  2014.0  133.0\n",
       "...       ...     ...    ...\n",
       "1390      NaN     NaN    NaN\n",
       "1391      NaN     NaN    NaN\n",
       "1392      NaN     NaN    NaN\n",
       "1393      NaN     NaN    NaN\n",
       "1394      NaN     NaN    NaN\n",
       "\n",
       "[1395 rows x 3 columns]"
      ]
     },
     "execution_count": 88,
     "metadata": {},
     "output_type": "execute_result"
    }
   ],
   "source": [
    "df"
   ]
  },
  {
   "cell_type": "code",
   "execution_count": 89,
   "metadata": {},
   "outputs": [],
   "source": [
    "df = df.dropna(how='any',axis=0)"
   ]
  },
  {
   "cell_type": "code",
   "execution_count": 90,
   "metadata": {},
   "outputs": [
    {
     "data": {
      "text/plain": [
       "State    0\n",
       "Year     0\n",
       "Cases    0\n",
       "dtype: int64"
      ]
     },
     "execution_count": 90,
     "metadata": {},
     "output_type": "execute_result"
    }
   ],
   "source": [
    "df.isnull().sum()"
   ]
  },
  {
   "cell_type": "code",
   "execution_count": 91,
   "metadata": {
    "scrolled": false
   },
   "outputs": [
    {
     "data": {
      "text/html": [
       "<div>\n",
       "<style scoped>\n",
       "    .dataframe tbody tr th:only-of-type {\n",
       "        vertical-align: middle;\n",
       "    }\n",
       "\n",
       "    .dataframe tbody tr th {\n",
       "        vertical-align: top;\n",
       "    }\n",
       "\n",
       "    .dataframe thead th {\n",
       "        text-align: right;\n",
       "    }\n",
       "</style>\n",
       "<table border=\"1\" class=\"dataframe\">\n",
       "  <thead>\n",
       "    <tr style=\"text-align: right;\">\n",
       "      <th></th>\n",
       "      <th></th>\n",
       "      <th>State</th>\n",
       "      <th>Year</th>\n",
       "      <th>Cases</th>\n",
       "    </tr>\n",
       "    <tr>\n",
       "      <th>State</th>\n",
       "      <th>Year</th>\n",
       "      <th></th>\n",
       "      <th></th>\n",
       "      <th></th>\n",
       "    </tr>\n",
       "  </thead>\n",
       "  <tbody>\n",
       "    <tr>\n",
       "      <th rowspan=\"5\" valign=\"top\">Alabama</th>\n",
       "      <th>2018.0</th>\n",
       "      <td>Alabama</td>\n",
       "      <td>2018.0</td>\n",
       "      <td>91.0</td>\n",
       "    </tr>\n",
       "    <tr>\n",
       "      <th>2017.0</th>\n",
       "      <td>Alabama</td>\n",
       "      <td>2017.0</td>\n",
       "      <td>120.0</td>\n",
       "    </tr>\n",
       "    <tr>\n",
       "      <th>2016.0</th>\n",
       "      <td>Alabama</td>\n",
       "      <td>2016.0</td>\n",
       "      <td>112.0</td>\n",
       "    </tr>\n",
       "    <tr>\n",
       "      <th>2015.0</th>\n",
       "      <td>Alabama</td>\n",
       "      <td>2015.0</td>\n",
       "      <td>119.0</td>\n",
       "    </tr>\n",
       "    <tr>\n",
       "      <th>2014.0</th>\n",
       "      <td>Alabama</td>\n",
       "      <td>2014.0</td>\n",
       "      <td>133.0</td>\n",
       "    </tr>\n",
       "    <tr>\n",
       "      <th>...</th>\n",
       "      <th>...</th>\n",
       "      <td>...</td>\n",
       "      <td>...</td>\n",
       "      <td>...</td>\n",
       "    </tr>\n",
       "    <tr>\n",
       "      <th rowspan=\"5\" valign=\"top\">Wyoming</th>\n",
       "      <th>1997.0</th>\n",
       "      <td>Wyoming</td>\n",
       "      <td>1997.0</td>\n",
       "      <td>2.0</td>\n",
       "    </tr>\n",
       "    <tr>\n",
       "      <th>1996.0</th>\n",
       "      <td>Wyoming</td>\n",
       "      <td>1996.0</td>\n",
       "      <td>7.0</td>\n",
       "    </tr>\n",
       "    <tr>\n",
       "      <th>1995.0</th>\n",
       "      <td>Wyoming</td>\n",
       "      <td>1995.0</td>\n",
       "      <td>5.0</td>\n",
       "    </tr>\n",
       "    <tr>\n",
       "      <th>1994.0</th>\n",
       "      <td>Wyoming</td>\n",
       "      <td>1994.0</td>\n",
       "      <td>12.0</td>\n",
       "    </tr>\n",
       "    <tr>\n",
       "      <th>1993.0</th>\n",
       "      <td>Wyoming</td>\n",
       "      <td>1993.0</td>\n",
       "      <td>7.0</td>\n",
       "    </tr>\n",
       "  </tbody>\n",
       "</table>\n",
       "<p>1323 rows × 3 columns</p>\n",
       "</div>"
      ],
      "text/plain": [
       "                  State    Year  Cases\n",
       "State   Year                          \n",
       "Alabama 2018.0  Alabama  2018.0   91.0\n",
       "        2017.0  Alabama  2017.0  120.0\n",
       "        2016.0  Alabama  2016.0  112.0\n",
       "        2015.0  Alabama  2015.0  119.0\n",
       "        2014.0  Alabama  2014.0  133.0\n",
       "...                 ...     ...    ...\n",
       "Wyoming 1997.0  Wyoming  1997.0    2.0\n",
       "        1996.0  Wyoming  1996.0    7.0\n",
       "        1995.0  Wyoming  1995.0    5.0\n",
       "        1994.0  Wyoming  1994.0   12.0\n",
       "        1993.0  Wyoming  1993.0    7.0\n",
       "\n",
       "[1323 rows x 3 columns]"
      ]
     },
     "execution_count": 91,
     "metadata": {},
     "output_type": "execute_result"
    }
   ],
   "source": [
    "df.index = pd.MultiIndex.from_frame(df[['State', 'Year']])   \n",
    "df"
   ]
  },
  {
   "cell_type": "code",
   "execution_count": 92,
   "metadata": {
    "scrolled": false
   },
   "outputs": [
    {
     "data": {
      "text/html": [
       "<div>\n",
       "<style scoped>\n",
       "    .dataframe tbody tr th:only-of-type {\n",
       "        vertical-align: middle;\n",
       "    }\n",
       "\n",
       "    .dataframe tbody tr th {\n",
       "        vertical-align: top;\n",
       "    }\n",
       "\n",
       "    .dataframe thead th {\n",
       "        text-align: right;\n",
       "    }\n",
       "</style>\n",
       "<table border=\"1\" class=\"dataframe\">\n",
       "  <thead>\n",
       "    <tr style=\"text-align: right;\">\n",
       "      <th></th>\n",
       "      <th></th>\n",
       "      <th>Cases</th>\n",
       "    </tr>\n",
       "    <tr>\n",
       "      <th>State</th>\n",
       "      <th>Year</th>\n",
       "      <th></th>\n",
       "    </tr>\n",
       "  </thead>\n",
       "  <tbody>\n",
       "    <tr>\n",
       "      <th rowspan=\"5\" valign=\"top\">Alabama</th>\n",
       "      <th>2018.0</th>\n",
       "      <td>91.0</td>\n",
       "    </tr>\n",
       "    <tr>\n",
       "      <th>2017.0</th>\n",
       "      <td>120.0</td>\n",
       "    </tr>\n",
       "    <tr>\n",
       "      <th>2016.0</th>\n",
       "      <td>112.0</td>\n",
       "    </tr>\n",
       "    <tr>\n",
       "      <th>2015.0</th>\n",
       "      <td>119.0</td>\n",
       "    </tr>\n",
       "    <tr>\n",
       "      <th>2014.0</th>\n",
       "      <td>133.0</td>\n",
       "    </tr>\n",
       "    <tr>\n",
       "      <th>...</th>\n",
       "      <th>...</th>\n",
       "      <td>...</td>\n",
       "    </tr>\n",
       "    <tr>\n",
       "      <th rowspan=\"5\" valign=\"top\">Wyoming</th>\n",
       "      <th>1997.0</th>\n",
       "      <td>2.0</td>\n",
       "    </tr>\n",
       "    <tr>\n",
       "      <th>1996.0</th>\n",
       "      <td>7.0</td>\n",
       "    </tr>\n",
       "    <tr>\n",
       "      <th>1995.0</th>\n",
       "      <td>5.0</td>\n",
       "    </tr>\n",
       "    <tr>\n",
       "      <th>1994.0</th>\n",
       "      <td>12.0</td>\n",
       "    </tr>\n",
       "    <tr>\n",
       "      <th>1993.0</th>\n",
       "      <td>7.0</td>\n",
       "    </tr>\n",
       "  </tbody>\n",
       "</table>\n",
       "<p>1323 rows × 1 columns</p>\n",
       "</div>"
      ],
      "text/plain": [
       "                Cases\n",
       "State   Year         \n",
       "Alabama 2018.0   91.0\n",
       "        2017.0  120.0\n",
       "        2016.0  112.0\n",
       "        2015.0  119.0\n",
       "        2014.0  133.0\n",
       "...               ...\n",
       "Wyoming 1997.0    2.0\n",
       "        1996.0    7.0\n",
       "        1995.0    5.0\n",
       "        1994.0   12.0\n",
       "        1993.0    7.0\n",
       "\n",
       "[1323 rows x 1 columns]"
      ]
     },
     "execution_count": 92,
     "metadata": {},
     "output_type": "execute_result"
    }
   ],
   "source": [
    "df = df.drop(['State', 'Year'],axis=1)\n",
    "df"
   ]
  },
  {
   "cell_type": "code",
   "execution_count": 93,
   "metadata": {},
   "outputs": [
    {
     "data": {
      "text/html": [
       "<div>\n",
       "<style scoped>\n",
       "    .dataframe tbody tr th:only-of-type {\n",
       "        vertical-align: middle;\n",
       "    }\n",
       "\n",
       "    .dataframe tbody tr th {\n",
       "        vertical-align: top;\n",
       "    }\n",
       "\n",
       "    .dataframe thead tr th {\n",
       "        text-align: left;\n",
       "    }\n",
       "\n",
       "    .dataframe thead tr:last-of-type th {\n",
       "        text-align: right;\n",
       "    }\n",
       "</style>\n",
       "<table border=\"1\" class=\"dataframe\">\n",
       "  <thead>\n",
       "    <tr>\n",
       "      <th></th>\n",
       "      <th colspan=\"21\" halign=\"left\">Cases</th>\n",
       "    </tr>\n",
       "    <tr>\n",
       "      <th>State</th>\n",
       "      <th>Alabama</th>\n",
       "      <th>Alaska</th>\n",
       "      <th>Arizona</th>\n",
       "      <th>Arkansas</th>\n",
       "      <th>California</th>\n",
       "      <th>Colorado</th>\n",
       "      <th>Connecticut</th>\n",
       "      <th>Delaware</th>\n",
       "      <th>District of Columbia</th>\n",
       "      <th>Florida</th>\n",
       "      <th>...</th>\n",
       "      <th>South Dakota</th>\n",
       "      <th>Tennessee</th>\n",
       "      <th>Texas</th>\n",
       "      <th>Utah</th>\n",
       "      <th>Vermont</th>\n",
       "      <th>Virginia</th>\n",
       "      <th>Washington</th>\n",
       "      <th>West Virginia</th>\n",
       "      <th>Wisconsin</th>\n",
       "      <th>Wyoming</th>\n",
       "    </tr>\n",
       "    <tr>\n",
       "      <th>Year</th>\n",
       "      <th></th>\n",
       "      <th></th>\n",
       "      <th></th>\n",
       "      <th></th>\n",
       "      <th></th>\n",
       "      <th></th>\n",
       "      <th></th>\n",
       "      <th></th>\n",
       "      <th></th>\n",
       "      <th></th>\n",
       "      <th></th>\n",
       "      <th></th>\n",
       "      <th></th>\n",
       "      <th></th>\n",
       "      <th></th>\n",
       "      <th></th>\n",
       "      <th></th>\n",
       "      <th></th>\n",
       "      <th></th>\n",
       "      <th></th>\n",
       "      <th></th>\n",
       "    </tr>\n",
       "  </thead>\n",
       "  <tbody>\n",
       "    <tr>\n",
       "      <th>1993.0</th>\n",
       "      <td>487.0</td>\n",
       "      <td>57.0</td>\n",
       "      <td>228.0</td>\n",
       "      <td>209.0</td>\n",
       "      <td>5146.0</td>\n",
       "      <td>107.0</td>\n",
       "      <td>154.0</td>\n",
       "      <td>66.0</td>\n",
       "      <td>162.0</td>\n",
       "      <td>1646.0</td>\n",
       "      <td>...</td>\n",
       "      <td>16.0</td>\n",
       "      <td>554.0</td>\n",
       "      <td>2370.0</td>\n",
       "      <td>47.0</td>\n",
       "      <td>7.0</td>\n",
       "      <td>456.0</td>\n",
       "      <td>283.0</td>\n",
       "      <td>75.0</td>\n",
       "      <td>102.0</td>\n",
       "      <td>7.0</td>\n",
       "    </tr>\n",
       "    <tr>\n",
       "      <th>1994.0</th>\n",
       "      <td>433.0</td>\n",
       "      <td>92.0</td>\n",
       "      <td>247.0</td>\n",
       "      <td>264.0</td>\n",
       "      <td>4834.0</td>\n",
       "      <td>93.0</td>\n",
       "      <td>147.0</td>\n",
       "      <td>55.0</td>\n",
       "      <td>120.0</td>\n",
       "      <td>1742.0</td>\n",
       "      <td>...</td>\n",
       "      <td>28.0</td>\n",
       "      <td>519.0</td>\n",
       "      <td>2511.0</td>\n",
       "      <td>56.0</td>\n",
       "      <td>11.0</td>\n",
       "      <td>370.0</td>\n",
       "      <td>260.0</td>\n",
       "      <td>80.0</td>\n",
       "      <td>110.0</td>\n",
       "      <td>12.0</td>\n",
       "    </tr>\n",
       "    <tr>\n",
       "      <th>1995.0</th>\n",
       "      <td>420.0</td>\n",
       "      <td>82.0</td>\n",
       "      <td>317.0</td>\n",
       "      <td>271.0</td>\n",
       "      <td>4656.0</td>\n",
       "      <td>92.0</td>\n",
       "      <td>139.0</td>\n",
       "      <td>56.0</td>\n",
       "      <td>102.0</td>\n",
       "      <td>1547.0</td>\n",
       "      <td>...</td>\n",
       "      <td>28.0</td>\n",
       "      <td>465.0</td>\n",
       "      <td>2340.0</td>\n",
       "      <td>48.0</td>\n",
       "      <td>4.0</td>\n",
       "      <td>356.0</td>\n",
       "      <td>277.0</td>\n",
       "      <td>71.0</td>\n",
       "      <td>119.0</td>\n",
       "      <td>5.0</td>\n",
       "    </tr>\n",
       "    <tr>\n",
       "      <th>1996.0</th>\n",
       "      <td>423.0</td>\n",
       "      <td>97.0</td>\n",
       "      <td>282.0</td>\n",
       "      <td>225.0</td>\n",
       "      <td>4288.0</td>\n",
       "      <td>101.0</td>\n",
       "      <td>138.0</td>\n",
       "      <td>43.0</td>\n",
       "      <td>139.0</td>\n",
       "      <td>1410.0</td>\n",
       "      <td>...</td>\n",
       "      <td>19.0</td>\n",
       "      <td>504.0</td>\n",
       "      <td>2066.0</td>\n",
       "      <td>58.0</td>\n",
       "      <td>4.0</td>\n",
       "      <td>348.0</td>\n",
       "      <td>283.0</td>\n",
       "      <td>57.0</td>\n",
       "      <td>114.0</td>\n",
       "      <td>7.0</td>\n",
       "    </tr>\n",
       "    <tr>\n",
       "      <th>1997.0</th>\n",
       "      <td>405.0</td>\n",
       "      <td>78.0</td>\n",
       "      <td>296.0</td>\n",
       "      <td>200.0</td>\n",
       "      <td>4045.0</td>\n",
       "      <td>94.0</td>\n",
       "      <td>128.0</td>\n",
       "      <td>38.0</td>\n",
       "      <td>110.0</td>\n",
       "      <td>1393.0</td>\n",
       "      <td>...</td>\n",
       "      <td>19.0</td>\n",
       "      <td>468.0</td>\n",
       "      <td>1980.0</td>\n",
       "      <td>36.0</td>\n",
       "      <td>6.0</td>\n",
       "      <td>349.0</td>\n",
       "      <td>305.0</td>\n",
       "      <td>54.0</td>\n",
       "      <td>130.0</td>\n",
       "      <td>2.0</td>\n",
       "    </tr>\n",
       "  </tbody>\n",
       "</table>\n",
       "<p>5 rows × 51 columns</p>\n",
       "</div>"
      ],
      "text/plain": [
       "         Cases                                                          \\\n",
       "State  Alabama Alaska Arizona Arkansas California Colorado Connecticut   \n",
       "Year                                                                     \n",
       "1993.0   487.0   57.0   228.0    209.0     5146.0    107.0       154.0   \n",
       "1994.0   433.0   92.0   247.0    264.0     4834.0     93.0       147.0   \n",
       "1995.0   420.0   82.0   317.0    271.0     4656.0     92.0       139.0   \n",
       "1996.0   423.0   97.0   282.0    225.0     4288.0    101.0       138.0   \n",
       "1997.0   405.0   78.0   296.0    200.0     4045.0     94.0       128.0   \n",
       "\n",
       "                                              ...                         \\\n",
       "State  Delaware District of Columbia Florida  ... South Dakota Tennessee   \n",
       "Year                                          ...                          \n",
       "1993.0     66.0                162.0  1646.0  ...         16.0     554.0   \n",
       "1994.0     55.0                120.0  1742.0  ...         28.0     519.0   \n",
       "1995.0     56.0                102.0  1547.0  ...         28.0     465.0   \n",
       "1996.0     43.0                139.0  1410.0  ...         19.0     504.0   \n",
       "1997.0     38.0                110.0  1393.0  ...         19.0     468.0   \n",
       "\n",
       "                                                                          \\\n",
       "State    Texas  Utah Vermont Virginia Washington West Virginia Wisconsin   \n",
       "Year                                                                       \n",
       "1993.0  2370.0  47.0     7.0    456.0      283.0          75.0     102.0   \n",
       "1994.0  2511.0  56.0    11.0    370.0      260.0          80.0     110.0   \n",
       "1995.0  2340.0  48.0     4.0    356.0      277.0          71.0     119.0   \n",
       "1996.0  2066.0  58.0     4.0    348.0      283.0          57.0     114.0   \n",
       "1997.0  1980.0  36.0     6.0    349.0      305.0          54.0     130.0   \n",
       "\n",
       "                \n",
       "State  Wyoming  \n",
       "Year            \n",
       "1993.0     7.0  \n",
       "1994.0    12.0  \n",
       "1995.0     5.0  \n",
       "1996.0     7.0  \n",
       "1997.0     2.0  \n",
       "\n",
       "[5 rows x 51 columns]"
      ]
     },
     "execution_count": 93,
     "metadata": {},
     "output_type": "execute_result"
    }
   ],
   "source": [
    "#vamos plotar numero de casos vs anos\n",
    "df2 = df.unstack(level=0)\n",
    "df2.head()"
   ]
  },
  {
   "cell_type": "code",
   "execution_count": 94,
   "metadata": {},
   "outputs": [
    {
     "data": {
      "text/plain": [
       "       State               \n",
       "Cases  Alabama                 False\n",
       "       Alaska                  False\n",
       "       Arizona                 False\n",
       "       Arkansas                False\n",
       "       California               True\n",
       "       Colorado                False\n",
       "       Connecticut             False\n",
       "       Delaware                False\n",
       "       District of Columbia    False\n",
       "       Florida                  True\n",
       "       Georgia                  True\n",
       "       Hawaii                  False\n",
       "       Idaho                   False\n",
       "       Illinois                 True\n",
       "       Indiana                 False\n",
       "       Iowa                    False\n",
       "       Kansas                  False\n",
       "       Kentucky                False\n",
       "       Louisiana               False\n",
       "       Maine                   False\n",
       "       Maryland                False\n",
       "       Massachusetts           False\n",
       "       Michigan                False\n",
       "       Minnesota               False\n",
       "       Mississippi             False\n",
       "       Missouri                False\n",
       "       Montana                 False\n",
       "       Nebraska                False\n",
       "       Nevada                  False\n",
       "       New Hampshire           False\n",
       "       New Jersey               True\n",
       "       New Mexico              False\n",
       "       New York                 True\n",
       "       North Carolina           True\n",
       "       North Dakota            False\n",
       "       Ohio                    False\n",
       "       Oklahoma                False\n",
       "       Oregon                  False\n",
       "       Pennsylvania             True\n",
       "       Rhode Island            False\n",
       "       South Carolina          False\n",
       "       South Dakota            False\n",
       "       Tennessee                True\n",
       "       Texas                    True\n",
       "       Utah                    False\n",
       "       Vermont                 False\n",
       "       Virginia                False\n",
       "       Washington              False\n",
       "       West Virginia           False\n",
       "       Wisconsin               False\n",
       "       Wyoming                 False\n",
       "dtype: bool"
      ]
     },
     "execution_count": 94,
     "metadata": {},
     "output_type": "execute_result"
    }
   ],
   "source": [
    "idx = df2.max() > 500\n",
    "idx"
   ]
  },
  {
   "cell_type": "code",
   "execution_count": 95,
   "metadata": {
    "scrolled": true
   },
   "outputs": [
    {
     "data": {
      "text/html": [
       "<div>\n",
       "<style scoped>\n",
       "    .dataframe tbody tr th:only-of-type {\n",
       "        vertical-align: middle;\n",
       "    }\n",
       "\n",
       "    .dataframe tbody tr th {\n",
       "        vertical-align: top;\n",
       "    }\n",
       "\n",
       "    .dataframe thead th {\n",
       "        text-align: right;\n",
       "    }\n",
       "</style>\n",
       "<table border=\"1\" class=\"dataframe\">\n",
       "  <thead>\n",
       "    <tr style=\"text-align: right;\">\n",
       "      <th></th>\n",
       "      <th>Year</th>\n",
       "      <th>1993.0</th>\n",
       "      <th>1994.0</th>\n",
       "      <th>1995.0</th>\n",
       "      <th>1996.0</th>\n",
       "      <th>1997.0</th>\n",
       "      <th>1998.0</th>\n",
       "      <th>1999.0</th>\n",
       "      <th>2000.0</th>\n",
       "      <th>2001.0</th>\n",
       "      <th>2002.0</th>\n",
       "      <th>...</th>\n",
       "      <th>2009.0</th>\n",
       "      <th>2010.0</th>\n",
       "      <th>2011.0</th>\n",
       "      <th>2012.0</th>\n",
       "      <th>2013.0</th>\n",
       "      <th>2014.0</th>\n",
       "      <th>2015.0</th>\n",
       "      <th>2016.0</th>\n",
       "      <th>2017.0</th>\n",
       "      <th>2018.0</th>\n",
       "    </tr>\n",
       "    <tr>\n",
       "      <th></th>\n",
       "      <th>State</th>\n",
       "      <th></th>\n",
       "      <th></th>\n",
       "      <th></th>\n",
       "      <th></th>\n",
       "      <th></th>\n",
       "      <th></th>\n",
       "      <th></th>\n",
       "      <th></th>\n",
       "      <th></th>\n",
       "      <th></th>\n",
       "      <th></th>\n",
       "      <th></th>\n",
       "      <th></th>\n",
       "      <th></th>\n",
       "      <th></th>\n",
       "      <th></th>\n",
       "      <th></th>\n",
       "      <th></th>\n",
       "      <th></th>\n",
       "      <th></th>\n",
       "      <th></th>\n",
       "    </tr>\n",
       "  </thead>\n",
       "  <tbody>\n",
       "    <tr>\n",
       "      <th rowspan=\"5\" valign=\"top\">Cases</th>\n",
       "      <th>Alabama</th>\n",
       "      <td>487.0</td>\n",
       "      <td>433.0</td>\n",
       "      <td>420.0</td>\n",
       "      <td>423.0</td>\n",
       "      <td>405.0</td>\n",
       "      <td>381.0</td>\n",
       "      <td>314.0</td>\n",
       "      <td>310.0</td>\n",
       "      <td>264.0</td>\n",
       "      <td>233.0</td>\n",
       "      <td>...</td>\n",
       "      <td>168.0</td>\n",
       "      <td>146.0</td>\n",
       "      <td>161.0</td>\n",
       "      <td>134.0</td>\n",
       "      <td>108.0</td>\n",
       "      <td>133.0</td>\n",
       "      <td>119.0</td>\n",
       "      <td>112.0</td>\n",
       "      <td>120.0</td>\n",
       "      <td>91.0</td>\n",
       "    </tr>\n",
       "    <tr>\n",
       "      <th>Alaska</th>\n",
       "      <td>57.0</td>\n",
       "      <td>92.0</td>\n",
       "      <td>82.0</td>\n",
       "      <td>97.0</td>\n",
       "      <td>78.0</td>\n",
       "      <td>55.0</td>\n",
       "      <td>61.0</td>\n",
       "      <td>108.0</td>\n",
       "      <td>54.0</td>\n",
       "      <td>49.0</td>\n",
       "      <td>...</td>\n",
       "      <td>37.0</td>\n",
       "      <td>57.0</td>\n",
       "      <td>67.0</td>\n",
       "      <td>65.0</td>\n",
       "      <td>71.0</td>\n",
       "      <td>62.0</td>\n",
       "      <td>68.0</td>\n",
       "      <td>57.0</td>\n",
       "      <td>53.0</td>\n",
       "      <td>63.0</td>\n",
       "    </tr>\n",
       "    <tr>\n",
       "      <th>Arizona</th>\n",
       "      <td>228.0</td>\n",
       "      <td>247.0</td>\n",
       "      <td>317.0</td>\n",
       "      <td>282.0</td>\n",
       "      <td>296.0</td>\n",
       "      <td>254.0</td>\n",
       "      <td>262.0</td>\n",
       "      <td>261.0</td>\n",
       "      <td>289.0</td>\n",
       "      <td>263.0</td>\n",
       "      <td>...</td>\n",
       "      <td>232.0</td>\n",
       "      <td>282.0</td>\n",
       "      <td>255.0</td>\n",
       "      <td>211.0</td>\n",
       "      <td>184.0</td>\n",
       "      <td>193.0</td>\n",
       "      <td>198.0</td>\n",
       "      <td>188.0</td>\n",
       "      <td>188.0</td>\n",
       "      <td>178.0</td>\n",
       "    </tr>\n",
       "    <tr>\n",
       "      <th>Arkansas</th>\n",
       "      <td>209.0</td>\n",
       "      <td>264.0</td>\n",
       "      <td>271.0</td>\n",
       "      <td>225.0</td>\n",
       "      <td>200.0</td>\n",
       "      <td>171.0</td>\n",
       "      <td>181.0</td>\n",
       "      <td>199.0</td>\n",
       "      <td>162.0</td>\n",
       "      <td>136.0</td>\n",
       "      <td>...</td>\n",
       "      <td>82.0</td>\n",
       "      <td>78.0</td>\n",
       "      <td>85.0</td>\n",
       "      <td>70.0</td>\n",
       "      <td>72.0</td>\n",
       "      <td>93.0</td>\n",
       "      <td>90.0</td>\n",
       "      <td>91.0</td>\n",
       "      <td>85.0</td>\n",
       "      <td>78.0</td>\n",
       "    </tr>\n",
       "    <tr>\n",
       "      <th>California</th>\n",
       "      <td>5146.0</td>\n",
       "      <td>4834.0</td>\n",
       "      <td>4656.0</td>\n",
       "      <td>4288.0</td>\n",
       "      <td>4045.0</td>\n",
       "      <td>3850.0</td>\n",
       "      <td>3604.0</td>\n",
       "      <td>3288.0</td>\n",
       "      <td>3329.0</td>\n",
       "      <td>3172.0</td>\n",
       "      <td>...</td>\n",
       "      <td>2466.0</td>\n",
       "      <td>2323.0</td>\n",
       "      <td>2320.0</td>\n",
       "      <td>2185.0</td>\n",
       "      <td>2163.0</td>\n",
       "      <td>2130.0</td>\n",
       "      <td>2131.0</td>\n",
       "      <td>2058.0</td>\n",
       "      <td>2058.0</td>\n",
       "      <td>2092.0</td>\n",
       "    </tr>\n",
       "  </tbody>\n",
       "</table>\n",
       "<p>5 rows × 26 columns</p>\n",
       "</div>"
      ],
      "text/plain": [
       "Year              1993.0  1994.0  1995.0  1996.0  1997.0  1998.0  1999.0  \\\n",
       "      State                                                                \n",
       "Cases Alabama      487.0   433.0   420.0   423.0   405.0   381.0   314.0   \n",
       "      Alaska        57.0    92.0    82.0    97.0    78.0    55.0    61.0   \n",
       "      Arizona      228.0   247.0   317.0   282.0   296.0   254.0   262.0   \n",
       "      Arkansas     209.0   264.0   271.0   225.0   200.0   171.0   181.0   \n",
       "      California  5146.0  4834.0  4656.0  4288.0  4045.0  3850.0  3604.0   \n",
       "\n",
       "Year              2000.0  2001.0  2002.0  ...  2009.0  2010.0  2011.0  2012.0  \\\n",
       "      State                               ...                                   \n",
       "Cases Alabama      310.0   264.0   233.0  ...   168.0   146.0   161.0   134.0   \n",
       "      Alaska       108.0    54.0    49.0  ...    37.0    57.0    67.0    65.0   \n",
       "      Arizona      261.0   289.0   263.0  ...   232.0   282.0   255.0   211.0   \n",
       "      Arkansas     199.0   162.0   136.0  ...    82.0    78.0    85.0    70.0   \n",
       "      California  3288.0  3329.0  3172.0  ...  2466.0  2323.0  2320.0  2185.0   \n",
       "\n",
       "Year              2013.0  2014.0  2015.0  2016.0  2017.0  2018.0  \n",
       "      State                                                       \n",
       "Cases Alabama      108.0   133.0   119.0   112.0   120.0    91.0  \n",
       "      Alaska        71.0    62.0    68.0    57.0    53.0    63.0  \n",
       "      Arizona      184.0   193.0   198.0   188.0   188.0   178.0  \n",
       "      Arkansas      72.0    93.0    90.0    91.0    85.0    78.0  \n",
       "      California  2163.0  2130.0  2131.0  2058.0  2058.0  2092.0  \n",
       "\n",
       "[5 rows x 26 columns]"
      ]
     },
     "execution_count": 95,
     "metadata": {},
     "output_type": "execute_result"
    }
   ],
   "source": [
    "#df2.head()\n",
    "df2.T.head()"
   ]
  },
  {
   "cell_type": "code",
   "execution_count": 96,
   "metadata": {},
   "outputs": [
    {
     "data": {
      "text/plain": [
       "MultiIndex([('Cases',  'Alabama'),\n",
       "            ('Cases',   'Alaska'),\n",
       "            ('Cases',  'Arizona'),\n",
       "            ('Cases', 'Arkansas')],\n",
       "           names=[None, 'State'])"
      ]
     },
     "execution_count": 96,
     "metadata": {},
     "output_type": "execute_result"
    }
   ],
   "source": [
    "df2.T.index[:4]"
   ]
  },
  {
   "cell_type": "code",
   "execution_count": 97,
   "metadata": {},
   "outputs": [
    {
     "data": {
      "text/html": [
       "<div>\n",
       "<style scoped>\n",
       "    .dataframe tbody tr th:only-of-type {\n",
       "        vertical-align: middle;\n",
       "    }\n",
       "\n",
       "    .dataframe tbody tr th {\n",
       "        vertical-align: top;\n",
       "    }\n",
       "\n",
       "    .dataframe thead tr th {\n",
       "        text-align: left;\n",
       "    }\n",
       "\n",
       "    .dataframe thead tr:last-of-type th {\n",
       "        text-align: right;\n",
       "    }\n",
       "</style>\n",
       "<table border=\"1\" class=\"dataframe\">\n",
       "  <thead>\n",
       "    <tr>\n",
       "      <th></th>\n",
       "      <th colspan=\"10\" halign=\"left\">Cases</th>\n",
       "    </tr>\n",
       "    <tr>\n",
       "      <th>State</th>\n",
       "      <th>California</th>\n",
       "      <th>Florida</th>\n",
       "      <th>Georgia</th>\n",
       "      <th>Illinois</th>\n",
       "      <th>New Jersey</th>\n",
       "      <th>New York</th>\n",
       "      <th>North Carolina</th>\n",
       "      <th>Pennsylvania</th>\n",
       "      <th>Tennessee</th>\n",
       "      <th>Texas</th>\n",
       "    </tr>\n",
       "    <tr>\n",
       "      <th>Year</th>\n",
       "      <th></th>\n",
       "      <th></th>\n",
       "      <th></th>\n",
       "      <th></th>\n",
       "      <th></th>\n",
       "      <th></th>\n",
       "      <th></th>\n",
       "      <th></th>\n",
       "      <th></th>\n",
       "      <th></th>\n",
       "    </tr>\n",
       "  </thead>\n",
       "  <tbody>\n",
       "    <tr>\n",
       "      <th>1993.0</th>\n",
       "      <td>5146.0</td>\n",
       "      <td>1646.0</td>\n",
       "      <td>809.0</td>\n",
       "      <td>1234.0</td>\n",
       "      <td>911.0</td>\n",
       "      <td>3864.0</td>\n",
       "      <td>594.0</td>\n",
       "      <td>741.0</td>\n",
       "      <td>554.0</td>\n",
       "      <td>2370.0</td>\n",
       "    </tr>\n",
       "    <tr>\n",
       "      <th>1994.0</th>\n",
       "      <td>4834.0</td>\n",
       "      <td>1742.0</td>\n",
       "      <td>740.0</td>\n",
       "      <td>1115.0</td>\n",
       "      <td>853.0</td>\n",
       "      <td>3575.0</td>\n",
       "      <td>565.0</td>\n",
       "      <td>616.0</td>\n",
       "      <td>519.0</td>\n",
       "      <td>2511.0</td>\n",
       "    </tr>\n",
       "    <tr>\n",
       "      <th>1995.0</th>\n",
       "      <td>4656.0</td>\n",
       "      <td>1547.0</td>\n",
       "      <td>735.0</td>\n",
       "      <td>1022.0</td>\n",
       "      <td>848.0</td>\n",
       "      <td>3018.0</td>\n",
       "      <td>518.0</td>\n",
       "      <td>673.0</td>\n",
       "      <td>465.0</td>\n",
       "      <td>2340.0</td>\n",
       "    </tr>\n",
       "    <tr>\n",
       "      <th>1996.0</th>\n",
       "      <td>4288.0</td>\n",
       "      <td>1410.0</td>\n",
       "      <td>792.0</td>\n",
       "      <td>1063.0</td>\n",
       "      <td>820.0</td>\n",
       "      <td>2545.0</td>\n",
       "      <td>554.0</td>\n",
       "      <td>580.0</td>\n",
       "      <td>504.0</td>\n",
       "      <td>2066.0</td>\n",
       "    </tr>\n",
       "    <tr>\n",
       "      <th>1997.0</th>\n",
       "      <td>4045.0</td>\n",
       "      <td>1393.0</td>\n",
       "      <td>695.0</td>\n",
       "      <td>964.0</td>\n",
       "      <td>718.0</td>\n",
       "      <td>2230.0</td>\n",
       "      <td>463.0</td>\n",
       "      <td>524.0</td>\n",
       "      <td>468.0</td>\n",
       "      <td>1980.0</td>\n",
       "    </tr>\n",
       "  </tbody>\n",
       "</table>\n",
       "</div>"
      ],
      "text/plain": [
       "            Cases                                                              \\\n",
       "State  California Florida Georgia Illinois New Jersey New York North Carolina   \n",
       "Year                                                                            \n",
       "1993.0     5146.0  1646.0   809.0   1234.0      911.0   3864.0          594.0   \n",
       "1994.0     4834.0  1742.0   740.0   1115.0      853.0   3575.0          565.0   \n",
       "1995.0     4656.0  1547.0   735.0   1022.0      848.0   3018.0          518.0   \n",
       "1996.0     4288.0  1410.0   792.0   1063.0      820.0   2545.0          554.0   \n",
       "1997.0     4045.0  1393.0   695.0    964.0      718.0   2230.0          463.0   \n",
       "\n",
       "                                       \n",
       "State  Pennsylvania Tennessee   Texas  \n",
       "Year                                   \n",
       "1993.0        741.0     554.0  2370.0  \n",
       "1994.0        616.0     519.0  2511.0  \n",
       "1995.0        673.0     465.0  2340.0  \n",
       "1996.0        580.0     504.0  2066.0  \n",
       "1997.0        524.0     468.0  1980.0  "
      ]
     },
     "execution_count": 97,
     "metadata": {},
     "output_type": "execute_result"
    }
   ],
   "source": [
    "df3 = df2.T[idx].T\n",
    "df3.head()"
   ]
  },
  {
   "cell_type": "code",
   "execution_count": 98,
   "metadata": {},
   "outputs": [
    {
     "data": {
      "text/plain": [
       "<matplotlib.legend.Legend at 0x7ff190425550>"
      ]
     },
     "execution_count": 98,
     "metadata": {},
     "output_type": "execute_result"
    },
    {
     "data": {
      "image/png": "[encoded data removed]",
      "text/plain": [
       "<Figure size 432x288 with 1 Axes>"
      ]
     },
     "metadata": {
      "needs_background": "light"
     },
     "output_type": "display_data"
    }
   ],
   "source": [
    "df3.plot()\n",
    "plt.ylim(0,6000)\n",
    "plt.ylabel('Num de Casos')\n",
    "plt.legend(df3.columns.get_level_values('State'),frameon=False)"
   ]
  },
  {
   "cell_type": "code",
   "execution_count": 99,
   "metadata": {},
   "outputs": [],
   "source": [
    "#df3.columns\n",
    "#df3.loc[:,[('Cases','California'),('Cases','Florida')]].plot()"
   ]
  },
  {
   "cell_type": "markdown",
   "metadata": {},
   "source": [
    "**7. Agrupamento**"
   ]
  },
  {
   "cell_type": "code",
   "execution_count": 100,
   "metadata": {},
   "outputs": [
    {
     "data": {
      "text/html": [
       "<div>\n",
       "<style scoped>\n",
       "    .dataframe tbody tr th:only-of-type {\n",
       "        vertical-align: middle;\n",
       "    }\n",
       "\n",
       "    .dataframe tbody tr th {\n",
       "        vertical-align: top;\n",
       "    }\n",
       "\n",
       "    .dataframe thead th {\n",
       "        text-align: right;\n",
       "    }\n",
       "</style>\n",
       "<table border=\"1\" class=\"dataframe\">\n",
       "  <thead>\n",
       "    <tr style=\"text-align: right;\">\n",
       "      <th></th>\n",
       "      <th>Letra</th>\n",
       "      <th>data1</th>\n",
       "      <th>data2</th>\n",
       "    </tr>\n",
       "  </thead>\n",
       "  <tbody>\n",
       "    <tr>\n",
       "      <th>0</th>\n",
       "      <td>A</td>\n",
       "      <td>0</td>\n",
       "      <td>2.0</td>\n",
       "    </tr>\n",
       "    <tr>\n",
       "      <th>1</th>\n",
       "      <td>B</td>\n",
       "      <td>1</td>\n",
       "      <td>2.5</td>\n",
       "    </tr>\n",
       "    <tr>\n",
       "      <th>2</th>\n",
       "      <td>C</td>\n",
       "      <td>2</td>\n",
       "      <td>3.0</td>\n",
       "    </tr>\n",
       "    <tr>\n",
       "      <th>3</th>\n",
       "      <td>A</td>\n",
       "      <td>3</td>\n",
       "      <td>3.5</td>\n",
       "    </tr>\n",
       "    <tr>\n",
       "      <th>4</th>\n",
       "      <td>B</td>\n",
       "      <td>4</td>\n",
       "      <td>4.0</td>\n",
       "    </tr>\n",
       "    <tr>\n",
       "      <th>5</th>\n",
       "      <td>C</td>\n",
       "      <td>5</td>\n",
       "      <td>4.5</td>\n",
       "    </tr>\n",
       "  </tbody>\n",
       "</table>\n",
       "</div>"
      ],
      "text/plain": [
       "  Letra  data1  data2\n",
       "0     A      0    2.0\n",
       "1     B      1    2.5\n",
       "2     C      2    3.0\n",
       "3     A      3    3.5\n",
       "4     B      4    4.0\n",
       "5     C      5    4.5"
      ]
     },
     "execution_count": 100,
     "metadata": {},
     "output_type": "execute_result"
    }
   ],
   "source": [
    "df = pd.DataFrame({'Letra': ['A', 'B', 'C', 'A', 'B', 'C'],\n",
    "                   'data1': range(6),\n",
    "                   'data2': np.arange(2,5.0,0.5)})                   \n",
    "df"
   ]
  },
  {
   "cell_type": "code",
   "execution_count": 101,
   "metadata": {},
   "outputs": [
    {
     "data": {
      "text/html": [
       "<div>\n",
       "<style scoped>\n",
       "    .dataframe tbody tr th:only-of-type {\n",
       "        vertical-align: middle;\n",
       "    }\n",
       "\n",
       "    .dataframe tbody tr th {\n",
       "        vertical-align: top;\n",
       "    }\n",
       "\n",
       "    .dataframe thead th {\n",
       "        text-align: right;\n",
       "    }\n",
       "</style>\n",
       "<table border=\"1\" class=\"dataframe\">\n",
       "  <thead>\n",
       "    <tr style=\"text-align: right;\">\n",
       "      <th></th>\n",
       "      <th>data1</th>\n",
       "      <th>data2</th>\n",
       "    </tr>\n",
       "    <tr>\n",
       "      <th>Letra</th>\n",
       "      <th></th>\n",
       "      <th></th>\n",
       "    </tr>\n",
       "  </thead>\n",
       "  <tbody>\n",
       "    <tr>\n",
       "      <th>A</th>\n",
       "      <td>3</td>\n",
       "      <td>5.5</td>\n",
       "    </tr>\n",
       "    <tr>\n",
       "      <th>B</th>\n",
       "      <td>5</td>\n",
       "      <td>6.5</td>\n",
       "    </tr>\n",
       "    <tr>\n",
       "      <th>C</th>\n",
       "      <td>7</td>\n",
       "      <td>7.5</td>\n",
       "    </tr>\n",
       "  </tbody>\n",
       "</table>\n",
       "</div>"
      ],
      "text/plain": [
       "       data1  data2\n",
       "Letra              \n",
       "A          3    5.5\n",
       "B          5    6.5\n",
       "C          7    7.5"
      ]
     },
     "execution_count": 101,
     "metadata": {},
     "output_type": "execute_result"
    }
   ],
   "source": [
    "#vamos agrupar pela coluna 'Letra'\n",
    "grupo = df.groupby('Letra')\n",
    "grupo.sum()"
   ]
  },
  {
   "cell_type": "code",
   "execution_count": 102,
   "metadata": {},
   "outputs": [
    {
     "data": {
      "text/plain": [
       "Letra\n",
       "A    1.5\n",
       "B    2.5\n",
       "C    3.5\n",
       "Name: data1, dtype: float64"
      ]
     },
     "execution_count": 102,
     "metadata": {},
     "output_type": "execute_result"
    }
   ],
   "source": [
    "grupo['data1'].mean()"
   ]
  },
  {
   "cell_type": "code",
   "execution_count": 103,
   "metadata": {},
   "outputs": [
    {
     "data": {
      "text/html": [
       "<div>\n",
       "<style scoped>\n",
       "    .dataframe tbody tr th:only-of-type {\n",
       "        vertical-align: middle;\n",
       "    }\n",
       "\n",
       "    .dataframe tbody tr th {\n",
       "        vertical-align: top;\n",
       "    }\n",
       "\n",
       "    .dataframe thead th {\n",
       "        text-align: right;\n",
       "    }\n",
       "</style>\n",
       "<table border=\"1\" class=\"dataframe\">\n",
       "  <thead>\n",
       "    <tr style=\"text-align: right;\">\n",
       "      <th></th>\n",
       "      <th>data1</th>\n",
       "      <th>data2</th>\n",
       "    </tr>\n",
       "    <tr>\n",
       "      <th>Letra</th>\n",
       "      <th></th>\n",
       "      <th></th>\n",
       "    </tr>\n",
       "  </thead>\n",
       "  <tbody>\n",
       "    <tr>\n",
       "      <th>A</th>\n",
       "      <td>0</td>\n",
       "      <td>3.5</td>\n",
       "    </tr>\n",
       "    <tr>\n",
       "      <th>B</th>\n",
       "      <td>1</td>\n",
       "      <td>4.0</td>\n",
       "    </tr>\n",
       "    <tr>\n",
       "      <th>C</th>\n",
       "      <td>2</td>\n",
       "      <td>4.5</td>\n",
       "    </tr>\n",
       "  </tbody>\n",
       "</table>\n",
       "</div>"
      ],
      "text/plain": [
       "       data1  data2\n",
       "Letra              \n",
       "A          0    3.5\n",
       "B          1    4.0\n",
       "C          2    4.5"
      ]
     },
     "execution_count": 103,
     "metadata": {},
     "output_type": "execute_result"
    }
   ],
   "source": [
    "#Aplicar operações diferentes em diferentes colunas\n",
    "grupo.aggregate({'data1':'min','data2':'max'})"
   ]
  },
  {
   "cell_type": "code",
   "execution_count": 104,
   "metadata": {},
   "outputs": [
    {
     "data": {
      "text/html": [
       "<div>\n",
       "<style scoped>\n",
       "    .dataframe tbody tr th:only-of-type {\n",
       "        vertical-align: middle;\n",
       "    }\n",
       "\n",
       "    .dataframe tbody tr th {\n",
       "        vertical-align: top;\n",
       "    }\n",
       "\n",
       "    .dataframe thead th {\n",
       "        text-align: right;\n",
       "    }\n",
       "</style>\n",
       "<table border=\"1\" class=\"dataframe\">\n",
       "  <thead>\n",
       "    <tr style=\"text-align: right;\">\n",
       "      <th></th>\n",
       "      <th>data1</th>\n",
       "      <th>data2</th>\n",
       "    </tr>\n",
       "    <tr>\n",
       "      <th>Letra</th>\n",
       "      <th></th>\n",
       "      <th></th>\n",
       "    </tr>\n",
       "  </thead>\n",
       "  <tbody>\n",
       "    <tr>\n",
       "      <th>A</th>\n",
       "      <td>0</td>\n",
       "      <td>2.0</td>\n",
       "    </tr>\n",
       "    <tr>\n",
       "      <th>B</th>\n",
       "      <td>1</td>\n",
       "      <td>2.5</td>\n",
       "    </tr>\n",
       "    <tr>\n",
       "      <th>C</th>\n",
       "      <td>2</td>\n",
       "      <td>3.0</td>\n",
       "    </tr>\n",
       "    <tr>\n",
       "      <th>A</th>\n",
       "      <td>3</td>\n",
       "      <td>3.5</td>\n",
       "    </tr>\n",
       "    <tr>\n",
       "      <th>B</th>\n",
       "      <td>4</td>\n",
       "      <td>4.0</td>\n",
       "    </tr>\n",
       "    <tr>\n",
       "      <th>C</th>\n",
       "      <td>5</td>\n",
       "      <td>4.5</td>\n",
       "    </tr>\n",
       "  </tbody>\n",
       "</table>\n",
       "</div>"
      ],
      "text/plain": [
       "       data1  data2\n",
       "Letra              \n",
       "A          0    2.0\n",
       "B          1    2.5\n",
       "C          2    3.0\n",
       "A          3    3.5\n",
       "B          4    4.0\n",
       "C          5    4.5"
      ]
     },
     "execution_count": 104,
     "metadata": {},
     "output_type": "execute_result"
    }
   ],
   "source": [
    "#agrupamento com mapeamento\n",
    "df2 = df.set_index('Letra')\n",
    "df2"
   ]
  },
  {
   "cell_type": "code",
   "execution_count": 105,
   "metadata": {},
   "outputs": [],
   "source": [
    "mapa = {'A':'vogal','B':'consoante','C':'consoante'}"
   ]
  },
  {
   "cell_type": "code",
   "execution_count": 106,
   "metadata": {},
   "outputs": [
    {
     "data": {
      "text/html": [
       "<div>\n",
       "<style scoped>\n",
       "    .dataframe tbody tr th:only-of-type {\n",
       "        vertical-align: middle;\n",
       "    }\n",
       "\n",
       "    .dataframe tbody tr th {\n",
       "        vertical-align: top;\n",
       "    }\n",
       "\n",
       "    .dataframe thead th {\n",
       "        text-align: right;\n",
       "    }\n",
       "</style>\n",
       "<table border=\"1\" class=\"dataframe\">\n",
       "  <thead>\n",
       "    <tr style=\"text-align: right;\">\n",
       "      <th></th>\n",
       "      <th>data1</th>\n",
       "      <th>data2</th>\n",
       "    </tr>\n",
       "  </thead>\n",
       "  <tbody>\n",
       "    <tr>\n",
       "      <th>consoante</th>\n",
       "      <td>12</td>\n",
       "      <td>14.0</td>\n",
       "    </tr>\n",
       "    <tr>\n",
       "      <th>vogal</th>\n",
       "      <td>3</td>\n",
       "      <td>5.5</td>\n",
       "    </tr>\n",
       "  </tbody>\n",
       "</table>\n",
       "</div>"
      ],
      "text/plain": [
       "           data1  data2\n",
       "consoante     12   14.0\n",
       "vogal          3    5.5"
      ]
     },
     "execution_count": 106,
     "metadata": {},
     "output_type": "execute_result"
    }
   ],
   "source": [
    "df2.groupby(mapa).sum()"
   ]
  },
  {
   "cell_type": "code",
   "execution_count": 107,
   "metadata": {},
   "outputs": [],
   "source": [
    "#for l,g in grupo:\n",
    "#    print(l,'\\n',g)"
   ]
  },
  {
   "cell_type": "markdown",
   "metadata": {},
   "source": [
    "**8. Concatenação**"
   ]
  },
  {
   "cell_type": "code",
   "execution_count": 108,
   "metadata": {},
   "outputs": [],
   "source": [
    "df1 = pd.DataFrame({'A':('A1','A2'),'B':('B1','B2')},index=[1,2])\n",
    "df2 = pd.DataFrame({'A':('A3','A4'),'B':('B3','B4')},index=[3,4])"
   ]
  },
  {
   "cell_type": "code",
   "execution_count": 109,
   "metadata": {},
   "outputs": [
    {
     "name": "stdout",
     "output_type": "stream",
     "text": [
      "    A   B\n",
      "1  A1  B1\n",
      "2  A2  B2\n",
      "\n",
      "     A   B\n",
      "3  A3  B3\n",
      "4  A4  B4\n"
     ]
    }
   ],
   "source": [
    "print(df1);print('\\n',df2)"
   ]
  },
  {
   "cell_type": "code",
   "execution_count": 110,
   "metadata": {},
   "outputs": [
    {
     "data": {
      "text/html": [
       "<div>\n",
       "<style scoped>\n",
       "    .dataframe tbody tr th:only-of-type {\n",
       "        vertical-align: middle;\n",
       "    }\n",
       "\n",
       "    .dataframe tbody tr th {\n",
       "        vertical-align: top;\n",
       "    }\n",
       "\n",
       "    .dataframe thead th {\n",
       "        text-align: right;\n",
       "    }\n",
       "</style>\n",
       "<table border=\"1\" class=\"dataframe\">\n",
       "  <thead>\n",
       "    <tr style=\"text-align: right;\">\n",
       "      <th></th>\n",
       "      <th>A</th>\n",
       "      <th>B</th>\n",
       "    </tr>\n",
       "  </thead>\n",
       "  <tbody>\n",
       "    <tr>\n",
       "      <th>1</th>\n",
       "      <td>A1</td>\n",
       "      <td>B1</td>\n",
       "    </tr>\n",
       "    <tr>\n",
       "      <th>2</th>\n",
       "      <td>A2</td>\n",
       "      <td>B2</td>\n",
       "    </tr>\n",
       "    <tr>\n",
       "      <th>3</th>\n",
       "      <td>A3</td>\n",
       "      <td>B3</td>\n",
       "    </tr>\n",
       "    <tr>\n",
       "      <th>4</th>\n",
       "      <td>A4</td>\n",
       "      <td>B4</td>\n",
       "    </tr>\n",
       "  </tbody>\n",
       "</table>\n",
       "</div>"
      ],
      "text/plain": [
       "    A   B\n",
       "1  A1  B1\n",
       "2  A2  B2\n",
       "3  A3  B3\n",
       "4  A4  B4"
      ]
     },
     "execution_count": 110,
     "metadata": {},
     "output_type": "execute_result"
    }
   ],
   "source": [
    "pd.concat([df1,df2])"
   ]
  },
  {
   "cell_type": "code",
   "execution_count": 111,
   "metadata": {},
   "outputs": [],
   "source": [
    "df3 = pd.DataFrame({'A':('A5','A6'),'B':('B5','B6'),'C':('C1','C2')},index=[1,2])"
   ]
  },
  {
   "cell_type": "code",
   "execution_count": 112,
   "metadata": {},
   "outputs": [
    {
     "data": {
      "text/html": [
       "<div>\n",
       "<style scoped>\n",
       "    .dataframe tbody tr th:only-of-type {\n",
       "        vertical-align: middle;\n",
       "    }\n",
       "\n",
       "    .dataframe tbody tr th {\n",
       "        vertical-align: top;\n",
       "    }\n",
       "\n",
       "    .dataframe thead th {\n",
       "        text-align: right;\n",
       "    }\n",
       "</style>\n",
       "<table border=\"1\" class=\"dataframe\">\n",
       "  <thead>\n",
       "    <tr style=\"text-align: right;\">\n",
       "      <th></th>\n",
       "      <th>A</th>\n",
       "      <th>B</th>\n",
       "      <th>C</th>\n",
       "    </tr>\n",
       "  </thead>\n",
       "  <tbody>\n",
       "    <tr>\n",
       "      <th>1</th>\n",
       "      <td>A1</td>\n",
       "      <td>B1</td>\n",
       "      <td>NaN</td>\n",
       "    </tr>\n",
       "    <tr>\n",
       "      <th>2</th>\n",
       "      <td>A2</td>\n",
       "      <td>B2</td>\n",
       "      <td>NaN</td>\n",
       "    </tr>\n",
       "    <tr>\n",
       "      <th>1</th>\n",
       "      <td>A5</td>\n",
       "      <td>B5</td>\n",
       "      <td>C1</td>\n",
       "    </tr>\n",
       "    <tr>\n",
       "      <th>2</th>\n",
       "      <td>A6</td>\n",
       "      <td>B6</td>\n",
       "      <td>C2</td>\n",
       "    </tr>\n",
       "  </tbody>\n",
       "</table>\n",
       "</div>"
      ],
      "text/plain": [
       "    A   B    C\n",
       "1  A1  B1  NaN\n",
       "2  A2  B2  NaN\n",
       "1  A5  B5   C1\n",
       "2  A6  B6   C2"
      ]
     },
     "execution_count": 112,
     "metadata": {},
     "output_type": "execute_result"
    }
   ],
   "source": [
    "pd.concat([df1,df3],sort=True)"
   ]
  },
  {
   "cell_type": "code",
   "execution_count": 113,
   "metadata": {},
   "outputs": [
    {
     "data": {
      "text/html": [
       "<div>\n",
       "<style scoped>\n",
       "    .dataframe tbody tr th:only-of-type {\n",
       "        vertical-align: middle;\n",
       "    }\n",
       "\n",
       "    .dataframe tbody tr th {\n",
       "        vertical-align: top;\n",
       "    }\n",
       "\n",
       "    .dataframe thead th {\n",
       "        text-align: right;\n",
       "    }\n",
       "</style>\n",
       "<table border=\"1\" class=\"dataframe\">\n",
       "  <thead>\n",
       "    <tr style=\"text-align: right;\">\n",
       "      <th></th>\n",
       "      <th>A</th>\n",
       "      <th>B</th>\n",
       "      <th>A</th>\n",
       "      <th>B</th>\n",
       "      <th>C</th>\n",
       "    </tr>\n",
       "  </thead>\n",
       "  <tbody>\n",
       "    <tr>\n",
       "      <th>1</th>\n",
       "      <td>A1</td>\n",
       "      <td>B1</td>\n",
       "      <td>A5</td>\n",
       "      <td>B5</td>\n",
       "      <td>C1</td>\n",
       "    </tr>\n",
       "    <tr>\n",
       "      <th>2</th>\n",
       "      <td>A2</td>\n",
       "      <td>B2</td>\n",
       "      <td>A6</td>\n",
       "      <td>B6</td>\n",
       "      <td>C2</td>\n",
       "    </tr>\n",
       "  </tbody>\n",
       "</table>\n",
       "</div>"
      ],
      "text/plain": [
       "    A   B   A   B   C\n",
       "1  A1  B1  A5  B5  C1\n",
       "2  A2  B2  A6  B6  C2"
      ]
     },
     "execution_count": 113,
     "metadata": {},
     "output_type": "execute_result"
    }
   ],
   "source": [
    "pd.concat([df1,df3],axis=1,sort=True)"
   ]
  },
  {
   "cell_type": "code",
   "execution_count": null,
   "metadata": {},
   "outputs": [],
   "source": []
  }
 ],
 "metadata": {
  "kernelspec": {
   "display_name": "Python 3",
   "language": "python",
   "name": "python3"
  },
  "language_info": {
   "codemirror_mode": {
    "name": "ipython",
    "version": 3
   },
   "file_extension": ".py",
   "mimetype": "text/x-python",
   "name": "python",
   "nbconvert_exporter": "python",
   "pygments_lexer": "ipython3",
   "version": "3.7.4"
  }
 },
 "nbformat": 4,
 "nbformat_minor": 2
}

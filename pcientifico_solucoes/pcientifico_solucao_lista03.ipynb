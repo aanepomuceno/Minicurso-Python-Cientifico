{
 "cells": [
  {
   "cell_type": "markdown",
   "metadata": {},
   "source": [
    "# Minicurso Python Científico\n",
    "## Lista 03 - Solução\n",
    "## Andre Nepomuceno - UFF"
   ]
  },
  {
   "cell_type": "code",
   "execution_count": null,
   "metadata": {},
   "outputs": [],
   "source": [
    "import numpy as np\n",
    "import matplotlib.pyplot as plt\n",
    "from mpl_toolkits.mplot3d import Axes3D\n",
    "from scipy.special import jn, jn_zeros\n",
    "from scipy.optimize import curve_fit, newton,minimize_scalar\n",
    "%matplotlib inline"
   ]
  },
  {
   "cell_type": "markdown",
   "metadata": {},
   "source": [
    "**Questão 3.1**"
   ]
  },
  {
   "cell_type": "code",
   "execution_count": null,
   "metadata": {},
   "outputs": [],
   "source": [
    "alpha, beta = 4.3, 1.6\n",
    "A = np.array([[alpha,beta], [-beta,alpha]])\n",
    "print(A)"
   ]
  },
  {
   "cell_type": "code",
   "execution_count": null,
   "metadata": {},
   "outputs": [],
   "source": [
    "val, vec = np.linalg.eig(A)\n",
    "print('Autovalores:')\n",
    "print(val)\n",
    "print('Autovetores:')\n",
    "print(f'x1 = {vec[:,0]}')\n",
    "print(f'x2 = {vec[:,1]}')"
   ]
  },
  {
   "cell_type": "markdown",
   "metadata": {},
   "source": [
    "**Questão 3.2**"
   ]
  },
  {
   "cell_type": "code",
   "execution_count": null,
   "metadata": {},
   "outputs": [],
   "source": [
    "#Vamos criar um função para realocar o vetor posição ri de cada massa\n",
    "# em relação ao centro de massa R\n",
    "#Na função, r é um array 2D e M um array 1D com as massas do sistema\n",
    "#O array r tem shape (n,3), onde 'n' é o número de partículas do sistema. Cada LINHA\n",
    "#da matriz r representa as compoentes (x,y,z) de uma dada partícula. \n",
    "def realoc(r,M):\n",
    "    R1 = r*M[:,np.newaxis]       #np.newaxis transforma M num vetor coluna\n",
    "    R = R1.sum(axis=0)/M.sum()   #coord. do centro de massa (CM)\n",
    "    return r - R                 #novo vetor posição em relação ao CM"
   ]
  },
  {
   "cell_type": "code",
   "execution_count": null,
   "metadata": {},
   "outputs": [],
   "source": [
    "#Função para criar a matriz momento de inércia I\n",
    "def momento_inercia(r,M):\n",
    "    Ixx,Iyy,Izz,Ixy,Iyz,Ixz = np.zeros(6)\n",
    "    x,y,z = [0,1,2]\n",
    "    rcm = realoc(r,M)\n",
    "    for i in range(M.size):\n",
    "        Ixx += M[i]*(rcm[i,y]**2 + rcm[i,z]**2)\n",
    "        Iyy += M[i]*(rcm[i,x]**2 + rcm[i,z]**2)\n",
    "        Izz += M[i]*(rcm[i,x]**2 + rcm[i,y]**2)\n",
    "        Ixy += -M[i]*rcm[i,x]*rcm[i,y]\n",
    "        Iyz += -M[i]*rcm[i,y]*rcm[i,z]\n",
    "        Ixz += -M[i]*rcm[i,x]*rcm[i,z]\n",
    "    return np.array([ [Ixx,Ixy,Ixz],[Ixy,Iyy,Iyz],[Ixz,Iyz,Izz]])    "
   ]
  },
  {
   "cell_type": "code",
   "execution_count": null,
   "metadata": {},
   "outputs": [],
   "source": [
    "#Importar o arquivo dados_moleculas.dat \n",
    "#Nesse arquivo, a primeira coluna são as massas, e as demais x,y,z.\n",
    "data = np.loadtxt('../pcientifico_dados/dados_moleculas.dat')\n",
    "data[:7]"
   ]
  },
  {
   "cell_type": "code",
   "execution_count": null,
   "metadata": {},
   "outputs": [],
   "source": [
    "#Dados do NH3\n",
    "data_NH3 = data[:4].copy()\n",
    "data_NH3"
   ]
  },
  {
   "cell_type": "code",
   "execution_count": null,
   "metadata": {},
   "outputs": [],
   "source": [
    "M1 = data_NH3[:,0]\n",
    "r1 = data_NH3[:,1:]\n",
    "r1"
   ]
  },
  {
   "cell_type": "code",
   "execution_count": null,
   "metadata": {},
   "outputs": [],
   "source": [
    "#A unidade de I é (unidade atomica) x angstrom^2\n",
    "I = momento_inercia(r1,M1)\n",
    "I"
   ]
  },
  {
   "cell_type": "code",
   "execution_count": null,
   "metadata": {},
   "outputs": [],
   "source": [
    "I_principal_NH3 = np.linalg.eigvals(I)\n",
    "I_principal_NH3"
   ]
  },
  {
   "cell_type": "code",
   "execution_count": null,
   "metadata": {},
   "outputs": [],
   "source": [
    "#Dados do CH4\n",
    "data_CH4 = data[4:9].copy()\n",
    "data_CH4"
   ]
  },
  {
   "cell_type": "code",
   "execution_count": null,
   "metadata": {},
   "outputs": [],
   "source": [
    "M2 = data_CH4[:,0]\n",
    "r2 = data_CH4[:,1:]\n",
    "I_principal_CH4 = np.linalg.eigvals(momento_inercia(r2,M2))\n",
    "I_principal_CH4"
   ]
  },
  {
   "cell_type": "markdown",
   "metadata": {},
   "source": [
    "O espectro rotacional de uma molécula é determinado por sua simetria, e existe uma classificação baseada nos seus momentos principais de inércia. Quando I_a = I_b = I_c, a molécula é 'spherical top' (é o caso do CH4). Quando I_a = I_b, ou I_b = I_c, a molécula é 'Symmetric top' (caso do NH3 acima). \n",
    "Para mais detalhes da física envolvida nesta questão, veja capítulo 11 do livro Classical Dynamics of Particle and Systems, de Thornton & Marion, 5 edição. "
   ]
  },
  {
   "cell_type": "markdown",
   "metadata": {},
   "source": [
    "**Questão 3.3**"
   ]
  },
  {
   "cell_type": "code",
   "execution_count": null,
   "metadata": {},
   "outputs": [],
   "source": [
    "#Vamos montar um eq. matricial do tipo Mx = b, onde x = (fin_1,fin_2,fin_3)\n",
    "M = np.array([ [1/6,1/3,1/2],[1/3,1/3,1/2],[1/2,1/3,0]])\n",
    "b = np.array([4/3,3/2,7/6])\n",
    "print(M)"
   ]
  },
  {
   "cell_type": "code",
   "execution_count": null,
   "metadata": {},
   "outputs": [],
   "source": [
    "#resolver para fin_i\n",
    "fin1, fin2, fin3 = np.linalg.solve(M,b)\n",
    "print('fin1 = {:.2f} L/s'.format(fin1))\n",
    "print('fin2 = {:.2f} L/s'.format(fin2))\n",
    "print('fin3 = {:.2f} L/s'.format(fin3))"
   ]
  },
  {
   "cell_type": "markdown",
   "metadata": {},
   "source": [
    "**Questão 3.4**"
   ]
  },
  {
   "cell_type": "code",
   "execution_count": null,
   "metadata": {},
   "outputs": [],
   "source": [
    "#função que retorna z(r,theta,t)\n",
    "#como t=0, cos(k*nu*t) =1, e o valor de nu é irrelevante\n",
    "def z(r,theta,n,m):\n",
    "    k = jn_zeros(n,m)[-1] #ultimo elemento do array, já que k é o m-ésino zero da função\n",
    "    return jn(n,k*r)*np.sin(n*theta)"
   ]
  },
  {
   "cell_type": "code",
   "execution_count": null,
   "metadata": {},
   "outputs": [],
   "source": [
    "#criar arrays r e theta, calcular x e y\n",
    "r = np.linspace(0,1,100)\n",
    "theta = np.linspace(0,2*np.pi,100)\n",
    "x = np.array([rr*np.cos(theta) for rr in r])\n",
    "y = np.array([rr*np.sin(theta) for rr in r])"
   ]
  },
  {
   "cell_type": "code",
   "execution_count": null,
   "metadata": {},
   "outputs": [],
   "source": [
    "Z1 = np.array([z(rr,theta,n=1,m=1) for rr in r ])\n",
    "Z2 = np.array([z(rr,theta,n=2,m=1) for rr in r ])\n",
    "fig, ax = plt.subplots(figsize=(14,6),ncols=2, subplot_kw={'projection':'3d'})\n",
    "ax[0].plot_surface(x,y,Z1,rstride=10,cstride=10, cmap='Blues')\n",
    "ax[1].plot_surface(x,y,Z2,rstride=10,cstride=10, cmap='Blues')\n",
    "ax[0].set_xlim(-0.9,0.9)\n",
    "ax[1].set_xlim(-0.9,0.9)"
   ]
  },
  {
   "cell_type": "markdown",
   "metadata": {},
   "source": [
    "**Questão 3.5**"
   ]
  },
  {
   "cell_type": "code",
   "execution_count": null,
   "metadata": {},
   "outputs": [],
   "source": [
    "#Vamos implementar o método e Newton\n",
    "x0 = 1.\n",
    "f = lambda x: x**3 - 5*x\n",
    "fprime = lambda x: 3*x**2 - 5\n",
    "x = x0\n",
    "for i in np.arange(10):\n",
    "    x -= f(x)/fprime(x)\n",
    "    print(f'{x:5}')"
   ]
  },
  {
   "cell_type": "markdown",
   "metadata": {},
   "source": [
    "Vemos que o valor de x oscila sempre entre -1 e 1, e a convergência nunca é alcançada. No cado do item (b), o ponto inicial escolhido faz o algoritmo divergir para grande valores. "
   ]
  },
  {
   "cell_type": "code",
   "execution_count": null,
   "metadata": {},
   "outputs": [],
   "source": [
    "#Vamos escolher outros pontos iniciais\n",
    "#a) x0 = 2\n",
    "xsol = newton(f,2,fprime=fprime)\n",
    "print(f'x = {xsol}')"
   ]
  },
  {
   "cell_type": "code",
   "execution_count": null,
   "metadata": {},
   "outputs": [],
   "source": [
    "np.isclose(f(xsol),0,atol=1e-10)"
   ]
  },
  {
   "cell_type": "code",
   "execution_count": null,
   "metadata": {},
   "outputs": [],
   "source": [
    "#b) x0 = 1.1\n",
    "f2 = lambda x: 2 - x**5\n",
    "xsol = newton(f2,1.1)\n",
    "print(f'x = {xsol}')"
   ]
  },
  {
   "cell_type": "code",
   "execution_count": null,
   "metadata": {},
   "outputs": [],
   "source": [
    "np.isclose(f2(xsol),0,atol=1e-10)"
   ]
  },
  {
   "cell_type": "markdown",
   "metadata": {},
   "source": [
    "**Questão 3.6**"
   ]
  },
  {
   "cell_type": "code",
   "execution_count": null,
   "metadata": {},
   "outputs": [],
   "source": [
    "#Como queremos minimizar uma função escalar, vamos utilizar o método minimize_scalar\n",
    "#Primeiro, definimos as constantes (no SI)\n",
    "Tar = 293      #K\n",
    "q = 75         #W/m\n",
    "h = 12         #W/m2K\n",
    "rw = 6e-3      #m\n",
    "k = 0.17       #W/mK"
   ]
  },
  {
   "cell_type": "code",
   "execution_count": null,
   "metadata": {},
   "outputs": [],
   "source": [
    "def T(r):\n",
    "    T = Tar + q/(2*np.pi)*( (1/k)*np.log( (rw + r)/rw ) + (1/h)*(1/(rw + r)) )\n",
    "    return T"
   ]
  },
  {
   "cell_type": "code",
   "execution_count": null,
   "metadata": {},
   "outputs": [],
   "source": [
    "r = np.linspace(0,30e-3,100)\n",
    "plt.plot(r,T(r))"
   ]
  },
  {
   "cell_type": "code",
   "execution_count": null,
   "metadata": {},
   "outputs": [],
   "source": [
    "ri = minimize_scalar(T,(0.001,0.01))\n",
    "ri"
   ]
  },
  {
   "cell_type": "code",
   "execution_count": null,
   "metadata": {},
   "outputs": [],
   "source": [
    "print(\"Espessura que minimiza a temperatura do fio:\")\n",
    "print(f'ri = {ri.x*1000:.2f} mm')"
   ]
  },
  {
   "cell_type": "markdown",
   "metadata": {},
   "source": [
    "**Questão 3.7**"
   ]
  },
  {
   "cell_type": "code",
   "execution_count": null,
   "metadata": {},
   "outputs": [],
   "source": [
    "#importar o arquivo higgs_data.csv com numpy\n",
    "data_set = np.loadtxt('../pcientifico_dados/higgs_data.csv',delimiter=',')\n",
    "data_m = data_set[:,0] \n",
    "data_ev = data_set[:,1] "
   ]
  },
  {
   "cell_type": "code",
   "execution_count": null,
   "metadata": {},
   "outputs": [],
   "source": [
    "#plot os dados\n",
    "plt.plot(data_m,data_ev,'ok')"
   ]
  },
  {
   "cell_type": "code",
   "execution_count": null,
   "metadata": {},
   "outputs": [],
   "source": [
    "#Vamos definir as funções bkg, sig, e f_H\n",
    "def f_bkg(x,par_b):\n",
    "    a,b,c,d = par_b\n",
    "    return a*x**3 + b*x**2 + c*x + d     "
   ]
  },
  {
   "cell_type": "code",
   "execution_count": null,
   "metadata": {},
   "outputs": [],
   "source": [
    "def f_sig(x,par_s):\n",
    "    A,mu,sigma = par_s\n",
    "    return A*np.exp( -0.5*( (x-mu)**2/sigma**2) )"
   ]
  },
  {
   "cell_type": "code",
   "execution_count": null,
   "metadata": {},
   "outputs": [],
   "source": [
    "def f_H (x,*parms):\n",
    "    par_b = parms[:4]\n",
    "    par_s = parms[4:]\n",
    "    return f_bkg(x,par_b) + f_sig(x,par_s)"
   ]
  },
  {
   "cell_type": "code",
   "execution_count": null,
   "metadata": {},
   "outputs": [],
   "source": [
    "#pontos iniciais e erros\n",
    "#os pontos iniciais se referem aos seguintes parametros, nesta ordem:\n",
    "#[a,b,c,d,A,mu,sigma]\n",
    "p0 = [ 5.,5.,100.,100.,250,115.,10.]\n",
    "delta_y = np.sqrt(data_ev)"
   ]
  },
  {
   "cell_type": "code",
   "execution_count": null,
   "metadata": {},
   "outputs": [],
   "source": [
    "popt, pcov = curve_fit(f_H,data_m,data_ev,p0=p0,sigma=delta_y,absolute_sigma=True)"
   ]
  },
  {
   "cell_type": "code",
   "execution_count": null,
   "metadata": {},
   "outputs": [],
   "source": [
    "popt"
   ]
  },
  {
   "cell_type": "code",
   "execution_count": null,
   "metadata": {},
   "outputs": [],
   "source": [
    "#Erro nos parâmetros ajustados\n",
    "err = np.sqrt(np.diag(pcov))"
   ]
  },
  {
   "cell_type": "code",
   "execution_count": null,
   "metadata": {},
   "outputs": [],
   "source": [
    "print('Massa do Higgs: {:.2f} +/- {:.2f} GeV'.format(popt[5],err[5]))"
   ]
  },
  {
   "cell_type": "code",
   "execution_count": null,
   "metadata": {},
   "outputs": [],
   "source": [
    "#plt.errorbar(data_m,data_ev, yerr= delta_y,c='k',marker='o',lw=0,label='Dados')\n",
    "plt.plot(data_m,data_ev,'ok',label='Dados')\n",
    "plt.plot(data_m,f_H(data_m,*popt),'b',lw=2,label='Sig + Bkg')\n",
    "plt.plot(data_m,f_bkg(data_m,popt[:4]),'r',ls='--',label='Bkg')\n",
    "plt.ylim(500,3700)\n",
    "plt.xlabel('$M_{\\gamma \\gamma}$ [GeV]',fontsize=12)\n",
    "plt.ylabel('Events /2 GeV',fontsize=12,labelpad=13)\n",
    "plt.legend(frameon=False, fontsize=12)"
   ]
  }
 ],
 "metadata": {
  "kernelspec": {
   "display_name": "Python 3 (ipykernel)",
   "language": "python",
   "name": "python3"
  },
  "language_info": {
   "codemirror_mode": {
    "name": "ipython",
    "version": 3
   },
   "file_extension": ".py",
   "mimetype": "text/x-python",
   "name": "python",
   "nbconvert_exporter": "python",
   "pygments_lexer": "ipython3",
   "version": "3.9.5"
  }
 },
 "nbformat": 4,
 "nbformat_minor": 2
}
